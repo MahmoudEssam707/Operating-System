{
 "cells": [
  {
   "cell_type": "code",
   "execution_count": 41,
   "metadata": {},
   "outputs": [
    {
     "name": "stdout",
     "output_type": "stream",
     "text": [
      "Tree structure:\n",
      "C:\n",
      "  folder1\n",
      "    file1\n",
      "      Attributes:\n",
      "                Name: file1\n",
      "                Identifier: bbb427b1-f979-4513-8c36-f370227c4e44\n",
      "                Type: txt\n",
      "                Protection: rw\n",
      "                Created: 2023-12-28 11:29:17\n",
      "                Modified: 2023-12-28 11:29:17\n",
      "                Accessed: 2023-12-28 11:29:17\n",
      "                Content: file1\n",
      "                Size: 5\n",
      "    file2\n",
      "      Attributes:\n",
      "                Name: file2\n",
      "                Identifier: d0feff07-fbe6-4699-9d8f-08722a69e248\n",
      "                Type: txt\n",
      "                Protection: rw-\n",
      "                Created: 2023-12-28 11:29:32\n",
      "                Modified: 2023-12-28 11:29:32\n",
      "                Accessed: 2023-12-28 11:29:32\n",
      "                Content: file2\n",
      "                Size: 5\n",
      "    Attributes:\n",
      "            Name: folder1\n",
      "            Identifier: 6029596b-7b4f-49a5-928c-92c1d6ba89b6\n",
      "            Type: Directory\n",
      "            Protection: rw\n",
      "            Created: 2023-12-28 11:29:08\n",
      "            Modified: 2023-12-28 11:29:08\n",
      "            Accessed: 2023-12-28 11:29:08\n",
      "  folder2\n",
      "    Attributes:\n",
      "            Name: folder2\n",
      "            Identifier: 2389f834-eb45-4919-9a7c-9997989e75a5\n",
      "            Type: Directory\n",
      "            Protection: rw\n",
      "            Created: 2023-12-28 11:29:45\n",
      "            Modified: 2023-12-28 11:29:45\n",
      "            Accessed: 2023-12-28 11:29:45\n",
      "  Attributes:\n",
      "        Name: C:\n",
      "        UUID: 1ed9a09e-5a98-4178-8581-9696874ee6a7\n",
      "        Total Size: 4096\n",
      "        Used Space: 10\n",
      "        Free Space: 4086\n"
     ]
    }
   ],
   "source": [
    "import datetime\n",
    "import uuid\n",
    "\n",
    "class Node:\n",
    "    def __init__(self, value):\n",
    "        self.value = value\n",
    "        self.children = []\n",
    "        self.info = {}  # Store additional attributes for special types\n",
    "\n",
    "    def add_child(self, child):\n",
    "        self.children.append(child)\n",
    "\n",
    "def create_tree():\n",
    "    root_value = input(\"Enter the name for the root node: \")\n",
    "    root = Node(root_value)\n",
    "\n",
    "    # Add attributes to the root\n",
    "    root.info[\"Name\"] = root_value\n",
    "    root.info[\"UUID\"] = str(uuid.uuid4())\n",
    "    root.info[\"Total Size\"] = int(input(\"Enter the total size for the root node: \"))\n",
    "    root.info[\"Used Space\"] = 0\n",
    "    root.info[\"Free Space\"] = int(root.info[\"Total Size\"])\n",
    "\n",
    "    while True:\n",
    "\n",
    "        choice = input(f\"Do you want to add a child to node {root.value}? (y/n): \")\n",
    "        if choice.lower() != 'y':\n",
    "            break\n",
    "\n",
    "        child_value = input(\"Enter the name for the child node: \")\n",
    "        child_type = input(\"Enter the type for the child node: \")\n",
    "\n",
    "        child = Node(child_value)\n",
    "        root.add_child(child)\n",
    "\n",
    "        if child_type == \"file\":\n",
    "            # Add attributes for special type\n",
    "            child.info[\"Name\"] = child_value\n",
    "            child.info[\"Identifier\"] = str(uuid.uuid4())  # Generate unique identifier\n",
    "            child.info[\"Type\"] = input(\"Enter Type: \")\n",
    "            child.info[\"Protection\"] = input(\"Enter Protection (e.g., rw): \")\n",
    "            child.info[\"Created\"] = datetime.datetime.now().strftime(\"%Y-%m-%d %H:%M:%S\")\n",
    "            child.info[\"Modified\"] = child.info[\"Created\"]\n",
    "            child.info[\"Accessed\"] = child.info[\"Created\"]\n",
    "            child.info[\"Content\"] = input(\"Enter Content: \")\n",
    "            child.info[\"Size\"] = len(child.info[\"Content\"])\n",
    "             # Update space only for the root node (representative of the filesystem)\n",
    "            root.info[\"Used Space\"] += int(child.info[\"Size\"])\n",
    "            root.info[\"Free Space\"] -= int(child.info[\"Size\"])\n",
    "            if root.info[\"Free Space\"] < 0:\n",
    "                print(\"insufficient space\")\n",
    "                exit()\n",
    "        elif child_type == 'folder':\n",
    "            # Add attributes for special type\n",
    "            child.info[\"Name\"] = child_value\n",
    "            child.info[\"Identifier\"] = str(uuid.uuid4())  # Generate unique identifier\n",
    "            child.info[\"Type\"] = \"Directory\"\n",
    "            child.info[\"Protection\"] = input(\"Enter Protection (e.g., rw): \")\n",
    "            child.info[\"Created\"] = datetime.datetime.now().strftime(\"%Y-%m-%d %H:%M:%S\")\n",
    "            child.info[\"Modified\"] = child.info[\"Created\"]\n",
    "            child.info[\"Accessed\"] = child.info[\"Created\"]\n",
    "\n",
    "\n",
    "        # Recursively create children for the added child, passing the root\n",
    "        create_tree_recursive(root, child)\n",
    "\n",
    "    return root\n",
    "\n",
    "def create_tree_recursive(root, node):\n",
    "    while True:\n",
    "        choice = input(f\"Do you want to add a child to node {node.value}? (y/n): \")\n",
    "        if choice.lower() != 'y':\n",
    "            break\n",
    "\n",
    "        child_value = input(\"Enter the name for the child node: \")\n",
    "        child_type = input(\"Enter the type for the child node: \")\n",
    "\n",
    "        child = Node(child_value)\n",
    "        node.add_child(child)\n",
    "\n",
    "        if child_type == \"file\":\n",
    "            # Add attributes for special type\n",
    "            child.info[\"Name\"] = child_value\n",
    "            child.info[\"Identifier\"] = str(uuid.uuid4())  # Generate unique identifier\n",
    "            child.info[\"Type\"] = input(\"Enter Type: \")\n",
    "            child.info[\"Protection\"] = input(\"Enter Protection (e.g., rw): \")\n",
    "            child.info[\"Created\"] = datetime.datetime.now().strftime(\"%Y-%m-%d %H:%M:%S\")\n",
    "            child.info[\"Modified\"] = child.info[\"Created\"]\n",
    "            child.info[\"Accessed\"] = child.info[\"Created\"]\n",
    "            child.info[\"Content\"] = input(\"Enter Content: \")\n",
    "            child.info[\"Size\"] = len(child.info[\"Content\"])\n",
    "             # Update space only for the root node (representative of the filesystem)\n",
    "            root.info[\"Used Space\"] += int(child.info[\"Size\"])\n",
    "            root.info[\"Free Space\"] -= int(child.info[\"Size\"])\n",
    "            if root.info[\"Free Space\"] < 0:\n",
    "                print(\"insufficient space\")\n",
    "                exit()\n",
    "        elif child_type == 'folder':\n",
    "            # Add attributes for special type\n",
    "            child.info[\"Name\"] = child_value\n",
    "            child.info[\"Identifier\"] = str(uuid.uuid4())  # Generate unique identifier\n",
    "            child.info[\"Type\"] = \"Directory\"\n",
    "            child.info[\"Protection\"] = input(\"Enter Protection (e.g., rw): \")\n",
    "            child.info[\"Created\"] = datetime.datetime.now().strftime(\"%Y-%m-%d %H:%M:%S\")\n",
    "            child.info[\"Modified\"] = child.info[\"Created\"]\n",
    "            child.info[\"Accessed\"] = child.info[\"Created\"]\n",
    "            \n",
    "\n",
    "def print_tree(node, level=0):\n",
    "    print(\"  \" * level + str(node.value))\n",
    "    for child in node.children:\n",
    "        print_tree(child, level + 1)\n",
    "\n",
    "    # Check for special type and print its info\n",
    "    if node.info:\n",
    "        print(\"  \" * (level + 1) + \"Attributes:\")\n",
    "        for key, value in node.info.items():\n",
    "            print(\"    \" * (level + 2) + f\"{key}: {value}\")\n",
    "\n",
    "# Example usage\n",
    "tree = create_tree()\n",
    "print(\"Tree structure:\")\n",
    "print_tree(tree)\n"
   ]
  },
  {
   "cell_type": "markdown",
   "metadata": {},
   "source": [
    "# Adding File"
   ]
  },
  {
   "cell_type": "code",
   "execution_count": 42,
   "metadata": {},
   "outputs": [],
   "source": [
    "def add_file(root, parent_value, child_value, child_type=\"file\"):\n",
    "    \"\"\"Adds a child node to an existing child node.\"\"\"\n",
    "\n",
    "    def find_parent(node):\n",
    "        \"\"\"Recursively searches for the parent node with the given value.\"\"\"\n",
    "        if node.value == parent_value:\n",
    "            return node\n",
    "\n",
    "        for child in node.children:\n",
    "            parent = find_parent(child)\n",
    "            if parent:\n",
    "                return parent\n",
    "\n",
    "        return None  # Parent node not found\n",
    "\n",
    "    parent = find_parent(root)\n",
    "    if parent:\n",
    "        child = Node(child_value)\n",
    "        parent.add_child(child)\n",
    "\n",
    "        if child_type == \"file\":\n",
    "            # Add attributes for special type\n",
    "            child.info[\"Name\"] = child_value\n",
    "            child.info[\"Identifier\"] = str(uuid.uuid4())  # Generate unique identifier\n",
    "            child.info[\"Type\"] = input(\"Enter Type: \")\n",
    "            \n",
    "            child.info[\"Protection\"] = input(\"Enter Protection (e.g., rw): \")\n",
    "            child.info[\"Created\"] = datetime.datetime.now().strftime(\"%Y-%m-%d %H:%M:%S\")\n",
    "            child.info[\"Modified\"] = child.info[\"Created\"]\n",
    "            child.info[\"Accessed\"] = child.info[\"Created\"]\n",
    "            child.info[\"Content\"] = input(\"Enter Content: \")\n",
    "            child.info[\"Size\"] = len(child.info[\"Content\"])\n",
    "\n",
    "        # Update space usage if necessary\n",
    "        if \"Size\" in child.info:\n",
    "            root.info[\"Used Space\"] += child.info[\"Size\"]\n",
    "            root.info[\"Free Space\"] -= child.info[\"Size\"]\n",
    "\n",
    "        print(f\"Child node {child_value} added successfully to {parent_value}.\")\n",
    "    else:\n",
    "        print(f\"Parent node {parent_value} not found.\")\n"
   ]
  },
  {
   "cell_type": "code",
   "execution_count": 43,
   "metadata": {},
   "outputs": [
    {
     "name": "stdout",
     "output_type": "stream",
     "text": [
      "Child node new_file added successfully to folder2.\n"
     ]
    }
   ],
   "source": [
    "add_file(tree,'folder2','new_file')"
   ]
  },
  {
   "cell_type": "code",
   "execution_count": 44,
   "metadata": {},
   "outputs": [
    {
     "name": "stdout",
     "output_type": "stream",
     "text": [
      "C:\n",
      "  folder1\n",
      "    file1\n",
      "      Attributes:\n",
      "                Name: file1\n",
      "                Identifier: bbb427b1-f979-4513-8c36-f370227c4e44\n",
      "                Type: txt\n",
      "                Protection: rw\n",
      "                Created: 2023-12-28 11:29:17\n",
      "                Modified: 2023-12-28 11:29:17\n",
      "                Accessed: 2023-12-28 11:29:17\n",
      "                Content: file1\n",
      "                Size: 5\n",
      "    file2\n",
      "      Attributes:\n",
      "                Name: file2\n",
      "                Identifier: d0feff07-fbe6-4699-9d8f-08722a69e248\n",
      "                Type: txt\n",
      "                Protection: rw-\n",
      "                Created: 2023-12-28 11:29:32\n",
      "                Modified: 2023-12-28 11:29:32\n",
      "                Accessed: 2023-12-28 11:29:32\n",
      "                Content: file2\n",
      "                Size: 5\n",
      "    Attributes:\n",
      "            Name: folder1\n",
      "            Identifier: 6029596b-7b4f-49a5-928c-92c1d6ba89b6\n",
      "            Type: Directory\n",
      "            Protection: rw\n",
      "            Created: 2023-12-28 11:29:08\n",
      "            Modified: 2023-12-28 11:29:08\n",
      "            Accessed: 2023-12-28 11:29:08\n",
      "  folder2\n",
      "    new_file\n",
      "      Attributes:\n",
      "                Name: new_file\n",
      "                Identifier: a5a48939-4ead-4c49-b2f2-cc83189bb0d3\n",
      "                Type: txt\n",
      "                Protection: aw\n",
      "                Created: 2023-12-28 11:30:43\n",
      "                Modified: 2023-12-28 11:30:43\n",
      "                Accessed: 2023-12-28 11:30:43\n",
      "                Content: new_file appended\n",
      "                Size: 17\n",
      "    Attributes:\n",
      "            Name: folder2\n",
      "            Identifier: 2389f834-eb45-4919-9a7c-9997989e75a5\n",
      "            Type: Directory\n",
      "            Protection: rw\n",
      "            Created: 2023-12-28 11:29:45\n",
      "            Modified: 2023-12-28 11:29:45\n",
      "            Accessed: 2023-12-28 11:29:45\n",
      "  Attributes:\n",
      "        Name: C:\n",
      "        UUID: 1ed9a09e-5a98-4178-8581-9696874ee6a7\n",
      "        Total Size: 4096\n",
      "        Used Space: 27\n",
      "        Free Space: 4069\n"
     ]
    }
   ],
   "source": [
    "print_tree(tree)"
   ]
  },
  {
   "cell_type": "markdown",
   "metadata": {},
   "source": [
    "# Calling Content of File"
   ]
  },
  {
   "cell_type": "code",
   "execution_count": 45,
   "metadata": {},
   "outputs": [],
   "source": [
    "def find_node_by_name(root, target_name):\n",
    "    if root.value == target_name:\n",
    "        return root\n",
    "\n",
    "    for child in root.children:\n",
    "        found_node = find_node_by_name(child, target_name)\n",
    "        if found_node:\n",
    "            return found_node\n",
    "\n",
    "    return None\n",
    "\n",
    "def retrieve_content(root, target_name):\n",
    "    node = find_node_by_name(root, target_name)\n",
    "    if node:\n",
    "        if node.info and 'Content' in node.info:\n",
    "            node.info[\"Accessed\"] = datetime.datetime.now().strftime(\"%Y-%m-%d %H:%M:%S\")\n",
    "            return node.info['Content']\n",
    "        \n",
    "        else:\n",
    "            return f\"No content found for node '{target_name}'.\"\n",
    "    else:\n",
    "        return f\"Node '{target_name}' not found in the tree.\""
   ]
  },
  {
   "cell_type": "code",
   "execution_count": 46,
   "metadata": {},
   "outputs": [
    {
     "name": "stdout",
     "output_type": "stream",
     "text": [
      "new_file appended\n"
     ]
    }
   ],
   "source": [
    "name_to_retrieve_content = \"new_file\"\n",
    "content = retrieve_content(tree, name_to_retrieve_content)\n",
    "print(content)"
   ]
  },
  {
   "cell_type": "markdown",
   "metadata": {},
   "source": [
    "# Modifiyng on file"
   ]
  },
  {
   "cell_type": "code",
   "execution_count": 47,
   "metadata": {},
   "outputs": [],
   "source": [
    "def modify_content_by_name(root, target_name):\n",
    "    node = find_node_by_name(root, target_name)\n",
    "    if node:\n",
    "        if node.info and 'Content' in node.info:\n",
    "            new_content = input(\"Modify content\")\n",
    "            node.info['Content'] = new_content\n",
    "            node.info['Modified'] = datetime.datetime.now().strftime(\"%Y-%m-%d %H:%M:%S\")\n",
    "            node.info[\"Accessed\"] = datetime.datetime.now().strftime(\"%Y-%m-%d %H:%M:%S\")\n",
    "            return f\"Content for node '{target_name}' updated successfully.\"\n",
    "        else:\n",
    "            return f\"No content found for node '{target_name}'.\"\n",
    "    else:\n",
    "        return f\"Node '{target_name}' not found in the tree.\""
   ]
  },
  {
   "cell_type": "code",
   "execution_count": 48,
   "metadata": {},
   "outputs": [
    {
     "name": "stdout",
     "output_type": "stream",
     "text": [
      "Content for node 'new_file' updated successfully.\n"
     ]
    }
   ],
   "source": [
    "name_to_retrieve_content = \"new_file\" \n",
    "content = modify_content_by_name(tree, name_to_retrieve_content)\n",
    "print(content)"
   ]
  },
  {
   "cell_type": "code",
   "execution_count": 49,
   "metadata": {},
   "outputs": [
    {
     "name": "stdout",
     "output_type": "stream",
     "text": [
      "C:\n",
      "  folder1\n",
      "    file1\n",
      "      Attributes:\n",
      "                Name: file1\n",
      "                Identifier: bbb427b1-f979-4513-8c36-f370227c4e44\n",
      "                Type: txt\n",
      "                Protection: rw\n",
      "                Created: 2023-12-28 11:29:17\n",
      "                Modified: 2023-12-28 11:29:17\n",
      "                Accessed: 2023-12-28 11:29:17\n",
      "                Content: file1\n",
      "                Size: 5\n",
      "    file2\n",
      "      Attributes:\n",
      "                Name: file2\n",
      "                Identifier: d0feff07-fbe6-4699-9d8f-08722a69e248\n",
      "                Type: txt\n",
      "                Protection: rw-\n",
      "                Created: 2023-12-28 11:29:32\n",
      "                Modified: 2023-12-28 11:29:32\n",
      "                Accessed: 2023-12-28 11:29:32\n",
      "                Content: file2\n",
      "                Size: 5\n",
      "    Attributes:\n",
      "            Name: folder1\n",
      "            Identifier: 6029596b-7b4f-49a5-928c-92c1d6ba89b6\n",
      "            Type: Directory\n",
      "            Protection: rw\n",
      "            Created: 2023-12-28 11:29:08\n",
      "            Modified: 2023-12-28 11:29:08\n",
      "            Accessed: 2023-12-28 11:29:08\n",
      "  folder2\n",
      "    new_file\n",
      "      Attributes:\n",
      "                Name: new_file\n",
      "                Identifier: a5a48939-4ead-4c49-b2f2-cc83189bb0d3\n",
      "                Type: txt\n",
      "                Protection: aw\n",
      "                Created: 2023-12-28 11:30:43\n",
      "                Modified: 2023-12-28 11:31:37\n",
      "                Accessed: 2023-12-28 11:31:37\n",
      "                Content: modifing the new fil;e\n",
      "                Size: 17\n",
      "    Attributes:\n",
      "            Name: folder2\n",
      "            Identifier: 2389f834-eb45-4919-9a7c-9997989e75a5\n",
      "            Type: Directory\n",
      "            Protection: rw\n",
      "            Created: 2023-12-28 11:29:45\n",
      "            Modified: 2023-12-28 11:29:45\n",
      "            Accessed: 2023-12-28 11:29:45\n",
      "  Attributes:\n",
      "        Name: C:\n",
      "        UUID: 1ed9a09e-5a98-4178-8581-9696874ee6a7\n",
      "        Total Size: 4096\n",
      "        Used Space: 27\n",
      "        Free Space: 4069\n"
     ]
    }
   ],
   "source": [
    "print_tree(tree)"
   ]
  },
  {
   "cell_type": "markdown",
   "metadata": {},
   "source": [
    "# Copying File"
   ]
  },
  {
   "cell_type": "code",
   "execution_count": 50,
   "metadata": {},
   "outputs": [],
   "source": [
    "def copy_child(root, source_node, destination_node):\n",
    "    \"\"\"Copies a child node (and its children) to another child node.\"\"\"\n",
    "\n",
    "    def find_and_copy(source, destination):\n",
    "        \"\"\"Recursively searches for the source node and copies it.\"\"\"\n",
    "        for child in source.children:\n",
    "            if child.value == source_node.value:\n",
    "                # Create a copy of the node\n",
    "                new_child = Node(child.value)\n",
    "                new_child.info = child.info.copy()  # Copy attributes\n",
    "\n",
    "                # Recursively copy children\n",
    "                for subchild in child.children:\n",
    "                    find_and_copy(child, new_child)\n",
    "\n",
    "                destination.add_child(new_child)  # Add the copied node\n",
    "\n",
    "                # Update space usage for files (if tracked for folders)\n",
    "                if \"Size\" in new_child.info:\n",
    "                    root.info[\"Used Space\"] += new_child.info[\"Size\"]\n",
    "                    root.info[\"Free Space\"] -= new_child.info[\"Size\"]\n",
    "\n",
    "                return True  # Node found and copied\n",
    "\n",
    "            if find_and_copy(child, destination):  # Recursively search children\n",
    "                return True\n",
    "\n",
    "        return False  # Node not found\n",
    "\n",
    "    if find_and_copy(root, destination_node):\n",
    "        print(f\"Node {source_node.value} copied successfully to {destination_node.value}.\")\n",
    "    else:\n",
    "        print(f\"Node {source_node.value} not found.\")\n"
   ]
  },
  {
   "cell_type": "code",
   "execution_count": 51,
   "metadata": {},
   "outputs": [
    {
     "name": "stdout",
     "output_type": "stream",
     "text": [
      "Node file2 copied successfully to folder2.\n"
     ]
    }
   ],
   "source": [
    "copy_child(tree,find_node_by_name(tree,'file2'),find_node_by_name(tree,'folder2'))"
   ]
  },
  {
   "cell_type": "code",
   "execution_count": 52,
   "metadata": {},
   "outputs": [
    {
     "name": "stdout",
     "output_type": "stream",
     "text": [
      "C:\n",
      "  folder1\n",
      "    file1\n",
      "      Attributes:\n",
      "                Name: file1\n",
      "                Identifier: bbb427b1-f979-4513-8c36-f370227c4e44\n",
      "                Type: txt\n",
      "                Protection: rw\n",
      "                Created: 2023-12-28 11:29:17\n",
      "                Modified: 2023-12-28 11:29:17\n",
      "                Accessed: 2023-12-28 11:29:17\n",
      "                Content: file1\n",
      "                Size: 5\n",
      "    file2\n",
      "      Attributes:\n",
      "                Name: file2\n",
      "                Identifier: d0feff07-fbe6-4699-9d8f-08722a69e248\n",
      "                Type: txt\n",
      "                Protection: rw-\n",
      "                Created: 2023-12-28 11:29:32\n",
      "                Modified: 2023-12-28 11:29:32\n",
      "                Accessed: 2023-12-28 11:29:32\n",
      "                Content: file2\n",
      "                Size: 5\n",
      "    Attributes:\n",
      "            Name: folder1\n",
      "            Identifier: 6029596b-7b4f-49a5-928c-92c1d6ba89b6\n",
      "            Type: Directory\n",
      "            Protection: rw\n",
      "            Created: 2023-12-28 11:29:08\n",
      "            Modified: 2023-12-28 11:29:08\n",
      "            Accessed: 2023-12-28 11:29:08\n",
      "  folder2\n",
      "    new_file\n",
      "      Attributes:\n",
      "                Name: new_file\n",
      "                Identifier: a5a48939-4ead-4c49-b2f2-cc83189bb0d3\n",
      "                Type: txt\n",
      "                Protection: aw\n",
      "                Created: 2023-12-28 11:30:43\n",
      "                Modified: 2023-12-28 11:31:37\n",
      "                Accessed: 2023-12-28 11:31:37\n",
      "                Content: modifing the new fil;e\n",
      "                Size: 17\n",
      "    file2\n",
      "      Attributes:\n",
      "                Name: file2\n",
      "                Identifier: d0feff07-fbe6-4699-9d8f-08722a69e248\n",
      "                Type: txt\n",
      "                Protection: rw-\n",
      "                Created: 2023-12-28 11:29:32\n",
      "                Modified: 2023-12-28 11:29:32\n",
      "                Accessed: 2023-12-28 11:29:32\n",
      "                Content: file2\n",
      "                Size: 5\n",
      "    Attributes:\n",
      "            Name: folder2\n",
      "            Identifier: 2389f834-eb45-4919-9a7c-9997989e75a5\n",
      "            Type: Directory\n",
      "            Protection: rw\n",
      "            Created: 2023-12-28 11:29:45\n",
      "            Modified: 2023-12-28 11:29:45\n",
      "            Accessed: 2023-12-28 11:29:45\n",
      "  Attributes:\n",
      "        Name: C:\n",
      "        UUID: 1ed9a09e-5a98-4178-8581-9696874ee6a7\n",
      "        Total Size: 4096\n",
      "        Used Space: 32\n",
      "        Free Space: 4064\n"
     ]
    }
   ],
   "source": [
    "print_tree(tree)"
   ]
  },
  {
   "cell_type": "markdown",
   "metadata": {},
   "source": [
    "# Move Node"
   ]
  },
  {
   "cell_type": "code",
   "execution_count": 54,
   "metadata": {},
   "outputs": [],
   "source": [
    "def move_node(root, current_parent_name, child_name, new_parent_name):\n",
    "    current_parent = find_node_by_name(root, current_parent_name)\n",
    "    child_node = find_node_by_name(root, child_name)\n",
    "    new_parent = find_node_by_name(root, new_parent_name)\n",
    "\n",
    "    if not current_parent:\n",
    "        return f\"Current parent node '{current_parent_name}' not found.\"\n",
    "    if not child_node:\n",
    "        return f\"Child node '{child_name}' not found.\"\n",
    "    if not new_parent:\n",
    "        return f\"New parent node '{new_parent_name}' not found.\"\n",
    "\n",
    "    current_parent.children.remove(child_node)\n",
    "    new_parent.children.append(child_node)\n",
    "    return f\"Node '{child_name}' moved from '{current_parent_name}' to '{new_parent_name}' successfully.\""
   ]
  },
  {
   "cell_type": "code",
   "execution_count": 56,
   "metadata": {},
   "outputs": [
    {
     "data": {
      "text/plain": [
       "\"Node 'file1' moved from 'folder1' to 'C:' successfully.\""
      ]
     },
     "execution_count": 56,
     "metadata": {},
     "output_type": "execute_result"
    }
   ],
   "source": [
    "move_node(tree,\"folder1\",\"file1\",\"C:\")"
   ]
  },
  {
   "cell_type": "code",
   "execution_count": 57,
   "metadata": {},
   "outputs": [
    {
     "name": "stdout",
     "output_type": "stream",
     "text": [
      "C:\n",
      "  folder1\n",
      "    file2\n",
      "      Attributes:\n",
      "                Name: file2\n",
      "                Identifier: d0feff07-fbe6-4699-9d8f-08722a69e248\n",
      "                Type: txt\n",
      "                Protection: rw-\n",
      "                Created: 2023-12-28 11:29:32\n",
      "                Modified: 2023-12-28 11:29:32\n",
      "                Accessed: 2023-12-28 11:29:32\n",
      "                Content: file2\n",
      "                Size: 5\n",
      "    Attributes:\n",
      "            Name: folder1\n",
      "            Identifier: 6029596b-7b4f-49a5-928c-92c1d6ba89b6\n",
      "            Type: Directory\n",
      "            Protection: rw\n",
      "            Created: 2023-12-28 11:29:08\n",
      "            Modified: 2023-12-28 11:29:08\n",
      "            Accessed: 2023-12-28 11:29:08\n",
      "  folder2\n",
      "    new_file\n",
      "      Attributes:\n",
      "                Name: new_file\n",
      "                Identifier: a5a48939-4ead-4c49-b2f2-cc83189bb0d3\n",
      "                Type: txt\n",
      "                Protection: aw\n",
      "                Created: 2023-12-28 11:30:43\n",
      "                Modified: 2023-12-28 11:31:37\n",
      "                Accessed: 2023-12-28 11:31:37\n",
      "                Content: modifing the new fil;e\n",
      "                Size: 17\n",
      "    file2\n",
      "      Attributes:\n",
      "                Name: file2\n",
      "                Identifier: d0feff07-fbe6-4699-9d8f-08722a69e248\n",
      "                Type: txt\n",
      "                Protection: rw-\n",
      "                Created: 2023-12-28 11:29:32\n",
      "                Modified: 2023-12-28 11:29:32\n",
      "                Accessed: 2023-12-28 11:29:32\n",
      "                Content: file2\n",
      "                Size: 5\n",
      "    Attributes:\n",
      "            Name: folder2\n",
      "            Identifier: 2389f834-eb45-4919-9a7c-9997989e75a5\n",
      "            Type: Directory\n",
      "            Protection: rw\n",
      "            Created: 2023-12-28 11:29:45\n",
      "            Modified: 2023-12-28 11:29:45\n",
      "            Accessed: 2023-12-28 11:29:45\n",
      "  file1\n",
      "    Attributes:\n",
      "            Name: file1\n",
      "            Identifier: bbb427b1-f979-4513-8c36-f370227c4e44\n",
      "            Type: txt\n",
      "            Protection: rw\n",
      "            Created: 2023-12-28 11:29:17\n",
      "            Modified: 2023-12-28 11:29:17\n",
      "            Accessed: 2023-12-28 11:29:17\n",
      "            Content: file1\n",
      "            Size: 5\n",
      "  Attributes:\n",
      "        Name: C:\n",
      "        UUID: 1ed9a09e-5a98-4178-8581-9696874ee6a7\n",
      "        Total Size: 4096\n",
      "        Used Space: 32\n",
      "        Free Space: 4064\n"
     ]
    }
   ],
   "source": [
    "print_tree(tree)"
   ]
  },
  {
   "cell_type": "markdown",
   "metadata": {},
   "source": [
    "# Deleting File"
   ]
  },
  {
   "cell_type": "code",
   "execution_count": 58,
   "metadata": {},
   "outputs": [],
   "source": [
    "def delete_node(root, node_value):\n",
    "    \"\"\"Deletes a node with the given value from the tree, updating space usage\n",
    "    for files and folders recursively.\"\"\"\n",
    "\n",
    "    def find_and_delete(node):\n",
    "        \"\"\"Recursively searches for the node to delete and handles deletion.\"\"\"\n",
    "        for child in node.children:\n",
    "            if child.value == node_value:\n",
    "                # Update space usage before deleting\n",
    "                if child.info.get(\"Size\"):  # File\n",
    "                    root.info[\"Used Space\"] -= child.info[\"Size\"]\n",
    "                    root.info[\"Free Space\"] += child.info[\"Size\"]\n",
    "                else:  # Folder\n",
    "                    # Recursively update space for files within the folder\n",
    "                    for subchild in child.children:\n",
    "                        if subchild.info.get(\"Size\"):\n",
    "                            root.info[\"Used Space\"] -= subchild.info[\"Size\"]\n",
    "                            root.info[\"Free Space\"] += subchild.info[\"Size\"]\n",
    "\n",
    "                node.children.remove(child)\n",
    "                return True  # Node found and deleted\n",
    "\n",
    "            if find_and_delete(child):  # Recursively search children\n",
    "                return True\n",
    "\n",
    "        return False  # Node not found\n",
    "\n",
    "    if find_and_delete(root):\n",
    "        print(f\"Node {node_value} deleted successfully.\")\n",
    "    else:\n",
    "        print(f\"Node {node_value} not found.\")"
   ]
  },
  {
   "cell_type": "code",
   "execution_count": 59,
   "metadata": {},
   "outputs": [
    {
     "name": "stdout",
     "output_type": "stream",
     "text": [
      "Node file1 deleted successfully.\n"
     ]
    }
   ],
   "source": [
    "delete_node(tree,'file1')"
   ]
  },
  {
   "cell_type": "code",
   "execution_count": 60,
   "metadata": {},
   "outputs": [
    {
     "name": "stdout",
     "output_type": "stream",
     "text": [
      "C:\n",
      "  folder1\n",
      "    file2\n",
      "      Attributes:\n",
      "                Name: file2\n",
      "                Identifier: d0feff07-fbe6-4699-9d8f-08722a69e248\n",
      "                Type: txt\n",
      "                Protection: rw-\n",
      "                Created: 2023-12-28 11:29:32\n",
      "                Modified: 2023-12-28 11:29:32\n",
      "                Accessed: 2023-12-28 11:29:32\n",
      "                Content: file2\n",
      "                Size: 5\n",
      "    Attributes:\n",
      "            Name: folder1\n",
      "            Identifier: 6029596b-7b4f-49a5-928c-92c1d6ba89b6\n",
      "            Type: Directory\n",
      "            Protection: rw\n",
      "            Created: 2023-12-28 11:29:08\n",
      "            Modified: 2023-12-28 11:29:08\n",
      "            Accessed: 2023-12-28 11:29:08\n",
      "  folder2\n",
      "    new_file\n",
      "      Attributes:\n",
      "                Name: new_file\n",
      "                Identifier: a5a48939-4ead-4c49-b2f2-cc83189bb0d3\n",
      "                Type: txt\n",
      "                Protection: aw\n",
      "                Created: 2023-12-28 11:30:43\n",
      "                Modified: 2023-12-28 11:31:37\n",
      "                Accessed: 2023-12-28 11:31:37\n",
      "                Content: modifing the new fil;e\n",
      "                Size: 17\n",
      "    file2\n",
      "      Attributes:\n",
      "                Name: file2\n",
      "                Identifier: d0feff07-fbe6-4699-9d8f-08722a69e248\n",
      "                Type: txt\n",
      "                Protection: rw-\n",
      "                Created: 2023-12-28 11:29:32\n",
      "                Modified: 2023-12-28 11:29:32\n",
      "                Accessed: 2023-12-28 11:29:32\n",
      "                Content: file2\n",
      "                Size: 5\n",
      "    Attributes:\n",
      "            Name: folder2\n",
      "            Identifier: 2389f834-eb45-4919-9a7c-9997989e75a5\n",
      "            Type: Directory\n",
      "            Protection: rw\n",
      "            Created: 2023-12-28 11:29:45\n",
      "            Modified: 2023-12-28 11:29:45\n",
      "            Accessed: 2023-12-28 11:29:45\n",
      "  Attributes:\n",
      "        Name: C:\n",
      "        UUID: 1ed9a09e-5a98-4178-8581-9696874ee6a7\n",
      "        Total Size: 4096\n",
      "        Used Space: 27\n",
      "        Free Space: 4069\n"
     ]
    }
   ],
   "source": [
    "print_tree(tree)"
   ]
  },
  {
   "cell_type": "markdown",
   "metadata": {},
   "source": [
    "# Getting Information of specific file"
   ]
  },
  {
   "cell_type": "code",
   "execution_count": 62,
   "metadata": {},
   "outputs": [],
   "source": [
    "import pprint\n",
    "def retrieve_info(root, target_name):\n",
    "    node = find_node_by_name(root, target_name)\n",
    "    if node:\n",
    "        if node.info and 'Content' in node.info:\n",
    "            return node.info\n",
    "        else:\n",
    "            return f\"No content found for node '{target_name}'.\"\n",
    "    else:\n",
    "        return f\"Node '{target_name}' not found in the tree.\"\n"
   ]
  },
  {
   "cell_type": "code",
   "execution_count": 64,
   "metadata": {},
   "outputs": [
    {
     "name": "stdout",
     "output_type": "stream",
     "text": [
      "{'Accessed': '2023-12-28 11:31:37',\n",
      " 'Content': 'modifing the new fil;e',\n",
      " 'Created': '2023-12-28 11:30:43',\n",
      " 'Identifier': 'a5a48939-4ead-4c49-b2f2-cc83189bb0d3',\n",
      " 'Modified': '2023-12-28 11:31:37',\n",
      " 'Name': 'new_file',\n",
      " 'Protection': 'aw',\n",
      " 'Size': 17,\n",
      " 'Type': 'txt'}\n"
     ]
    }
   ],
   "source": [
    "content = retrieve_info(tree, 'new_file')\n",
    "pprint.pprint(content)"
   ]
  },
  {
   "cell_type": "markdown",
   "metadata": {},
   "source": [
    "# Change File Permission"
   ]
  },
  {
   "cell_type": "code",
   "execution_count": 65,
   "metadata": {},
   "outputs": [],
   "source": [
    "def modify_protection_by_name(root, target_name):\n",
    "    node = find_node_by_name(root, target_name)\n",
    "    if node:\n",
    "        if node.info and 'Protection' in node.info:\n",
    "            new_protection = input(\"Modify Protection\")\n",
    "            node.info['Protection'] = new_protection\n",
    "            \n",
    "#             child.info[\"Modified\"] = child.info[\"Created\"]\n",
    "#             child.info[\"Accessed\"] = child.info[\"Created\"]\n",
    "            node.info['Modified'] = datetime.datetime.now().strftime(\"%Y-%m-%d %H:%M:%S\")\n",
    "            node.info[\"Accessed\"] = datetime.datetime.now().strftime(\"%Y-%m-%d %H:%M:%S\")\n",
    "            return f\"Protection for node '{target_name}' updated successfully.\"\n",
    "        else:\n",
    "            return f\"No Protection found for node '{target_name}'.\"\n",
    "    else:\n",
    "        return f\"Node '{target_name}' not found in the tree.\"\n"
   ]
  },
  {
   "cell_type": "code",
   "execution_count": 66,
   "metadata": {},
   "outputs": [
    {
     "name": "stdout",
     "output_type": "stream",
     "text": [
      "Protection for node 'new_file' updated successfully.\n"
     ]
    }
   ],
   "source": [
    "name_to_retrieve_content = \"new_file\" \n",
    "content = modify_protection_by_name(tree, name_to_retrieve_content)\n",
    "print(content)"
   ]
  },
  {
   "cell_type": "code",
   "execution_count": 67,
   "metadata": {},
   "outputs": [
    {
     "name": "stdout",
     "output_type": "stream",
     "text": [
      "C:\n",
      "  folder1\n",
      "    file2\n",
      "      Attributes:\n",
      "                Name: file2\n",
      "                Identifier: d0feff07-fbe6-4699-9d8f-08722a69e248\n",
      "                Type: txt\n",
      "                Protection: rw-\n",
      "                Created: 2023-12-28 11:29:32\n",
      "                Modified: 2023-12-28 11:29:32\n",
      "                Accessed: 2023-12-28 11:29:32\n",
      "                Content: file2\n",
      "                Size: 5\n",
      "    Attributes:\n",
      "            Name: folder1\n",
      "            Identifier: 6029596b-7b4f-49a5-928c-92c1d6ba89b6\n",
      "            Type: Directory\n",
      "            Protection: rw\n",
      "            Created: 2023-12-28 11:29:08\n",
      "            Modified: 2023-12-28 11:29:08\n",
      "            Accessed: 2023-12-28 11:29:08\n",
      "  folder2\n",
      "    new_file\n",
      "      Attributes:\n",
      "                Name: new_file\n",
      "                Identifier: a5a48939-4ead-4c49-b2f2-cc83189bb0d3\n",
      "                Type: txt\n",
      "                Protection: rwx\n",
      "                Created: 2023-12-28 11:30:43\n",
      "                Modified: 2023-12-28 11:37:25\n",
      "                Accessed: 2023-12-28 11:37:25\n",
      "                Content: modifing the new fil;e\n",
      "                Size: 17\n",
      "    file2\n",
      "      Attributes:\n",
      "                Name: file2\n",
      "                Identifier: d0feff07-fbe6-4699-9d8f-08722a69e248\n",
      "                Type: txt\n",
      "                Protection: rw-\n",
      "                Created: 2023-12-28 11:29:32\n",
      "                Modified: 2023-12-28 11:29:32\n",
      "                Accessed: 2023-12-28 11:29:32\n",
      "                Content: file2\n",
      "                Size: 5\n",
      "    Attributes:\n",
      "            Name: folder2\n",
      "            Identifier: 2389f834-eb45-4919-9a7c-9997989e75a5\n",
      "            Type: Directory\n",
      "            Protection: rw\n",
      "            Created: 2023-12-28 11:29:45\n",
      "            Modified: 2023-12-28 11:29:45\n",
      "            Accessed: 2023-12-28 11:29:45\n",
      "  Attributes:\n",
      "        Name: C:\n",
      "        UUID: 1ed9a09e-5a98-4178-8581-9696874ee6a7\n",
      "        Total Size: 4096\n",
      "        Used Space: 27\n",
      "        Free Space: 4069\n"
     ]
    }
   ],
   "source": [
    "print_tree(tree)"
   ]
  },
  {
   "cell_type": "markdown",
   "metadata": {},
   "source": [
    "# Adding Folder"
   ]
  },
  {
   "cell_type": "code",
   "execution_count": 68,
   "metadata": {},
   "outputs": [],
   "source": [
    "def create_folder(root, parent_value=None, folder_name=None):\n",
    "    \"\"\"Creates a folder within a specified parent folder or at the root node.\"\"\"\n",
    "\n",
    "    def find_parent(node):\n",
    "        \"\"\"Recursively searches for the parent node with the given value.\"\"\"\n",
    "        if node.value == parent_value:\n",
    "            return node\n",
    "\n",
    "        for child in node.children:\n",
    "            parent = find_parent(child)\n",
    "            if parent:\n",
    "                return parent\n",
    "\n",
    "        return None  # Parent node not found\n",
    "\n",
    "    parent = root if parent_value is None else find_parent(root)\n",
    "\n",
    "    if parent:\n",
    "        while True:\n",
    "            if folder_name is None:\n",
    "                folder_name = input(\"Enter the name of the new folder: \")\n",
    "\n",
    "            new_folder = Node(folder_name)  # Create the folder node\n",
    "            new_folder.info[\"Name\"] = folder_name\n",
    "            new_folder.info[\"Identifier\"] = str(uuid.uuid4())  # Generate unique identifier\n",
    "            new_folder.info[\"Type\"] = \"Directory\"\n",
    "            new_folder.info[\"Protection\"] = input(\"Enter Protection (e.g., rw): \")\n",
    "            new_folder.info[\"Created\"] = datetime.datetime.now().strftime(\"%Y-%m-%d %H:%M:%S\")\n",
    "            new_folder.info[\"Modified\"] = new_folder.info[\"Created\"]\n",
    "            new_folder.info[\"Accessed\"] = new_folder.info[\"Created\"]\n",
    "            if new_folder.value not in [child.value for child in parent.children]:\n",
    "                parent.add_child(new_folder)  # Add it as a child of the parent\n",
    "                print(f\"Folder {folder_name} created successfully within {parent.value}.\")\n",
    "                return\n",
    "            else:\n",
    "                print(f\"Folder {folder_name} already exists in this location.\")\n",
    "                folder_name = None  # Prompt for a new name\n",
    "    else:\n",
    "        print(f\"Parent node {parent_value} not found.\")\n"
   ]
  },
  {
   "cell_type": "code",
   "execution_count": 69,
   "metadata": {},
   "outputs": [
    {
     "name": "stdout",
     "output_type": "stream",
     "text": [
      "Folder new_folder created successfully within C:.\n"
     ]
    }
   ],
   "source": [
    "create_folder(tree,'C:','new_folder')"
   ]
  },
  {
   "cell_type": "code",
   "execution_count": 70,
   "metadata": {},
   "outputs": [
    {
     "name": "stdout",
     "output_type": "stream",
     "text": [
      "C:\n",
      "  folder1\n",
      "    file2\n",
      "      Attributes:\n",
      "                Name: file2\n",
      "                Identifier: d0feff07-fbe6-4699-9d8f-08722a69e248\n",
      "                Type: txt\n",
      "                Protection: rw-\n",
      "                Created: 2023-12-28 11:29:32\n",
      "                Modified: 2023-12-28 11:29:32\n",
      "                Accessed: 2023-12-28 11:29:32\n",
      "                Content: file2\n",
      "                Size: 5\n",
      "    Attributes:\n",
      "            Name: folder1\n",
      "            Identifier: 6029596b-7b4f-49a5-928c-92c1d6ba89b6\n",
      "            Type: Directory\n",
      "            Protection: rw\n",
      "            Created: 2023-12-28 11:29:08\n",
      "            Modified: 2023-12-28 11:29:08\n",
      "            Accessed: 2023-12-28 11:29:08\n",
      "  folder2\n",
      "    new_file\n",
      "      Attributes:\n",
      "                Name: new_file\n",
      "                Identifier: a5a48939-4ead-4c49-b2f2-cc83189bb0d3\n",
      "                Type: txt\n",
      "                Protection: rwx\n",
      "                Created: 2023-12-28 11:30:43\n",
      "                Modified: 2023-12-28 11:37:25\n",
      "                Accessed: 2023-12-28 11:37:25\n",
      "                Content: modifing the new fil;e\n",
      "                Size: 17\n",
      "    file2\n",
      "      Attributes:\n",
      "                Name: file2\n",
      "                Identifier: d0feff07-fbe6-4699-9d8f-08722a69e248\n",
      "                Type: txt\n",
      "                Protection: rw-\n",
      "                Created: 2023-12-28 11:29:32\n",
      "                Modified: 2023-12-28 11:29:32\n",
      "                Accessed: 2023-12-28 11:29:32\n",
      "                Content: file2\n",
      "                Size: 5\n",
      "    Attributes:\n",
      "            Name: folder2\n",
      "            Identifier: 2389f834-eb45-4919-9a7c-9997989e75a5\n",
      "            Type: Directory\n",
      "            Protection: rw\n",
      "            Created: 2023-12-28 11:29:45\n",
      "            Modified: 2023-12-28 11:29:45\n",
      "            Accessed: 2023-12-28 11:29:45\n",
      "  new_folder\n",
      "    Attributes:\n",
      "            Name: new_folder\n",
      "            Identifier: 74918ec6-aafa-4410-8c95-ae74aeb8d61f\n",
      "            Type: Directory\n",
      "            Protection: rwx\n",
      "            Created: 2023-12-28 11:39:51\n",
      "            Modified: 2023-12-28 11:39:51\n",
      "            Accessed: 2023-12-28 11:39:51\n",
      "  Attributes:\n",
      "        Name: C:\n",
      "        UUID: 1ed9a09e-5a98-4178-8581-9696874ee6a7\n",
      "        Total Size: 4096\n",
      "        Used Space: 27\n",
      "        Free Space: 4069\n"
     ]
    }
   ],
   "source": [
    "print_tree(tree)"
   ]
  },
  {
   "cell_type": "markdown",
   "metadata": {},
   "source": [
    "# Delete Directory"
   ]
  },
  {
   "cell_type": "code",
   "execution_count": 72,
   "metadata": {},
   "outputs": [],
   "source": [
    "def delete_directory(root, node_value):\n",
    "    \"\"\"Deletes a node with the given value from the tree, updating space usage\n",
    "    for files and folders recursively.\"\"\"\n",
    "\n",
    "    def find_and_delete(node):\n",
    "        \"\"\"Recursively searches for the node to delete and handles deletion.\"\"\"\n",
    "        for child in node.children:\n",
    "            if child.value == node_value:\n",
    "                # Update space usage before deleting\n",
    "                if child.info.get(\"Size\"):  # File\n",
    "                    root.info[\"Used Space\"] -= child.info[\"Size\"]\n",
    "                    root.info[\"Free Space\"] += child.info[\"Size\"]\n",
    "                else:  # Folder\n",
    "                    # Recursively update space for files within the folder\n",
    "                    for subchild in child.children:\n",
    "                        if subchild.info.get(\"Size\"):\n",
    "                            root.info[\"Used Space\"] -= subchild.info[\"Size\"]\n",
    "                            root.info[\"Free Space\"] += subchild.info[\"Size\"]\n",
    "\n",
    "                node.children.remove(child)\n",
    "                return True  # Node found and deleted\n",
    "\n",
    "            if find_and_delete(child):  # Recursively search children\n",
    "                return True\n",
    "\n",
    "        return False  # Node not found\n",
    "\n",
    "    if find_and_delete(root):\n",
    "        print(f\"Node {node_value} deleted successfully.\")\n",
    "    else:\n",
    "        print(f\"Node {node_value} not found.\")"
   ]
  },
  {
   "cell_type": "code",
   "execution_count": 73,
   "metadata": {},
   "outputs": [
    {
     "name": "stdout",
     "output_type": "stream",
     "text": [
      "Node new_folder deleted successfully.\n"
     ]
    }
   ],
   "source": [
    "delete_directory(tree,'new_folder')"
   ]
  },
  {
   "cell_type": "code",
   "execution_count": 74,
   "metadata": {},
   "outputs": [
    {
     "name": "stdout",
     "output_type": "stream",
     "text": [
      "C:\n",
      "  folder1\n",
      "    file2\n",
      "      Attributes:\n",
      "                Name: file2\n",
      "                Identifier: d0feff07-fbe6-4699-9d8f-08722a69e248\n",
      "                Type: txt\n",
      "                Protection: rw-\n",
      "                Created: 2023-12-28 11:29:32\n",
      "                Modified: 2023-12-28 11:29:32\n",
      "                Accessed: 2023-12-28 11:29:32\n",
      "                Content: file2\n",
      "                Size: 5\n",
      "    Attributes:\n",
      "            Name: folder1\n",
      "            Identifier: 6029596b-7b4f-49a5-928c-92c1d6ba89b6\n",
      "            Type: Directory\n",
      "            Protection: rw\n",
      "            Created: 2023-12-28 11:29:08\n",
      "            Modified: 2023-12-28 11:29:08\n",
      "            Accessed: 2023-12-28 11:29:08\n",
      "  folder2\n",
      "    new_file\n",
      "      Attributes:\n",
      "                Name: new_file\n",
      "                Identifier: a5a48939-4ead-4c49-b2f2-cc83189bb0d3\n",
      "                Type: txt\n",
      "                Protection: rwx\n",
      "                Created: 2023-12-28 11:30:43\n",
      "                Modified: 2023-12-28 11:37:25\n",
      "                Accessed: 2023-12-28 11:37:25\n",
      "                Content: modifing the new fil;e\n",
      "                Size: 17\n",
      "    file2\n",
      "      Attributes:\n",
      "                Name: file2\n",
      "                Identifier: d0feff07-fbe6-4699-9d8f-08722a69e248\n",
      "                Type: txt\n",
      "                Protection: rw-\n",
      "                Created: 2023-12-28 11:29:32\n",
      "                Modified: 2023-12-28 11:29:32\n",
      "                Accessed: 2023-12-28 11:29:32\n",
      "                Content: file2\n",
      "                Size: 5\n",
      "    Attributes:\n",
      "            Name: folder2\n",
      "            Identifier: 2389f834-eb45-4919-9a7c-9997989e75a5\n",
      "            Type: Directory\n",
      "            Protection: rw\n",
      "            Created: 2023-12-28 11:29:45\n",
      "            Modified: 2023-12-28 11:29:45\n",
      "            Accessed: 2023-12-28 11:29:45\n",
      "  Attributes:\n",
      "        Name: C:\n",
      "        UUID: 1ed9a09e-5a98-4178-8581-9696874ee6a7\n",
      "        Total Size: 4096\n",
      "        Used Space: 27\n",
      "        Free Space: 4069\n"
     ]
    }
   ],
   "source": [
    "print_tree(tree)"
   ]
  },
  {
   "cell_type": "markdown",
   "metadata": {},
   "source": [
    "# List Directory"
   ]
  },
  {
   "cell_type": "code",
   "execution_count": 75,
   "metadata": {},
   "outputs": [
    {
     "data": {
      "text/plain": [
       "['file2']"
      ]
     },
     "execution_count": 75,
     "metadata": {},
     "output_type": "execute_result"
    }
   ],
   "source": [
    "def list_children_of_node(root, target_name):\n",
    "    node = find_node_by_name(root, target_name)\n",
    "    if node:\n",
    "        children_values = [child.value for child in node.children]\n",
    "        if children_values:\n",
    "            return children_values\n",
    "        else:\n",
    "            return f\"No children found for node '{target_name}'.\"\n",
    "    else:\n",
    "        return f\"Node '{target_name}' not found in the tree.\""
   ]
  },
  {
   "cell_type": "code",
   "execution_count": 80,
   "metadata": {},
   "outputs": [
    {
     "data": {
      "text/plain": [
       "['new_file', 'file2']"
      ]
     },
     "execution_count": 80,
     "metadata": {},
     "output_type": "execute_result"
    }
   ],
   "source": [
    "list_children_of_node(tree,\"folder2\")"
   ]
  },
  {
   "cell_type": "markdown",
   "metadata": {},
   "source": [
    "# Getting Directory Information"
   ]
  },
  {
   "cell_type": "code",
   "execution_count": 89,
   "metadata": {},
   "outputs": [],
   "source": [
    "def retrieve_info(root, target_name):\n",
    "    node = find_node_by_name(root, target_name)\n",
    "    if node:\n",
    "        if node.info:\n",
    "            node.info[\"Accessed\"] = datetime.datetime.now().strftime(\"%Y-%m-%d %H:%M:%S\")\n",
    "            return node.info\n",
    "        else:\n",
    "            return f\"No folder found for node '{target_name}'.\"\n",
    "    else:\n",
    "        return f\"Node '{target_name}' not found in the tree.\""
   ]
  },
  {
   "cell_type": "code",
   "execution_count": 90,
   "metadata": {},
   "outputs": [
    {
     "name": "stdout",
     "output_type": "stream",
     "text": [
      "{'Accessed': '2023-12-28 11:44:19',\n",
      " 'Created': '2023-12-28 11:29:45',\n",
      " 'Identifier': '2389f834-eb45-4919-9a7c-9997989e75a5',\n",
      " 'Modified': '2023-12-28 11:29:45',\n",
      " 'Name': 'folder2',\n",
      " 'Protection': 'rw',\n",
      " 'Type': 'Directory'}\n"
     ]
    }
   ],
   "source": [
    "content = retrieve_info(tree,'folder2')\n",
    "pprint.pprint(content)"
   ]
  },
  {
   "cell_type": "markdown",
   "metadata": {},
   "source": [
    "# Chanage Directory Permission"
   ]
  },
  {
   "cell_type": "code",
   "execution_count": 91,
   "metadata": {},
   "outputs": [],
   "source": [
    "def modify_protection_by_name_for_folder(root, target_name):\n",
    "    node = find_node_by_name(root, target_name)\n",
    "    if node:\n",
    "        if node.info and 'Protection' in node.info:\n",
    "            new_protection = input(\"Modify Protection\")\n",
    "            node.info['Protection'] = new_protection\n",
    "            \n",
    "#             child.info[\"Modified\"] = child.info[\"Created\"]\n",
    "#             child.info[\"Accessed\"] = child.info[\"Created\"]\n",
    "            node.info['Modified'] = datetime.datetime.now().strftime(\"%Y-%m-%d %H:%M:%S\")\n",
    "            node.info[\"Accessed\"] = datetime.datetime.now().strftime(\"%Y-%m-%d %H:%M:%S\")\n",
    "            return f\"Protection for node '{target_name}' updated successfully.\"\n",
    "        else:\n",
    "            return f\"No Protection found for node '{target_name}'.\"\n",
    "    else:\n",
    "        return f\"Node '{target_name}' not found in the tree.\""
   ]
  },
  {
   "cell_type": "code",
   "execution_count": 92,
   "metadata": {},
   "outputs": [
    {
     "name": "stdout",
     "output_type": "stream",
     "text": [
      "Protection for node 'folder2' updated successfully.\n"
     ]
    }
   ],
   "source": [
    "name_to_retrieve_content = \"folder2\"\n",
    "content = modify_protection_by_name_for_folder(tree, name_to_retrieve_content)\n",
    "print(content)"
   ]
  },
  {
   "cell_type": "code",
   "execution_count": 93,
   "metadata": {},
   "outputs": [
    {
     "name": "stdout",
     "output_type": "stream",
     "text": [
      "C:\n",
      "  folder1\n",
      "    file2\n",
      "      Attributes:\n",
      "                Name: file2\n",
      "                Identifier: d0feff07-fbe6-4699-9d8f-08722a69e248\n",
      "                Type: txt\n",
      "                Protection: rw-\n",
      "                Created: 2023-12-28 11:29:32\n",
      "                Modified: 2023-12-28 11:29:32\n",
      "                Accessed: 2023-12-28 11:29:32\n",
      "                Content: file2\n",
      "                Size: 5\n",
      "    Attributes:\n",
      "            Name: folder1\n",
      "            Identifier: 6029596b-7b4f-49a5-928c-92c1d6ba89b6\n",
      "            Type: Directory\n",
      "            Protection: rw\n",
      "            Created: 2023-12-28 11:29:08\n",
      "            Modified: 2023-12-28 11:29:08\n",
      "            Accessed: 2023-12-28 11:29:08\n",
      "  folder2\n",
      "    new_file\n",
      "      Attributes:\n",
      "                Name: new_file\n",
      "                Identifier: a5a48939-4ead-4c49-b2f2-cc83189bb0d3\n",
      "                Type: txt\n",
      "                Protection: rwx\n",
      "                Created: 2023-12-28 11:30:43\n",
      "                Modified: 2023-12-28 11:37:25\n",
      "                Accessed: 2023-12-28 11:37:25\n",
      "                Content: modifing the new fil;e\n",
      "                Size: 17\n",
      "    file2\n",
      "      Attributes:\n",
      "                Name: file2\n",
      "                Identifier: d0feff07-fbe6-4699-9d8f-08722a69e248\n",
      "                Type: txt\n",
      "                Protection: rw-\n",
      "                Created: 2023-12-28 11:29:32\n",
      "                Modified: 2023-12-28 11:29:32\n",
      "                Accessed: 2023-12-28 11:29:32\n",
      "                Content: file2\n",
      "                Size: 5\n",
      "    Attributes:\n",
      "            Name: folder2\n",
      "            Identifier: 2389f834-eb45-4919-9a7c-9997989e75a5\n",
      "            Type: Directory\n",
      "            Protection: rwax\n",
      "            Created: 2023-12-28 11:29:45\n",
      "            Modified: 2023-12-28 11:45:03\n",
      "            Accessed: 2023-12-28 11:45:03\n",
      "  Attributes:\n",
      "        Name: C:\n",
      "        UUID: 1ed9a09e-5a98-4178-8581-9696874ee6a7\n",
      "        Total Size: 4096\n",
      "        Used Space: 27\n",
      "        Free Space: 4069\n"
     ]
    }
   ],
   "source": [
    "print_tree(tree)"
   ]
  }
 ],
 "metadata": {
  "kernelspec": {
   "display_name": "Python 3",
   "language": "python",
   "name": "python3"
  },
  "language_info": {
   "codemirror_mode": {
    "name": "ipython",
    "version": 3
   },
   "file_extension": ".py",
   "mimetype": "text/x-python",
   "name": "python",
   "nbconvert_exporter": "python",
   "pygments_lexer": "ipython3",
   "version": "3.11.3"
  }
 },
 "nbformat": 4,
 "nbformat_minor": 2
}
