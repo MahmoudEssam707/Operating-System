{
 "cells": [
  {
   "cell_type": "code",
   "execution_count": 1,
   "metadata": {},
   "outputs": [
    {
     "ename": "KeyboardInterrupt",
     "evalue": "",
     "output_type": "error",
     "traceback": [
      "\u001b[1;31m---------------------------------------------------------------------------\u001b[0m",
      "\u001b[1;31mKeyboardInterrupt\u001b[0m                         Traceback (most recent call last)",
      "Cell \u001b[1;32mIn[1], line 2\u001b[0m\n\u001b[0;32m      1\u001b[0m \u001b[38;5;28;01mimport\u001b[39;00m \u001b[38;5;21;01mpandas\u001b[39;00m \u001b[38;5;28;01mas\u001b[39;00m \u001b[38;5;21;01mpd\u001b[39;00m\n\u001b[1;32m----> 2\u001b[0m \u001b[38;5;28;01mfrom\u001b[39;00m \u001b[38;5;21;01msklearn\u001b[39;00m\u001b[38;5;21;01m.\u001b[39;00m\u001b[38;5;21;01mneighbors\u001b[39;00m \u001b[38;5;28;01mimport\u001b[39;00m KNeighborsRegressor\n\u001b[0;32m      4\u001b[0m data \u001b[38;5;241m=\u001b[39m {\u001b[38;5;124m'\u001b[39m\u001b[38;5;124mAge\u001b[39m\u001b[38;5;124m'\u001b[39m: [\u001b[38;5;241m25\u001b[39m,\u001b[38;5;241m35\u001b[39m,\u001b[38;5;241m45\u001b[39m,\u001b[38;5;241m20\u001b[39m,\u001b[38;5;241m35\u001b[39m,\u001b[38;5;241m52\u001b[39m,\u001b[38;5;241m23\u001b[39m,\u001b[38;5;241m40\u001b[39m,\u001b[38;5;241m60\u001b[39m,\u001b[38;5;241m48\u001b[39m,\u001b[38;5;241m33\u001b[39m],\n\u001b[0;32m      5\u001b[0m         \u001b[38;5;124m'\u001b[39m\u001b[38;5;124mLoan\u001b[39m\u001b[38;5;124m'\u001b[39m: [\u001b[38;5;241m40_000\u001b[39m,\u001b[38;5;241m60_000\u001b[39m,\u001b[38;5;241m80_000\u001b[39m,\u001b[38;5;241m20_000\u001b[39m,\u001b[38;5;241m120_000\u001b[39m,\u001b[38;5;241m18_000\u001b[39m,\u001b[38;5;241m95_000\u001b[39m,\u001b[38;5;241m62_000\u001b[39m,\u001b[38;5;241m100_000\u001b[39m,\u001b[38;5;241m220_000\u001b[39m,\u001b[38;5;241m150_000\u001b[39m],\n\u001b[0;32m      6\u001b[0m         \u001b[38;5;124m'\u001b[39m\u001b[38;5;124mHouse_Price\u001b[39m\u001b[38;5;124m'\u001b[39m:[\u001b[38;5;241m135\u001b[39m,\u001b[38;5;241m256\u001b[39m,\u001b[38;5;241m231\u001b[39m,\u001b[38;5;241m267\u001b[39m,\u001b[38;5;241m139\u001b[39m,\u001b[38;5;241m150\u001b[39m,\u001b[38;5;241m127\u001b[39m,\u001b[38;5;241m216\u001b[39m,\u001b[38;5;241m139\u001b[39m,\u001b[38;5;241m250\u001b[39m,\u001b[38;5;241m264\u001b[39m],\n\u001b[0;32m      7\u001b[0m         \u001b[38;5;124m'\u001b[39m\u001b[38;5;124mDistance\u001b[39m\u001b[38;5;124m'\u001b[39m:[\u001b[38;5;241m102000\u001b[39m,\u001b[38;5;241m82000\u001b[39m,\u001b[38;5;241m62000\u001b[39m,\u001b[38;5;241m122000\u001b[39m,\u001b[38;5;241m22000\u001b[39m,\u001b[38;5;241m124000\u001b[39m,\u001b[38;5;241m47000\u001b[39m,\u001b[38;5;241m80000\u001b[39m,\u001b[38;5;241m42000\u001b[39m,\u001b[38;5;241m78000\u001b[39m,\u001b[38;5;241m8000\u001b[39m]}\n",
      "File \u001b[1;32mc:\\Users\\Marwan Ali\\AppData\\Local\\Programs\\Python\\Python311\\Lib\\site-packages\\sklearn\\__init__.py:83\u001b[0m\n\u001b[0;32m     69\u001b[0m     \u001b[38;5;66;03m# We are not importing the rest of scikit-learn during the build\u001b[39;00m\n\u001b[0;32m     70\u001b[0m     \u001b[38;5;66;03m# process, as it may not be compiled yet\u001b[39;00m\n\u001b[0;32m     71\u001b[0m \u001b[38;5;28;01melse\u001b[39;00m:\n\u001b[1;32m   (...)\u001b[0m\n\u001b[0;32m     77\u001b[0m     \u001b[38;5;66;03m# later is linked to the OpenMP runtime to make it possible to introspect\u001b[39;00m\n\u001b[0;32m     78\u001b[0m     \u001b[38;5;66;03m# it and importing it first would fail if the OpenMP dll cannot be found.\u001b[39;00m\n\u001b[0;32m     79\u001b[0m     \u001b[38;5;28;01mfrom\u001b[39;00m \u001b[38;5;21;01m.\u001b[39;00m \u001b[38;5;28;01mimport\u001b[39;00m (\n\u001b[0;32m     80\u001b[0m         __check_build,  \u001b[38;5;66;03m# noqa: F401\u001b[39;00m\n\u001b[0;32m     81\u001b[0m         _distributor_init,  \u001b[38;5;66;03m# noqa: F401\u001b[39;00m\n\u001b[0;32m     82\u001b[0m     )\n\u001b[1;32m---> 83\u001b[0m     \u001b[38;5;28;01mfrom\u001b[39;00m \u001b[38;5;21;01m.\u001b[39;00m\u001b[38;5;21;01mbase\u001b[39;00m \u001b[38;5;28;01mimport\u001b[39;00m clone\n\u001b[0;32m     84\u001b[0m     \u001b[38;5;28;01mfrom\u001b[39;00m \u001b[38;5;21;01m.\u001b[39;00m\u001b[38;5;21;01mutils\u001b[39;00m\u001b[38;5;21;01m.\u001b[39;00m\u001b[38;5;21;01m_show_versions\u001b[39;00m \u001b[38;5;28;01mimport\u001b[39;00m show_versions\n\u001b[0;32m     86\u001b[0m     __all__ \u001b[38;5;241m=\u001b[39m [\n\u001b[0;32m     87\u001b[0m         \u001b[38;5;124m\"\u001b[39m\u001b[38;5;124mcalibration\u001b[39m\u001b[38;5;124m\"\u001b[39m,\n\u001b[0;32m     88\u001b[0m         \u001b[38;5;124m\"\u001b[39m\u001b[38;5;124mcluster\u001b[39m\u001b[38;5;124m\"\u001b[39m,\n\u001b[1;32m   (...)\u001b[0m\n\u001b[0;32m    129\u001b[0m         \u001b[38;5;124m\"\u001b[39m\u001b[38;5;124mshow_versions\u001b[39m\u001b[38;5;124m\"\u001b[39m,\n\u001b[0;32m    130\u001b[0m     ]\n",
      "File \u001b[1;32mc:\\Users\\Marwan Ali\\AppData\\Local\\Programs\\Python\\Python311\\Lib\\site-packages\\sklearn\\base.py:19\u001b[0m\n\u001b[0;32m     17\u001b[0m \u001b[38;5;28;01mfrom\u001b[39;00m \u001b[38;5;21;01m.\u001b[39;00m\u001b[38;5;21;01m_config\u001b[39;00m \u001b[38;5;28;01mimport\u001b[39;00m config_context, get_config\n\u001b[0;32m     18\u001b[0m \u001b[38;5;28;01mfrom\u001b[39;00m \u001b[38;5;21;01m.\u001b[39;00m\u001b[38;5;21;01mexceptions\u001b[39;00m \u001b[38;5;28;01mimport\u001b[39;00m InconsistentVersionWarning\n\u001b[1;32m---> 19\u001b[0m \u001b[38;5;28;01mfrom\u001b[39;00m \u001b[38;5;21;01m.\u001b[39;00m\u001b[38;5;21;01mutils\u001b[39;00m \u001b[38;5;28;01mimport\u001b[39;00m _IS_32BIT\n\u001b[0;32m     20\u001b[0m \u001b[38;5;28;01mfrom\u001b[39;00m \u001b[38;5;21;01m.\u001b[39;00m\u001b[38;5;21;01mutils\u001b[39;00m\u001b[38;5;21;01m.\u001b[39;00m\u001b[38;5;21;01m_estimator_html_repr\u001b[39;00m \u001b[38;5;28;01mimport\u001b[39;00m estimator_html_repr\n\u001b[0;32m     21\u001b[0m \u001b[38;5;28;01mfrom\u001b[39;00m \u001b[38;5;21;01m.\u001b[39;00m\u001b[38;5;21;01mutils\u001b[39;00m\u001b[38;5;21;01m.\u001b[39;00m\u001b[38;5;21;01m_metadata_requests\u001b[39;00m \u001b[38;5;28;01mimport\u001b[39;00m _MetadataRequester\n",
      "File \u001b[1;32mc:\\Users\\Marwan Ali\\AppData\\Local\\Programs\\Python\\Python311\\Lib\\site-packages\\sklearn\\utils\\__init__.py:15\u001b[0m\n\u001b[0;32m     12\u001b[0m \u001b[38;5;28;01mfrom\u001b[39;00m \u001b[38;5;21;01mitertools\u001b[39;00m \u001b[38;5;28;01mimport\u001b[39;00m compress, islice\n\u001b[0;32m     14\u001b[0m \u001b[38;5;28;01mimport\u001b[39;00m \u001b[38;5;21;01mnumpy\u001b[39;00m \u001b[38;5;28;01mas\u001b[39;00m \u001b[38;5;21;01mnp\u001b[39;00m\n\u001b[1;32m---> 15\u001b[0m \u001b[38;5;28;01mfrom\u001b[39;00m \u001b[38;5;21;01mscipy\u001b[39;00m\u001b[38;5;21;01m.\u001b[39;00m\u001b[38;5;21;01msparse\u001b[39;00m \u001b[38;5;28;01mimport\u001b[39;00m issparse\n\u001b[0;32m     17\u001b[0m \u001b[38;5;28;01mfrom\u001b[39;00m \u001b[38;5;21;01m.\u001b[39;00m\u001b[38;5;21;01m.\u001b[39;00m \u001b[38;5;28;01mimport\u001b[39;00m get_config\n\u001b[0;32m     18\u001b[0m \u001b[38;5;28;01mfrom\u001b[39;00m \u001b[38;5;21;01m.\u001b[39;00m\u001b[38;5;21;01m.\u001b[39;00m\u001b[38;5;21;01mexceptions\u001b[39;00m \u001b[38;5;28;01mimport\u001b[39;00m DataConversionWarning\n",
      "File \u001b[1;32mc:\\Users\\Marwan Ali\\AppData\\Local\\Programs\\Python\\Python311\\Lib\\site-packages\\scipy\\sparse\\__init__.py:276\u001b[0m\n\u001b[0;32m    274\u001b[0m \u001b[38;5;28;01mfrom\u001b[39;00m \u001b[38;5;21;01m.\u001b[39;00m\u001b[38;5;21;01m_csr\u001b[39;00m \u001b[38;5;28;01mimport\u001b[39;00m \u001b[38;5;241m*\u001b[39m\n\u001b[0;32m    275\u001b[0m \u001b[38;5;28;01mfrom\u001b[39;00m \u001b[38;5;21;01m.\u001b[39;00m\u001b[38;5;21;01m_csc\u001b[39;00m \u001b[38;5;28;01mimport\u001b[39;00m \u001b[38;5;241m*\u001b[39m\n\u001b[1;32m--> 276\u001b[0m \u001b[38;5;28;01mfrom\u001b[39;00m \u001b[38;5;21;01m.\u001b[39;00m\u001b[38;5;21;01m_lil\u001b[39;00m \u001b[38;5;28;01mimport\u001b[39;00m \u001b[38;5;241m*\u001b[39m\n\u001b[0;32m    277\u001b[0m \u001b[38;5;28;01mfrom\u001b[39;00m \u001b[38;5;21;01m.\u001b[39;00m\u001b[38;5;21;01m_dok\u001b[39;00m \u001b[38;5;28;01mimport\u001b[39;00m \u001b[38;5;241m*\u001b[39m\n\u001b[0;32m    278\u001b[0m \u001b[38;5;28;01mfrom\u001b[39;00m \u001b[38;5;21;01m.\u001b[39;00m\u001b[38;5;21;01m_coo\u001b[39;00m \u001b[38;5;28;01mimport\u001b[39;00m \u001b[38;5;241m*\u001b[39m\n",
      "File \u001b[1;32mc:\\Users\\Marwan Ali\\AppData\\Local\\Programs\\Python\\Python311\\Lib\\site-packages\\scipy\\sparse\\_lil.py:17\u001b[0m\n\u001b[0;32m     14\u001b[0m \u001b[38;5;28;01mfrom\u001b[39;00m \u001b[38;5;21;01m.\u001b[39;00m\u001b[38;5;21;01m_index\u001b[39;00m \u001b[38;5;28;01mimport\u001b[39;00m IndexMixin, INT_TYPES, _broadcast_arrays\n\u001b[0;32m     15\u001b[0m \u001b[38;5;28;01mfrom\u001b[39;00m \u001b[38;5;21;01m.\u001b[39;00m\u001b[38;5;21;01m_sputils\u001b[39;00m \u001b[38;5;28;01mimport\u001b[39;00m (getdtype, isshape, isscalarlike, upcast_scalar,\n\u001b[0;32m     16\u001b[0m                        check_shape, check_reshape_kwargs)\n\u001b[1;32m---> 17\u001b[0m \u001b[38;5;28;01mfrom\u001b[39;00m \u001b[38;5;21;01m.\u001b[39;00m \u001b[38;5;28;01mimport\u001b[39;00m _csparsetools\n\u001b[0;32m     20\u001b[0m \u001b[38;5;28;01mclass\u001b[39;00m \u001b[38;5;21;01m_lil_base\u001b[39;00m(_spbase, IndexMixin):\n\u001b[0;32m     21\u001b[0m \u001b[38;5;250m    \u001b[39m\u001b[38;5;124;03m\"\"\"Row-based LIst of Lists sparse matrix\u001b[39;00m\n\u001b[0;32m     22\u001b[0m \n\u001b[0;32m     23\u001b[0m \u001b[38;5;124;03m    This is a structure for constructing sparse matrices incrementally.\u001b[39;00m\n\u001b[1;32m   (...)\u001b[0m\n\u001b[0;32m     80\u001b[0m \n\u001b[0;32m     81\u001b[0m \u001b[38;5;124;03m    \"\"\"\u001b[39;00m\n",
      "File \u001b[1;32m<frozen importlib._bootstrap>:405\u001b[0m, in \u001b[0;36mparent\u001b[1;34m(self)\u001b[0m\n",
      "\u001b[1;31mKeyboardInterrupt\u001b[0m: "
     ]
    }
   ],
   "source": [
    "import pandas as pd\n",
    "from sklearn.neighbors import KNeighborsRegressor\n",
    "\n",
    "data = {'Age': [25,35,45,20,35,52,23,40,60,48,33],\n",
    "        'Loan': [40_000,60_000,80_000,20_000,120_000,18_000,95_000,62_000,100_000,220_000,150_000],\n",
    "        'House_Price':[135,256,231,267,139,150,127,216,139,250,264],\n",
    "        'Distance':[102000,82000,62000,122000,22000,124000,47000,80000,42000,78000,8000]}"
   ]
  },
  {
   "cell_type": "code",
   "execution_count": null,
   "metadata": {},
   "outputs": [],
   "source": [
    "df = pd.DataFrame(data)\n",
    "\n",
    "X = df[[\"Age\", \"Loan\"]]\n",
    "y = df[\"House_Price\"]"
   ]
  },
  {
   "cell_type": "code",
   "execution_count": null,
   "metadata": {},
   "outputs": [
    {
     "data": {
      "text/html": [
       "<style>#sk-container-id-1 {color: black;}#sk-container-id-1 pre{padding: 0;}#sk-container-id-1 div.sk-toggleable {background-color: white;}#sk-container-id-1 label.sk-toggleable__label {cursor: pointer;display: block;width: 100%;margin-bottom: 0;padding: 0.3em;box-sizing: border-box;text-align: center;}#sk-container-id-1 label.sk-toggleable__label-arrow:before {content: \"▸\";float: left;margin-right: 0.25em;color: #696969;}#sk-container-id-1 label.sk-toggleable__label-arrow:hover:before {color: black;}#sk-container-id-1 div.sk-estimator:hover label.sk-toggleable__label-arrow:before {color: black;}#sk-container-id-1 div.sk-toggleable__content {max-height: 0;max-width: 0;overflow: hidden;text-align: left;background-color: #f0f8ff;}#sk-container-id-1 div.sk-toggleable__content pre {margin: 0.2em;color: black;border-radius: 0.25em;background-color: #f0f8ff;}#sk-container-id-1 input.sk-toggleable__control:checked~div.sk-toggleable__content {max-height: 200px;max-width: 100%;overflow: auto;}#sk-container-id-1 input.sk-toggleable__control:checked~label.sk-toggleable__label-arrow:before {content: \"▾\";}#sk-container-id-1 div.sk-estimator input.sk-toggleable__control:checked~label.sk-toggleable__label {background-color: #d4ebff;}#sk-container-id-1 div.sk-label input.sk-toggleable__control:checked~label.sk-toggleable__label {background-color: #d4ebff;}#sk-container-id-1 input.sk-hidden--visually {border: 0;clip: rect(1px 1px 1px 1px);clip: rect(1px, 1px, 1px, 1px);height: 1px;margin: -1px;overflow: hidden;padding: 0;position: absolute;width: 1px;}#sk-container-id-1 div.sk-estimator {font-family: monospace;background-color: #f0f8ff;border: 1px dotted black;border-radius: 0.25em;box-sizing: border-box;margin-bottom: 0.5em;}#sk-container-id-1 div.sk-estimator:hover {background-color: #d4ebff;}#sk-container-id-1 div.sk-parallel-item::after {content: \"\";width: 100%;border-bottom: 1px solid gray;flex-grow: 1;}#sk-container-id-1 div.sk-label:hover label.sk-toggleable__label {background-color: #d4ebff;}#sk-container-id-1 div.sk-serial::before {content: \"\";position: absolute;border-left: 1px solid gray;box-sizing: border-box;top: 0;bottom: 0;left: 50%;z-index: 0;}#sk-container-id-1 div.sk-serial {display: flex;flex-direction: column;align-items: center;background-color: white;padding-right: 0.2em;padding-left: 0.2em;position: relative;}#sk-container-id-1 div.sk-item {position: relative;z-index: 1;}#sk-container-id-1 div.sk-parallel {display: flex;align-items: stretch;justify-content: center;background-color: white;position: relative;}#sk-container-id-1 div.sk-item::before, #sk-container-id-1 div.sk-parallel-item::before {content: \"\";position: absolute;border-left: 1px solid gray;box-sizing: border-box;top: 0;bottom: 0;left: 50%;z-index: -1;}#sk-container-id-1 div.sk-parallel-item {display: flex;flex-direction: column;z-index: 1;position: relative;background-color: white;}#sk-container-id-1 div.sk-parallel-item:first-child::after {align-self: flex-end;width: 50%;}#sk-container-id-1 div.sk-parallel-item:last-child::after {align-self: flex-start;width: 50%;}#sk-container-id-1 div.sk-parallel-item:only-child::after {width: 0;}#sk-container-id-1 div.sk-dashed-wrapped {border: 1px dashed gray;margin: 0 0.4em 0.5em 0.4em;box-sizing: border-box;padding-bottom: 0.4em;background-color: white;}#sk-container-id-1 div.sk-label label {font-family: monospace;font-weight: bold;display: inline-block;line-height: 1.2em;}#sk-container-id-1 div.sk-label-container {text-align: center;}#sk-container-id-1 div.sk-container {/* jupyter's `normalize.less` sets `[hidden] { display: none; }` but bootstrap.min.css set `[hidden] { display: none !important; }` so we also need the `!important` here to be able to override the default hidden behavior on the sphinx rendered scikit-learn.org. See: https://github.com/scikit-learn/scikit-learn/issues/21755 */display: inline-block !important;position: relative;}#sk-container-id-1 div.sk-text-repr-fallback {display: none;}</style><div id=\"sk-container-id-1\" class=\"sk-top-container\"><div class=\"sk-text-repr-fallback\"><pre>KNeighborsRegressor(n_neighbors=3)</pre><b>In a Jupyter environment, please rerun this cell to show the HTML representation or trust the notebook. <br />On GitHub, the HTML representation is unable to render, please try loading this page with nbviewer.org.</b></div><div class=\"sk-container\" hidden><div class=\"sk-item\"><div class=\"sk-estimator sk-toggleable\"><input class=\"sk-toggleable__control sk-hidden--visually\" id=\"sk-estimator-id-1\" type=\"checkbox\" checked><label for=\"sk-estimator-id-1\" class=\"sk-toggleable__label sk-toggleable__label-arrow\">KNeighborsRegressor</label><div class=\"sk-toggleable__content\"><pre>KNeighborsRegressor(n_neighbors=3)</pre></div></div></div></div></div>"
      ],
      "text/plain": [
       "KNeighborsRegressor(n_neighbors=3)"
      ]
     },
     "execution_count": 3,
     "metadata": {},
     "output_type": "execute_result"
    }
   ],
   "source": [
    "knn = KNeighborsRegressor(n_neighbors=3)\n",
    "\n",
    "knn.fit(X, y)"
   ]
  },
  {
   "cell_type": "code",
   "execution_count": null,
   "metadata": {},
   "outputs": [
    {
     "name": "stdout",
     "output_type": "stream",
     "text": [
      "Predicted house price index: 202.33333333333334\n"
     ]
    }
   ],
   "source": [
    "new_data = pd.DataFrame({\"Age\": [38], \"Loan\": [55000]})\n",
    "prediction = knn.predict(new_data)\n",
    "\n",
    "print(\"Predicted house price index:\", prediction[0])\n"
   ]
  },
  {
   "cell_type": "code",
   "execution_count": null,
   "metadata": {},
   "outputs": [],
   "source": [
    "import pandas as pd\n",
    "\n",
    "# Load the data from the table (replace with your actual data loading method)\n",
    "data = {'a':[65,45,70,48,61,66,58],\n",
    "        'b':[57,65,46,91,33,59,84],\n",
    "        'c':[54,48,62,87,38,76,53],\n",
    "        'class':[1,-1,-1,1,1,-1,1]}\n",
    "data = pd.DataFrame(data)\n",
    "\n",
    "# Define the model's prediction function\n",
    "def model_prediction(row):\n",
    "    if row[\"a\"] > 55 and row[\"c\"] > 65:\n",
    "        return 1\n",
    "    else:\n",
    "        return -1\n",
    "\n",
    "# Apply the model's predictions to create a new column\n",
    "data[\"predicted_class\"] = data.apply(model_prediction, axis=1)\n"
   ]
  },
  {
   "cell_type": "code",
   "execution_count": null,
   "metadata": {},
   "outputs": [
    {
     "name": "stdout",
     "output_type": "stream",
     "text": [
      "    a   b   c  class  predicted_class\n",
      "0  65  57  54      1               -1\n",
      "1  45  65  48     -1               -1\n",
      "2  70  46  62     -1               -1\n",
      "3  48  91  87      1               -1\n",
      "4  61  33  38      1               -1\n",
      "5  66  59  76     -1               -1\n",
      "6  58  84  53      1               -1\n"
     ]
    }
   ],
   "source": [
    "print(data)"
   ]
  },
  {
   "cell_type": "code",
   "execution_count": null,
   "metadata": {},
   "outputs": [
    {
     "data": {
      "text/plain": [
       "'              precision    recall  f1-score   support\\n\\n          -1       0.33      0.67      0.44         3\\n           1       0.00      0.00      0.00         4\\n\\n    accuracy                           0.29         7\\n   macro avg       0.17      0.33      0.22         7\\nweighted avg       0.14      0.29      0.19         7\\n'"
      ]
     },
     "execution_count": 18,
     "metadata": {},
     "output_type": "execute_result"
    }
   ],
   "source": [
    "from sklearn.metrics import classification_report\n",
    "classification_report(data[\"class\"], data[\"predicted_class\"])"
   ]
  },
  {
   "cell_type": "code",
   "execution_count": null,
   "metadata": {},
   "outputs": [
    {
     "name": "stdout",
     "output_type": "stream",
     "text": [
      "              precision    recall  f1-score   support\n",
      "\n",
      "          -1       0.43      1.00      0.60         3\n",
      "           1       0.00      0.00      0.00         4\n",
      "\n",
      "    accuracy                           0.43         7\n",
      "   macro avg       0.21      0.50      0.30         7\n",
      "weighted avg       0.18      0.43      0.26         7\n",
      "\n"
     ]
    },
    {
     "name": "stderr",
     "output_type": "stream",
     "text": [
      "c:\\Users\\Marwan Ali\\AppData\\Local\\Programs\\Python\\Python311\\Lib\\site-packages\\sklearn\\metrics\\_classification.py:1471: UndefinedMetricWarning: Precision and F-score are ill-defined and being set to 0.0 in labels with no predicted samples. Use `zero_division` parameter to control this behavior.\n",
      "  _warn_prf(average, modifier, msg_start, len(result))\n",
      "c:\\Users\\Marwan Ali\\AppData\\Local\\Programs\\Python\\Python311\\Lib\\site-packages\\sklearn\\metrics\\_classification.py:1471: UndefinedMetricWarning: Precision and F-score are ill-defined and being set to 0.0 in labels with no predicted samples. Use `zero_division` parameter to control this behavior.\n",
      "  _warn_prf(average, modifier, msg_start, len(result))\n",
      "c:\\Users\\Marwan Ali\\AppData\\Local\\Programs\\Python\\Python311\\Lib\\site-packages\\sklearn\\metrics\\_classification.py:1471: UndefinedMetricWarning: Precision and F-score are ill-defined and being set to 0.0 in labels with no predicted samples. Use `zero_division` parameter to control this behavior.\n",
      "  _warn_prf(average, modifier, msg_start, len(result))\n"
     ]
    }
   ],
   "source": [
    "from sklearn.metrics import classification_report\n",
    "y_true = [1,-1,-1,1,1,-1,1]\n",
    "y_pred = [-1,-1,-1,-1,-1,-1,-1]\n",
    "print(classification_report(y_true, y_pred,))"
   ]
  },
  {
   "cell_type": "code",
   "execution_count": 4,
   "metadata": {},
   "outputs": [
    {
     "name": "stdout",
     "output_type": "stream",
     "text": [
      "Tree structure:\n",
      "c\n",
      "  folder1\n",
      "    file1\n",
      "      Attributes:\n",
      "                Name: file1\n",
      "                Identifier: 1ed37e5c-eb0a-4f41-95b1-65f8eb14a383\n",
      "                Type: text\n",
      "                Protection: rw\n",
      "                Created: 2023-12-27 22:53:35\n",
      "                Modified: 2023-12-27 22:53:35\n",
      "                Accessed: 2023-12-27 22:53:35\n",
      "                Content: dsfwwe\n",
      "                Size: 6\n",
      "    subfolder\n",
      "      Attributes:\n",
      "                Name: subfolder\n",
      "                Identifier: d039e6f5-c388-4a1f-805f-1973b1fe1069\n",
      "                Type: Directory\n",
      "                Protection: rw\n",
      "                Created: 2023-12-27 22:53:49\n",
      "                Modified: 2023-12-27 22:53:49\n",
      "                Accessed: 2023-12-27 22:53:49\n",
      "  Attributes:\n",
      "        Name: c\n",
      "        UUID: 32b0c5a1-e241-44cc-ae05-fa7b48a2c8ea\n",
      "        Total Size: 100\n",
      "        Used Space: 6\n",
      "        Free Space: 94\n"
     ]
    }
   ],
   "source": [
    "import datetime\n",
    "import uuid\n",
    "\n",
    "class Node:\n",
    "    def __init__(self, value):\n",
    "        self.value = value\n",
    "        self.children = []\n",
    "        self.info = {}  # Store additional attributes for special types\n",
    "\n",
    "    def add_child(self, child):\n",
    "        self.children.append(child)\n",
    "\n",
    "def create_tree():\n",
    "    root_value = input(\"Enter the value for the root node: \")\n",
    "    root = Node(root_value)\n",
    "\n",
    "    # Add attributes to the root\n",
    "    root.info[\"Name\"] = root_value\n",
    "    root.info[\"UUID\"] = str(uuid.uuid4())\n",
    "    root.info[\"Total Size\"] = int(input(\"Enter the total size for the root node: \"))\n",
    "    root.info[\"Used Space\"] = 0\n",
    "    root.info[\"Free Space\"] = int(root.info[\"Total Size\"])\n",
    "\n",
    "    while True:\n",
    "        choice = input(\"Do you want to add a folder to the root node? (y/n): \")\n",
    "        if choice.lower() != 'y':\n",
    "            break\n",
    "\n",
    "        child_value = input(\"Enter the value for the folder node: \")\n",
    "        child = Node(child_value)\n",
    "        root.add_child(child)\n",
    "\n",
    "        # Recursively create children for the added child, passing the root\n",
    "        create_tree_recursive(root, child)\n",
    "\n",
    "    return root\n",
    "\n",
    "def create_tree_recursive(root, node):\n",
    "    def sum_file_children_sizes(self):\n",
    "        total_size = 0\n",
    "        for child in self.children:\n",
    "            if child.info[\"Type\"] == \"File\":\n",
    "                total_size += int(child.info[\"Size\"])  # Ensure size is an integer\n",
    "            elif child.info[\"Type\"] == \"Directory\":\n",
    "                total_size += child.sum_file_children_sizes()  # Recursively sum for subdirectories\n",
    "        return total_size\n",
    "    while True:\n",
    "        choice = input(f\"Do you want to add a child to node {node.value}? (y/n): \")\n",
    "        if choice.lower() != 'y':\n",
    "            break\n",
    "\n",
    "        child_value = input(\"Enter the value for the child node: \")\n",
    "        child_type = input(\"Enter the type for the child node: \")\n",
    "\n",
    "        child = Node(child_value)\n",
    "        node.add_child(child)\n",
    "\n",
    "        if child_type == \"file\":\n",
    "            # Add attributes for special type\n",
    "            child.info[\"Name\"] = child_value\n",
    "            child.info[\"Identifier\"] = str(uuid.uuid4())  # Generate unique identifier\n",
    "            child.info[\"Type\"] = input(\"Enter Type: \")\n",
    "            \n",
    "            child.info[\"Protection\"] = input(\"Enter Protection (e.g., rw): \")\n",
    "            child.info[\"Created\"] = datetime.datetime.now().strftime(\"%Y-%m-%d %H:%M:%S\")\n",
    "            child.info[\"Modified\"] = child.info[\"Created\"]\n",
    "            child.info[\"Accessed\"] = child.info[\"Created\"]\n",
    "            child.info[\"Content\"] = input(\"Enter Content: \")\n",
    "            child.info[\"Size\"] = len(child.info[\"Content\"])\n",
    "             # Update space only for the root node (representative of the filesystem)\n",
    "            root.info[\"Used Space\"] += int(child.info[\"Size\"])\n",
    "            root.info[\"Free Space\"] -= int(child.info[\"Size\"])\n",
    "            if root.info[\"Free Space\"] < 0:\n",
    "                print(\"insufficient space\")\n",
    "                exit()\n",
    "        elif child_type == 'folder':\n",
    "            # Add attributes for special type\n",
    "            child.info[\"Name\"] = child_value\n",
    "            child.info[\"Identifier\"] = str(uuid.uuid4())  # Generate unique identifier\n",
    "            child.info[\"Type\"] = \"Directory\"\n",
    "            child.info[\"Protection\"] = input(\"Enter Protection (e.g., rw): \")\n",
    "            child.info[\"Created\"] = datetime.datetime.now().strftime(\"%Y-%m-%d %H:%M:%S\")\n",
    "            child.info[\"Modified\"] = child.info[\"Created\"]\n",
    "            child.info[\"Accessed\"] = child.info[\"Created\"]\n",
    "            \n",
    "\n",
    "def print_tree(node, level=0):\n",
    "    print(\"  \" * level + str(node.value))\n",
    "    for child in node.children:\n",
    "        print_tree(child, level + 1)\n",
    "\n",
    "    # Check for special type and print its info\n",
    "    if node.info:\n",
    "        print(\"  \" * (level + 1) + \"Attributes:\")\n",
    "        for key, value in node.info.items():\n",
    "            print(\"    \" * (level + 2) + f\"{key}: {value}\")\n",
    "\n",
    "# Example usage\n",
    "tree = create_tree()\n",
    "print(\"Tree structure:\")\n",
    "print_tree(tree)\n"
   ]
  },
  {
   "cell_type": "code",
   "execution_count": null,
   "metadata": {},
   "outputs": [
    {
     "name": "stdout",
     "output_type": "stream",
     "text": [
      "Tree structure:\n",
      "c\n",
      "  ddsfs\n",
      "    file\n",
      "      Attributes:\n",
      "                Name: file\n",
      "                Identifier: 71bf85f4-238b-4fc9-a2fc-245e4ec8ebc8\n",
      "                Type: text\n",
      "                Protection: ew\n",
      "                Created: 2023-12-27 22:17:31\n",
      "                Modified: 2023-12-27 22:17:31\n",
      "                Accessed: 2023-12-27 22:17:31\n",
      "                Content: ewfwfwe\n",
      "                Size: 7\n"
     ]
    }
   ],
   "source": [
    "# #works fine iteration 2\n",
    "# class Node:\n",
    "#     def __init__(self, value):\n",
    "#         self.value = value\n",
    "#         self.children = []\n",
    "#         self.info = {}\n",
    "\n",
    "#     def add_child(self, child):\n",
    "#         self.children.append(child)\n",
    "\n",
    "# def create_tree():\n",
    "#     root_value = input(\"Enter the value for the root node: \")\n",
    "#     root = Node(root_value)\n",
    "\n",
    "#     while True:\n",
    "#         choice = input(\"Do you want to add a folder to the root node? (y/n): \")\n",
    "#         if choice.lower() != 'y':\n",
    "#             break\n",
    "\n",
    "#         child_value = input(\"Enter the value for the folder node: \")\n",
    "#         child = Node(child_value)\n",
    "#         root.add_child(child)\n",
    "\n",
    "#         # Recursively create children for the added child, if desired\n",
    "#         create_tree_recursive(child)\n",
    "\n",
    "#     return root\n",
    "    \n",
    "    \n",
    "# def create_tree_recursive(node):\n",
    "    \n",
    "#     def sum_file_children_sizes(self):\n",
    "#         total_size = 0\n",
    "#         for child in self.children:\n",
    "#             if child.info[\"Type\"] == \"File\":\n",
    "#                 total_size += int(child.info[\"Size\"])  # Ensure size is an integer\n",
    "#             elif child.info[\"Type\"] == \"Directory\":\n",
    "#                 total_size += child.sum_file_children_sizes()  # Recursively sum for subdirectories\n",
    "#         return total_size\n",
    "#     while True:\n",
    "#         choice = input(f\"Do you want to add a child to node {node.value}? (y/n): \")\n",
    "#         if choice.lower() != 'y':\n",
    "#             break\n",
    "\n",
    "#         child_value = input(\"Enter the value for the child node: \")\n",
    "#         child_type = input(\"Enter the type for the child node: \")\n",
    "\n",
    "#         child = Node(child_value)\n",
    "#         node.add_child(child)\n",
    "\n",
    "#         if child_type == \"file\":\n",
    "#             # Add attributes for special type\n",
    "#             child.info[\"Name\"] = child_value\n",
    "#             child.info[\"Identifier\"] = str(uuid.uuid4())  # Generate unique identifier\n",
    "#             child.info[\"Type\"] = input(\"Enter Type: \")\n",
    "            \n",
    "#             child.info[\"Protection\"] = input(\"Enter Protection (e.g., rw): \")\n",
    "#             child.info[\"Created\"] = datetime.datetime.now().strftime(\"%Y-%m-%d %H:%M:%S\")\n",
    "#             child.info[\"Modified\"] = child.info[\"Created\"]\n",
    "#             child.info[\"Accessed\"] = child.info[\"Created\"]\n",
    "#             child.info[\"Content\"] = input(\"Enter Content: \")\n",
    "#             child.info[\"Size\"] = len(child.info[\"Content\"])\n",
    "#         elif child_type == 'folder':\n",
    "#             # Add attributes for special type\n",
    "#             child.info[\"Name\"] = child_value\n",
    "#             child.info[\"Identifier\"] = str(uuid.uuid4())  # Generate unique identifier\n",
    "#             child.info[\"Type\"] = \"Directory\"\n",
    "#             child.info[\"Size\"] = sum_file_children_sizes()\n",
    "#             child.info[\"Protection\"] = input(\"Enter Protection (e.g., rw): \")\n",
    "#             child.info[\"Created\"] = datetime.datetime.now().strftime(\"%Y-%m-%d %H:%M:%S\")\n",
    "#             child.info[\"Modified\"] = child.info[\"Created\"]\n",
    "#             child.info[\"Accessed\"] = child.info[\"Created\"]\n",
    "            \n",
    "\n",
    "# def print_tree(node, level=0):\n",
    "#     print(\"  \" * level + str(node.value))\n",
    "#     for child in node.children:\n",
    "#         print_tree(child, level + 1)\n",
    "\n",
    "#     # Check for special type and print its info\n",
    "#     if node.info:\n",
    "#         print(\"  \" * (level + 1) + \"Attributes:\")\n",
    "#         for key, value in node.info.items():\n",
    "#             print(\"    \" * (level + 2) + f\"{key}: {value}\")\n",
    "\n",
    "# # Example usage\n",
    "# tree = create_tree()\n",
    "# print(\"Tree structure:\")\n",
    "# print_tree(tree)\n"
   ]
  },
  {
   "cell_type": "code",
   "execution_count": 6,
   "metadata": {},
   "outputs": [
    {
     "name": "stdout",
     "output_type": "stream",
     "text": [
      "dsfwwe\n"
     ]
    }
   ],
   "source": [
    "def find_node_by_name(root, target_name):\n",
    "    if root.value == target_name:\n",
    "        return root\n",
    "\n",
    "    for child in root.children:\n",
    "        found_node = find_node_by_name(child, target_name)\n",
    "        if found_node:\n",
    "            return found_node\n",
    "\n",
    "    return None\n",
    "\n",
    "def retrieve_content(root, target_name):\n",
    "    node = find_node_by_name(root, target_name)\n",
    "    if node:\n",
    "        if node.info and 'Content' in node.info:\n",
    "            node.info[\"Accessed\"] = datetime.datetime.now().strftime(\"%Y-%m-%d %H:%M:%S\")\n",
    "            return node.info['Content']\n",
    "        \n",
    "        else:\n",
    "            return f\"No content found for node '{target_name}'.\"\n",
    "    else:\n",
    "        return f\"Node '{target_name}' not found in the tree.\"\n",
    "# Assuming 'tree' is the root of your tree structure\n",
    "name_to_retrieve_content = \"file1\"  # Replace 'some_name' with the name you want to retrieve content for\n",
    "content = retrieve_content(tree, name_to_retrieve_content)\n",
    "print(content)\n"
   ]
  },
  {
   "cell_type": "code",
   "execution_count": 7,
   "metadata": {},
   "outputs": [
    {
     "data": {
      "text/plain": [
       "\"Node 'file1' moved from 'folder1' to 'c' successfully.\""
      ]
     },
     "execution_count": 7,
     "metadata": {},
     "output_type": "execute_result"
    }
   ],
   "source": [
    "def move_node(root, current_parent_name, child_name, new_parent_name):\n",
    "    current_parent = find_node_by_name(root, current_parent_name)\n",
    "    child_node = find_node_by_name(root, child_name)\n",
    "    new_parent = find_node_by_name(root, new_parent_name)\n",
    "\n",
    "    if not current_parent:\n",
    "        return f\"Current parent node '{current_parent_name}' not found.\"\n",
    "    if not child_node:\n",
    "        return f\"Child node '{child_name}' not found.\"\n",
    "    if not new_parent:\n",
    "        return f\"New parent node '{new_parent_name}' not found.\"\n",
    "\n",
    "    current_parent.children.remove(child_node)\n",
    "    new_parent.children.append(child_node)\n",
    "    return f\"Node '{child_name}' moved from '{current_parent_name}' to '{new_parent_name}' successfully.\"\n",
    "\n",
    "move_node(tree,\"folder1\",\"file1\",\"c\")"
   ]
  },
  {
   "cell_type": "code",
   "execution_count": 8,
   "metadata": {},
   "outputs": [
    {
     "name": "stdout",
     "output_type": "stream",
     "text": [
      "c\n",
      "  folder1\n",
      "    subfolder\n",
      "      Attributes:\n",
      "                Name: subfolder\n",
      "                Identifier: d039e6f5-c388-4a1f-805f-1973b1fe1069\n",
      "                Type: Directory\n",
      "                Protection: rw\n",
      "                Created: 2023-12-27 22:53:49\n",
      "                Modified: 2023-12-27 22:53:49\n",
      "                Accessed: 2023-12-27 22:53:49\n",
      "  file1\n",
      "    Attributes:\n",
      "            Name: file1\n",
      "            Identifier: 1ed37e5c-eb0a-4f41-95b1-65f8eb14a383\n",
      "            Type: text\n",
      "            Protection: rw\n",
      "            Created: 2023-12-27 22:53:35\n",
      "            Modified: 2023-12-27 22:53:35\n",
      "            Accessed: 2023-12-27 22:56:10\n",
      "            Content: dsfwwe\n",
      "            Size: 6\n",
      "  Attributes:\n",
      "        Name: c\n",
      "        UUID: 32b0c5a1-e241-44cc-ae05-fa7b48a2c8ea\n",
      "        Total Size: 100\n",
      "        Used Space: 6\n",
      "        Free Space: 94\n"
     ]
    }
   ],
   "source": [
    "print_tree(tree)"
   ]
  },
  {
   "cell_type": "code",
   "execution_count": 9,
   "metadata": {},
   "outputs": [
    {
     "name": "stdout",
     "output_type": "stream",
     "text": [
      "Content for node 'file1' updated successfully.\n"
     ]
    }
   ],
   "source": [
    "def modify_content_by_name(root, target_name):\n",
    "    node = find_node_by_name(root, target_name)\n",
    "    if node:\n",
    "        if node.info and 'Content' in node.info:\n",
    "            new_content = input(\"Modify content\")\n",
    "            node.info['Content'] = new_content\n",
    "            node.info['Modified'] = datetime.datetime.now().strftime(\"%Y-%m-%d %H:%M:%S\")\n",
    "            node.info[\"Accessed\"] = datetime.datetime.now().strftime(\"%Y-%m-%d %H:%M:%S\")\n",
    "            return f\"Content for node '{target_name}' updated successfully.\"\n",
    "        else:\n",
    "            return f\"No content found for node '{target_name}'.\"\n",
    "    else:\n",
    "        return f\"Node '{target_name}' not found in the tree.\"\n",
    "name_to_retrieve_content = \"file1\"  # Replace 'some_name' with the name you want to retrieve content for\n",
    "content = modify_content_by_name(tree, name_to_retrieve_content)\n",
    "print(content)"
   ]
  },
  {
   "cell_type": "code",
   "execution_count": 11,
   "metadata": {},
   "outputs": [
    {
     "name": "stdout",
     "output_type": "stream",
     "text": [
      "Protection for node 'file1' updated successfully.\n"
     ]
    }
   ],
   "source": [
    "def modify_protection_by_name(root, target_name):\n",
    "    node = find_node_by_name(root, target_name)\n",
    "    if node:\n",
    "        if node.info and 'Protection' in node.info:\n",
    "            new_protection = input(\"Modify Protection\")\n",
    "            node.info['Protection'] = new_protection\n",
    "            \n",
    "#             child.info[\"Modified\"] = child.info[\"Created\"]\n",
    "#             child.info[\"Accessed\"] = child.info[\"Created\"]\n",
    "            node.info['Modified'] = datetime.datetime.now().strftime(\"%Y-%m-%d %H:%M:%S\")\n",
    "            node.info[\"Accessed\"] = datetime.datetime.now().strftime(\"%Y-%m-%d %H:%M:%S\")\n",
    "            return f\"Protection for node '{target_name}' updated successfully.\"\n",
    "        else:\n",
    "            return f\"No Protection found for node '{target_name}'.\"\n",
    "    else:\n",
    "        return f\"Node '{target_name}' not found in the tree.\"\n",
    "name_to_retrieve_content = \"file1\"  # Replace 'some_name' with the name you want to retrieve content for\n",
    "content = modify_protection_by_name(tree, name_to_retrieve_content)\n",
    "print(content)"
   ]
  },
  {
   "cell_type": "code",
   "execution_count": 12,
   "metadata": {},
   "outputs": [
    {
     "name": "stdout",
     "output_type": "stream",
     "text": [
      "{'Accessed': '2023-12-27 22:58:03',\n",
      " 'Content': 'erewr',\n",
      " 'Created': '2023-12-27 22:53:35',\n",
      " 'Identifier': '1ed37e5c-eb0a-4f41-95b1-65f8eb14a383',\n",
      " 'Modified': '2023-12-27 22:58:03',\n",
      " 'Name': 'file1',\n",
      " 'Protection': 'w',\n",
      " 'Size': 6,\n",
      " 'Type': 'text'}\n"
     ]
    }
   ],
   "source": [
    "import pprint\n",
    "def retrieve_info(root, target_name):\n",
    "    node = find_node_by_name(root, target_name)\n",
    "    if node:\n",
    "        if node.info and 'Content' in node.info:\n",
    "            return node.info\n",
    "        else:\n",
    "            return f\"No content found for node '{target_name}'.\"\n",
    "    else:\n",
    "        return f\"Node '{target_name}' not found in the tree.\"\n",
    "content = retrieve_info(tree, name_to_retrieve_content)\n",
    "pprint.pprint(content)"
   ]
  },
  {
   "cell_type": "code",
   "execution_count": 14,
   "metadata": {},
   "outputs": [
    {
     "data": {
      "text/plain": [
       "['subfolder']"
      ]
     },
     "execution_count": 14,
     "metadata": {},
     "output_type": "execute_result"
    }
   ],
   "source": [
    "def list_children_of_node(root, target_name):\n",
    "    node = find_node_by_name(root, target_name)\n",
    "    if node:\n",
    "        children_values = [child.value for child in node.children]\n",
    "        if children_values:\n",
    "            return children_values\n",
    "        else:\n",
    "            return f\"No children found for node '{target_name}'.\"\n",
    "    else:\n",
    "        return f\"Node '{target_name}' not found in the tree.\"\n",
    "\n",
    "list_children_of_node(tree,\"folder1\")"
   ]
  },
  {
   "cell_type": "code",
   "execution_count": 15,
   "metadata": {},
   "outputs": [
    {
     "name": "stdout",
     "output_type": "stream",
     "text": [
      "c\n",
      "  folder1\n",
      "    subfolder\n",
      "      Attributes:\n",
      "                Name: subfolder\n",
      "                Identifier: d039e6f5-c388-4a1f-805f-1973b1fe1069\n",
      "                Type: Directory\n",
      "                Protection: rw\n",
      "                Created: 2023-12-27 22:53:49\n",
      "                Modified: 2023-12-27 22:53:49\n",
      "                Accessed: 2023-12-27 22:53:49\n",
      "  file1\n",
      "    Attributes:\n",
      "            Name: file1\n",
      "            Identifier: 1ed37e5c-eb0a-4f41-95b1-65f8eb14a383\n",
      "            Type: text\n",
      "            Protection: w\n",
      "            Created: 2023-12-27 22:53:35\n",
      "            Modified: 2023-12-27 22:58:03\n",
      "            Accessed: 2023-12-27 22:58:03\n",
      "            Content: erewr\n",
      "            Size: 6\n",
      "  Attributes:\n",
      "        Name: c\n",
      "        UUID: 32b0c5a1-e241-44cc-ae05-fa7b48a2c8ea\n",
      "        Total Size: 100\n",
      "        Used Space: 6\n",
      "        Free Space: 94\n"
     ]
    }
   ],
   "source": [
    "print_tree(tree)"
   ]
  },
  {
   "cell_type": "code",
   "execution_count": 16,
   "metadata": {},
   "outputs": [],
   "source": [
    "# second delete\n",
    "def delete_node(root, node_value):\n",
    "    \"\"\"Deletes a node with the given value from the tree, updating space usage\n",
    "    for files and folders recursively.\"\"\"\n",
    "\n",
    "    def find_and_delete(node):\n",
    "        \"\"\"Recursively searches for the node to delete and handles deletion.\"\"\"\n",
    "        for child in node.children:\n",
    "            if child.value == node_value:\n",
    "                # Update space usage before deleting\n",
    "                if child.info.get(\"Size\"):  # File\n",
    "                    root.info[\"Used Space\"] -= child.info[\"Size\"]\n",
    "                    root.info[\"Free Space\"] += child.info[\"Size\"]\n",
    "                else:  # Folder\n",
    "                    # Recursively update space for files within the folder\n",
    "                    for subchild in child.children:\n",
    "                        if subchild.info.get(\"Size\"):\n",
    "                            root.info[\"Used Space\"] -= subchild.info[\"Size\"]\n",
    "                            root.info[\"Free Space\"] += subchild.info[\"Size\"]\n",
    "\n",
    "                node.children.remove(child)\n",
    "                return True  # Node found and deleted\n",
    "\n",
    "            if find_and_delete(child):  # Recursively search children\n",
    "                return True\n",
    "\n",
    "        return False  # Node not found\n",
    "\n",
    "    if find_and_delete(root):\n",
    "        print(f\"Node {node_value} deleted successfully.\")\n",
    "    else:\n",
    "        print(f\"Node {node_value} not found.\")\n"
   ]
  },
  {
   "cell_type": "code",
   "execution_count": 17,
   "metadata": {},
   "outputs": [
    {
     "name": "stdout",
     "output_type": "stream",
     "text": [
      "Node subfolder deleted successfully.\n"
     ]
    }
   ],
   "source": [
    "delete_node(tree,\"subfolder\")"
   ]
  },
  {
   "cell_type": "code",
   "execution_count": 18,
   "metadata": {},
   "outputs": [
    {
     "name": "stdout",
     "output_type": "stream",
     "text": [
      "c\n",
      "  folder1\n",
      "  file1\n",
      "    Attributes:\n",
      "            Name: file1\n",
      "            Identifier: 1ed37e5c-eb0a-4f41-95b1-65f8eb14a383\n",
      "            Type: text\n",
      "            Protection: w\n",
      "            Created: 2023-12-27 22:53:35\n",
      "            Modified: 2023-12-27 22:58:03\n",
      "            Accessed: 2023-12-27 22:58:03\n",
      "            Content: erewr\n",
      "            Size: 6\n",
      "  Attributes:\n",
      "        Name: c\n",
      "        UUID: 32b0c5a1-e241-44cc-ae05-fa7b48a2c8ea\n",
      "        Total Size: 100\n",
      "        Used Space: 6\n",
      "        Free Space: 94\n"
     ]
    }
   ],
   "source": [
    "print_tree(tree)"
   ]
  },
  {
   "cell_type": "code",
   "execution_count": 19,
   "metadata": {},
   "outputs": [],
   "source": [
    "def copy_child(root, source_node, destination_node):\n",
    "    \"\"\"Copies a child node (and its children) to another child node.\"\"\"\n",
    "\n",
    "    def find_and_copy(source, destination):\n",
    "        \"\"\"Recursively searches for the source node and copies it.\"\"\"\n",
    "        for child in source.children:\n",
    "            if child.value == source_node.value:\n",
    "                # Create a copy of the node\n",
    "                new_child = Node(child.value)\n",
    "                new_child.info = child.info.copy()  # Copy attributes\n",
    "\n",
    "                # Recursively copy children\n",
    "                for subchild in child.children:\n",
    "                    find_and_copy(child, new_child)\n",
    "\n",
    "                destination.add_child(new_child)  # Add the copied node\n",
    "\n",
    "                # Update space usage for files (if tracked for folders)\n",
    "                if \"Size\" in new_child.info:\n",
    "                    root.info[\"Used Space\"] += new_child.info[\"Size\"]\n",
    "                    root.info[\"Free Space\"] -= new_child.info[\"Size\"]\n",
    "\n",
    "                return True  # Node found and copied\n",
    "\n",
    "            if find_and_copy(child, destination):  # Recursively search children\n",
    "                return True\n",
    "\n",
    "        return False  # Node not found\n",
    "\n",
    "    if find_and_copy(root, destination_node):\n",
    "        print(f\"Node {source_node.value} copied successfully to {destination_node.value}.\")\n",
    "    else:\n",
    "        print(f\"Node {source_node.value} not found.\")\n"
   ]
  },
  {
   "cell_type": "code",
   "execution_count": 21,
   "metadata": {},
   "outputs": [],
   "source": [
    "def find_node_by_value(node, value):\n",
    "    \"\"\"Recursively searches for a node with the given value.\"\"\"\n",
    "    if node.value == value:\n",
    "        return node\n",
    "\n",
    "    for child in node.children:\n",
    "        found_node = find_node_by_value(child, value)\n",
    "        if found_node:\n",
    "            return found_node\n",
    "\n",
    "    return None  # Node not found"
   ]
  },
  {
   "cell_type": "code",
   "execution_count": 22,
   "metadata": {},
   "outputs": [
    {
     "name": "stdout",
     "output_type": "stream",
     "text": [
      "Node file1 copied successfully to folder1.\n"
     ]
    }
   ],
   "source": [
    "source_node = find_node_by_value(tree, \"file1\")\n",
    "destination_node = find_node_by_value(tree, \"folder1\")\n",
    "copy_child(tree, source_node,destination_node)\n"
   ]
  },
  {
   "cell_type": "code",
   "execution_count": 23,
   "metadata": {},
   "outputs": [
    {
     "name": "stdout",
     "output_type": "stream",
     "text": [
      "c\n",
      "  folder1\n",
      "    file1\n",
      "      Attributes:\n",
      "                Name: file1\n",
      "                Identifier: 1ed37e5c-eb0a-4f41-95b1-65f8eb14a383\n",
      "                Type: text\n",
      "                Protection: w\n",
      "                Created: 2023-12-27 22:53:35\n",
      "                Modified: 2023-12-27 22:58:03\n",
      "                Accessed: 2023-12-27 22:58:03\n",
      "                Content: erewr\n",
      "                Size: 6\n",
      "  file1\n",
      "    Attributes:\n",
      "            Name: file1\n",
      "            Identifier: 1ed37e5c-eb0a-4f41-95b1-65f8eb14a383\n",
      "            Type: text\n",
      "            Protection: w\n",
      "            Created: 2023-12-27 22:53:35\n",
      "            Modified: 2023-12-27 22:58:03\n",
      "            Accessed: 2023-12-27 22:58:03\n",
      "            Content: erewr\n",
      "            Size: 6\n",
      "  Attributes:\n",
      "        Name: c\n",
      "        UUID: 32b0c5a1-e241-44cc-ae05-fa7b48a2c8ea\n",
      "        Total Size: 100\n",
      "        Used Space: 12\n",
      "        Free Space: 88\n"
     ]
    }
   ],
   "source": [
    "print_tree(tree)"
   ]
  },
  {
   "cell_type": "code",
   "execution_count": null,
   "metadata": {},
   "outputs": [
    {
     "name": "stdout",
     "output_type": "stream",
     "text": [
      "Node subfldr1 deleted successfully.\n"
     ]
    }
   ],
   "source": [
    "delete_node(tree,\"subfldr1\")"
   ]
  },
  {
   "cell_type": "code",
   "execution_count": null,
   "metadata": {},
   "outputs": [
    {
     "name": "stdout",
     "output_type": "stream",
     "text": [
      "c\n",
      "  fldr1\n",
      "    file2\n",
      "      Attributes:\n",
      "                Name: file2\n",
      "                Identifier: f574b51d-77c7-4de2-bff7-b24a863c1010\n",
      "                Type: image\n",
      "                Size: 100\n",
      "                Protection: rw\n",
      "                Created: 2023-12-27 20:48:09\n",
      "                Modified: 2023-12-27 20:48:09\n",
      "                Accessed: 2023-12-27 20:48:09\n",
      "                Content: dfvefv\n",
      "  fldr2\n",
      "  Attributes:\n",
      "        Name: c\n",
      "        UUID: e65292a5-ca1c-4f54-b1f3-15bb0415c6b2\n",
      "        Total Size: 1000\n",
      "        Used Space: 100\n",
      "        Free Space: 900\n"
     ]
    }
   ],
   "source": [
    "print_tree(tree)"
   ]
  },
  {
   "cell_type": "code",
   "execution_count": 27,
   "metadata": {},
   "outputs": [],
   "source": [
    "def add_file(root, parent_value, child_value, child_type=\"file\"):\n",
    "    \"\"\"Adds a child node to an existing child node.\"\"\"\n",
    "\n",
    "    def find_parent(node):\n",
    "        \"\"\"Recursively searches for the parent node with the given value.\"\"\"\n",
    "        if node.value == parent_value:\n",
    "            return node\n",
    "\n",
    "        for child in node.children:\n",
    "            parent = find_parent(child)\n",
    "            if parent:\n",
    "                return parent\n",
    "\n",
    "        return None  # Parent node not found\n",
    "\n",
    "    parent = find_parent(root)\n",
    "    if parent:\n",
    "        child = Node(child_value)\n",
    "        parent.add_child(child)\n",
    "\n",
    "        if child_type == \"file\":\n",
    "            # Add attributes for special type\n",
    "            child.info[\"Name\"] = child_value\n",
    "            child.info[\"Identifier\"] = str(uuid.uuid4())  # Generate unique identifier\n",
    "            child.info[\"Type\"] = input(\"Enter Type: \")\n",
    "            \n",
    "            child.info[\"Protection\"] = input(\"Enter Protection (e.g., rw): \")\n",
    "            child.info[\"Created\"] = datetime.datetime.now().strftime(\"%Y-%m-%d %H:%M:%S\")\n",
    "            child.info[\"Modified\"] = child.info[\"Created\"]\n",
    "            child.info[\"Accessed\"] = child.info[\"Created\"]\n",
    "            child.info[\"Content\"] = input(\"Enter Content: \")\n",
    "            child.info[\"Size\"] = len(child.info[\"Content\"])\n",
    "\n",
    "        # Update space usage if necessary\n",
    "        if \"Size\" in child.info:\n",
    "            root.info[\"Used Space\"] += child.info[\"Size\"]\n",
    "            root.info[\"Free Space\"] -= child.info[\"Size\"]\n",
    "\n",
    "        print(f\"Child node {child_value} added successfully to {parent_value}.\")\n",
    "    else:\n",
    "        print(f\"Parent node {parent_value} not found.\")\n"
   ]
  },
  {
   "cell_type": "code",
   "execution_count": 25,
   "metadata": {},
   "outputs": [
    {
     "name": "stdout",
     "output_type": "stream",
     "text": [
      "Child node file2 added successfully to c.\n"
     ]
    }
   ],
   "source": [
    "add_file(tree,\"c\",\"file2\")"
   ]
  },
  {
   "cell_type": "code",
   "execution_count": 26,
   "metadata": {},
   "outputs": [
    {
     "name": "stdout",
     "output_type": "stream",
     "text": [
      "c\n",
      "  folder1\n",
      "    file1\n",
      "      Attributes:\n",
      "                Name: file1\n",
      "                Identifier: 1ed37e5c-eb0a-4f41-95b1-65f8eb14a383\n",
      "                Type: text\n",
      "                Protection: w\n",
      "                Created: 2023-12-27 22:53:35\n",
      "                Modified: 2023-12-27 22:58:03\n",
      "                Accessed: 2023-12-27 22:58:03\n",
      "                Content: erewr\n",
      "                Size: 6\n",
      "  file1\n",
      "    Attributes:\n",
      "            Name: file1\n",
      "            Identifier: 1ed37e5c-eb0a-4f41-95b1-65f8eb14a383\n",
      "            Type: text\n",
      "            Protection: w\n",
      "            Created: 2023-12-27 22:53:35\n",
      "            Modified: 2023-12-27 22:58:03\n",
      "            Accessed: 2023-12-27 22:58:03\n",
      "            Content: erewr\n",
      "            Size: 6\n",
      "  file2\n",
      "    Attributes:\n",
      "            Name: file2\n",
      "            Identifier: c295db90-b17e-4d0f-bde9-3b00c04e45a0\n",
      "            Type: image\n",
      "            Size: 2\n",
      "            Protection: rw\n",
      "            Created: 2023-12-27 23:02:09\n",
      "            Modified: 2023-12-27 23:02:09\n",
      "            Accessed: 2023-12-27 23:02:09\n",
      "            Content: wwe\n",
      "  Attributes:\n",
      "        Name: c\n",
      "        UUID: 32b0c5a1-e241-44cc-ae05-fa7b48a2c8ea\n",
      "        Total Size: 100\n",
      "        Used Space: 14\n",
      "        Free Space: 86\n"
     ]
    }
   ],
   "source": [
    "print_tree(tree)"
   ]
  },
  {
   "cell_type": "code",
   "execution_count": 31,
   "metadata": {},
   "outputs": [],
   "source": [
    "def create_folder(root, parent_value=None, folder_name=None):\n",
    "    \"\"\"Creates a folder within a specified parent folder or at the root node.\"\"\"\n",
    "\n",
    "    def find_parent(node):\n",
    "        \"\"\"Recursively searches for the parent node with the given value.\"\"\"\n",
    "        if node.value == parent_value:\n",
    "            return node\n",
    "\n",
    "        for child in node.children:\n",
    "            parent = find_parent(child)\n",
    "            if parent:\n",
    "                return parent\n",
    "\n",
    "        return None  # Parent node not found\n",
    "\n",
    "    parent = root if parent_value is None else find_parent(root)\n",
    "\n",
    "    if parent:\n",
    "        while True:\n",
    "            if folder_name is None:\n",
    "                folder_name = input(\"Enter the name of the new folder: \")\n",
    "\n",
    "            new_folder = Node(folder_name)  # Create the folder node\n",
    "            new_folder.info[\"Name\"] = folder_name\n",
    "            new_folder.info[\"Identifier\"] = str(uuid.uuid4())  # Generate unique identifier\n",
    "            new_folder.info[\"Type\"] = \"Directory\"\n",
    "            new_folder.info[\"Protection\"] = input(\"Enter Protection (e.g., rw): \")\n",
    "            new_folder.info[\"Created\"] = datetime.datetime.now().strftime(\"%Y-%m-%d %H:%M:%S\")\n",
    "            new_folder.info[\"Modified\"] = new_folder.info[\"Created\"]\n",
    "            new_folder.info[\"Accessed\"] = new_folder.info[\"Created\"]\n",
    "            if new_folder.value not in [child.value for child in parent.children]:\n",
    "                parent.add_child(new_folder)  # Add it as a child of the parent\n",
    "                print(f\"Folder {folder_name} created successfully within {parent.value}.\")\n",
    "                return\n",
    "            else:\n",
    "                print(f\"Folder {folder_name} already exists in this location.\")\n",
    "                folder_name = None  # Prompt for a new name\n",
    "    else:\n",
    "        print(f\"Parent node {parent_value} not found.\")\n"
   ]
  },
  {
   "cell_type": "code",
   "execution_count": 32,
   "metadata": {},
   "outputs": [
    {
     "name": "stdout",
     "output_type": "stream",
     "text": [
      "Folder subfldr3 created successfully within folder1.\n"
     ]
    }
   ],
   "source": [
    "create_folder(tree,\"folder1\",\"subfldr3\")"
   ]
  },
  {
   "cell_type": "code",
   "execution_count": 33,
   "metadata": {},
   "outputs": [
    {
     "name": "stdout",
     "output_type": "stream",
     "text": [
      "c\n",
      "  folder1\n",
      "    file1\n",
      "      Attributes:\n",
      "                Name: file1\n",
      "                Identifier: 1ed37e5c-eb0a-4f41-95b1-65f8eb14a383\n",
      "                Type: text\n",
      "                Protection: w\n",
      "                Created: 2023-12-27 22:53:35\n",
      "                Modified: 2023-12-27 22:58:03\n",
      "                Accessed: 2023-12-27 22:58:03\n",
      "                Content: erewr\n",
      "                Size: 6\n",
      "    subfldr2\n",
      "    subfldr3\n",
      "      Attributes:\n",
      "                Name: subfldr3\n",
      "                Identifier: 780f6be8-b719-4010-acd0-0edd0ca03b43\n",
      "                Type: Directory\n",
      "                Protection: rw\n",
      "                Created: 2023-12-27 23:06:55\n",
      "                Modified: 2023-12-27 23:06:55\n",
      "                Accessed: 2023-12-27 23:06:55\n",
      "  file1\n",
      "    Attributes:\n",
      "            Name: file1\n",
      "            Identifier: 1ed37e5c-eb0a-4f41-95b1-65f8eb14a383\n",
      "            Type: text\n",
      "            Protection: w\n",
      "            Created: 2023-12-27 22:53:35\n",
      "            Modified: 2023-12-27 22:58:03\n",
      "            Accessed: 2023-12-27 22:58:03\n",
      "            Content: erewr\n",
      "            Size: 6\n",
      "  file2\n",
      "    Attributes:\n",
      "            Name: file2\n",
      "            Identifier: c295db90-b17e-4d0f-bde9-3b00c04e45a0\n",
      "            Type: image\n",
      "            Size: 2\n",
      "            Protection: rw\n",
      "            Created: 2023-12-27 23:02:09\n",
      "            Modified: 2023-12-27 23:02:09\n",
      "            Accessed: 2023-12-27 23:02:09\n",
      "            Content: wwe\n",
      "  Attributes:\n",
      "        Name: c\n",
      "        UUID: 32b0c5a1-e241-44cc-ae05-fa7b48a2c8ea\n",
      "        Total Size: 100\n",
      "        Used Space: 14\n",
      "        Free Space: 86\n"
     ]
    }
   ],
   "source": [
    "print_tree(tree)"
   ]
  },
  {
   "cell_type": "code",
   "execution_count": 34,
   "metadata": {},
   "outputs": [
    {
     "name": "stdout",
     "output_type": "stream",
     "text": [
      "Node subfldr2 deleted successfully.\n"
     ]
    }
   ],
   "source": [
    "delete_node(tree,\"subfldr2\")"
   ]
  },
  {
   "cell_type": "code",
   "execution_count": 35,
   "metadata": {},
   "outputs": [
    {
     "name": "stdout",
     "output_type": "stream",
     "text": [
      "c\n",
      "  folder1\n",
      "    file1\n",
      "      Attributes:\n",
      "                Name: file1\n",
      "                Identifier: 1ed37e5c-eb0a-4f41-95b1-65f8eb14a383\n",
      "                Type: text\n",
      "                Protection: w\n",
      "                Created: 2023-12-27 22:53:35\n",
      "                Modified: 2023-12-27 22:58:03\n",
      "                Accessed: 2023-12-27 22:58:03\n",
      "                Content: erewr\n",
      "                Size: 6\n",
      "    subfldr3\n",
      "      Attributes:\n",
      "                Name: subfldr3\n",
      "                Identifier: 780f6be8-b719-4010-acd0-0edd0ca03b43\n",
      "                Type: Directory\n",
      "                Protection: rw\n",
      "                Created: 2023-12-27 23:06:55\n",
      "                Modified: 2023-12-27 23:06:55\n",
      "                Accessed: 2023-12-27 23:06:55\n",
      "  file1\n",
      "    Attributes:\n",
      "            Name: file1\n",
      "            Identifier: 1ed37e5c-eb0a-4f41-95b1-65f8eb14a383\n",
      "            Type: text\n",
      "            Protection: w\n",
      "            Created: 2023-12-27 22:53:35\n",
      "            Modified: 2023-12-27 22:58:03\n",
      "            Accessed: 2023-12-27 22:58:03\n",
      "            Content: erewr\n",
      "            Size: 6\n",
      "  file2\n",
      "    Attributes:\n",
      "            Name: file2\n",
      "            Identifier: c295db90-b17e-4d0f-bde9-3b00c04e45a0\n",
      "            Type: image\n",
      "            Size: 2\n",
      "            Protection: rw\n",
      "            Created: 2023-12-27 23:02:09\n",
      "            Modified: 2023-12-27 23:02:09\n",
      "            Accessed: 2023-12-27 23:02:09\n",
      "            Content: wwe\n",
      "  Attributes:\n",
      "        Name: c\n",
      "        UUID: 32b0c5a1-e241-44cc-ae05-fa7b48a2c8ea\n",
      "        Total Size: 100\n",
      "        Used Space: 14\n",
      "        Free Space: 86\n"
     ]
    }
   ],
   "source": [
    "print_tree(tree)"
   ]
  }
 ],
 "metadata": {
  "kernelspec": {
   "display_name": "Python 3",
   "language": "python",
   "name": "python3"
  },
  "language_info": {
   "codemirror_mode": {
    "name": "ipython",
    "version": 3
   },
   "file_extension": ".py",
   "mimetype": "text/x-python",
   "name": "python",
   "nbconvert_exporter": "python",
   "pygments_lexer": "ipython3",
   "version": "3.11.6"
  }
 },
 "nbformat": 4,
 "nbformat_minor": 2
}
