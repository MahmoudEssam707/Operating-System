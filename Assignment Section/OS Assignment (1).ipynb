{
 "cells": [
  {
   "cell_type": "markdown",
   "metadata": {},
   "source": [
    "# Building Up Process Scheduling Program\n",
    "#### Queue1 = Round Robin List take values that has High Priority = 0 with quantum time = 3\n",
    "#### Queue2 = SRJ take values that has medium Priority = 1 with quantum time = 2\n",
    "#### Qeuee3 = SJF take values that has low Priority = 2 without quantum time as it's non-premptive \n",
    "# Needed Inputs\n",
    "#### 1.Process Name (Pi)\n",
    "#### 2.Process Arival Time \n",
    "#### 3.Prcoess Execution Time\n",
    "#### 4.Queue Number of Priority\n"
   ]
  },
  {
   "cell_type": "code",
   "execution_count": 1,
   "metadata": {},
   "outputs": [],
   "source": [
    "def SRT(processData):\n",
    "    n = len(processData)\n",
    "\n",
    "    arrival_time = [process[1] for process in processData]\n",
    "    burst_time = [process[2] for process in processData]\n",
    "    waiting_time = [0] * n\n",
    "\n",
    "    quantum_time = 2\n",
    "\n",
    "    remaining_time = [0] * n\n",
    "    for i in range(n):\n",
    "        remaining_time[i] = burst_time[i]\n",
    "\n",
    "    t = 0  # Current time\n",
    "    completed = 0  # Number of completed processes\n",
    "    while completed != n:\n",
    "        shortest = -1\n",
    "        for i in range(n):\n",
    "            if arrival_time[i] <= t and remaining_time[i] > 0:\n",
    "                if shortest == -1 or remaining_time[i] < remaining_time[shortest]:\n",
    "                    shortest = i\n",
    "\n",
    "        if shortest == -1:\n",
    "            t += 1\n",
    "            continue\n",
    "\n",
    "        if remaining_time[shortest] > quantum_time:\n",
    "            t += quantum_time\n",
    "            remaining_time[shortest] -= quantum_time\n",
    "        else:\n",
    "            t += remaining_time[shortest]\n",
    "            waiting_time[shortest] = t - burst_time[shortest] - arrival_time[shortest]\n",
    "            remaining_time[shortest] = 0\n",
    "            completed += 1\n",
    "\n",
    "    total_waiting_time = sum(waiting_time)\n",
    "    average_waiting_time = total_waiting_time / n\n",
    "\n",
    "    print(\"\\nProcess\\t\\tArrival Time\\tBurst Time\\tWaiting Time\")\n",
    "    for i in range(n):\n",
    "        print(\n",
    "            \"{}\\t\\t{}\\t\\t{}\\t\\t{}\".format(\n",
    "                processData[i][0], arrival_time[i], burst_time[i], waiting_time[i]\n",
    "            )\n",
    "        )\n",
    "\n",
    "    print(\"\\nAverage Waiting Time:\", average_waiting_time)"
   ]
  },
  {
   "cell_type": "code",
   "execution_count": 2,
   "metadata": {},
   "outputs": [
    {
     "name": "stdout",
     "output_type": "stream",
     "text": [
      "Process ID\tArrival Time\tBurst Time\tCompletion Time\tTurnaround Time\tWaiting Time\n",
      "1\t\t0\t\t3\t\t3\t\t3\t\t0\n",
      "2\t\t2\t\t9\t\t12\t\t10\t\t1\n",
      "\n",
      "Average Turnaround Time: 6.5\n",
      "Average Waiting Time: 0.5\n"
     ]
    }
   ],
   "source": [
    "def SJF(process_data):\n",
    "    total_turnaround_time = 0\n",
    "    total_waiting_time = 0\n",
    "    start_time = []\n",
    "    exit_time = []\n",
    "    s_time = 0\n",
    "    process_data.sort(key=lambda x: x[1])\n",
    "\n",
    "    for i in range(len(process_data)):\n",
    "        ready_queue = []\n",
    "        normal_queue = []\n",
    "\n",
    "        for j in range(len(process_data)):\n",
    "            temp = []  # Initialize temp inside the loop\n",
    "            if (process_data[j][1] <= s_time) and (process_data[j][3] == 0):\n",
    "                temp.extend([process_data[j][0], process_data[j][1], process_data[j][2]])\n",
    "                ready_queue.append(temp)\n",
    "            elif process_data[j][3] == 0:\n",
    "                temp.extend([process_data[j][0], process_data[j][1], process_data[j][2]])\n",
    "                normal_queue.append(temp)\n",
    "\n",
    "        if len(ready_queue) != 0:\n",
    "            ready_queue.sort(key=lambda x: x[2])\n",
    "            start_time.append(s_time)\n",
    "            s_time = s_time + ready_queue[0][2]\n",
    "            e_time = s_time\n",
    "            exit_time.append(e_time)\n",
    "            for k in range(len(process_data)):\n",
    "                if process_data[k][0] == ready_queue[0][0]:\n",
    "                    break\n",
    "            process_data[k][3] = 1\n",
    "            process_data[k].append(e_time)\n",
    "\n",
    "        elif len(ready_queue) == 0:\n",
    "            if s_time < normal_queue[0][1]:\n",
    "                s_time = normal_queue[0][1]\n",
    "            start_time.append(s_time)\n",
    "            s_time = s_time + normal_queue[0][2]\n",
    "            e_time = s_time\n",
    "            exit_time.append(e_time)\n",
    "            for k in range(len(process_data)):\n",
    "                if process_data[k][0] == normal_queue[0][0]:\n",
    "                    break\n",
    "            process_data[k][3] = 1\n",
    "            process_data[k].append(e_time)\n",
    "\n",
    "    for i in range(len(process_data)):\n",
    "        turnaround_time = process_data[i][4] - process_data[i][1]\n",
    "        total_turnaround_time = total_turnaround_time + turnaround_time\n",
    "        process_data[i].append(turnaround_time)\n",
    "    average_turnaround_time = total_turnaround_time / len(process_data)\n",
    "\n",
    "    for i in range(len(process_data)):\n",
    "        waiting_time = process_data[i][5] - process_data[i][2]\n",
    "        total_waiting_time = total_waiting_time + waiting_time\n",
    "        process_data[i].append(waiting_time)\n",
    "    average_waiting_time = total_waiting_time / len(process_data)\n",
    "\n",
    "    print(\"Process ID\\tArrival Time\\tBurst Time\\tCompletion Time\\tTurnaround Time\\tWaiting Time\")\n",
    "    for process in process_data:\n",
    "        print(f\"{process[0]}\\t\\t{process[1]}\\t\\t{process[2]}\\t\\t{process[4]}\\t\\t{process[5]}\\t\\t{process[6]}\")\n",
    "\n",
    "    print(f\"\\nAverage Turnaround Time: {average_turnaround_time}\")\n",
    "    print(f\"Average Waiting Time: {average_waiting_time}\")\n",
    "\n",
    "\n",
    "x = [[1, 0, 3, 0], [2, 2, 9, 0]]\n",
    "SJF(x)"
   ]
  },
  {
   "cell_type": "code",
   "execution_count": 4,
   "metadata": {},
   "outputs": [],
   "source": [
    "def processData(no_of_processes):\n",
    "    processSRT = []\n",
    "    processSJF = []\n",
    "    for i in range(no_of_processes):\n",
    "        temporary = []\n",
    "        process_id = int(input(\"Enter Process ID: \"))\n",
    "\n",
    "        arrival_time = int(input(f\"Enter Arrival Time for Process {process_id}: \"))\n",
    "\n",
    "        burst_time = int(input(f\"Enter Burst Time for Process {process_id}: \"))\n",
    "        \n",
    "        priority_rank=int(input(f\"Enter priority rank for Process {process_id}: \"))\n",
    "        \n",
    "        temporary.extend([process_id, arrival_time, burst_time, priority_rank])\n",
    "        if priority_rank==1:\n",
    "            processSJF.append(temporary)\n",
    "        if priority_rank==2:\n",
    "            processSRT.append(temporary)\n",
    "\n",
    "\n",
    "    return processSRT,processSJF"
   ]
  },
  {
   "cell_type": "code",
   "execution_count": 5,
   "metadata": {},
   "outputs": [
    {
     "name": "stdout",
     "output_type": "stream",
     "text": [
      "Enter Process ID: 1\n",
      "Enter Arrival Time for Process 1: 2\n",
      "Enter Burst Time for Process 1: 3\n",
      "Enter priority rank for Process 1: 1\n",
      "Enter Process ID: 2\n",
      "Enter Arrival Time for Process 2: 3\n",
      "Enter Burst Time for Process 2: 4\n",
      "Enter priority rank for Process 2: 1\n",
      "Enter Process ID: 3\n",
      "Enter Arrival Time for Process 3: 4\n",
      "Enter Burst Time for Process 3: 5\n",
      "Enter priority rank for Process 3: 2\n",
      "Enter Process ID: 4\n",
      "Enter Arrival Time for Process 4: 5\n",
      "Enter Burst Time for Process 4: 6\n",
      "Enter priority rank for Process 4: 2\n"
     ]
    }
   ],
   "source": [
    "srt,sjf=processData(4)"
   ]
  },
  {
   "cell_type": "code",
   "execution_count": 6,
   "metadata": {},
   "outputs": [
    {
     "name": "stdout",
     "output_type": "stream",
     "text": [
      "\n",
      "Process\t\tArrival Time\tBurst Time\tWaiting Time\n",
      "3\t\t4\t\t5\t\t0\n",
      "4\t\t5\t\t6\t\t4\n",
      "\n",
      "Average Waiting Time: 2.0\n"
     ]
    }
   ],
   "source": [
    "SRT(srt)"
   ]
  },
  {
   "cell_type": "code",
   "execution_count": 7,
   "metadata": {},
   "outputs": [
    {
     "ename": "IndexError",
     "evalue": "list index out of range",
     "output_type": "error",
     "traceback": [
      "\u001b[1;31m---------------------------------------------------------------------------\u001b[0m",
      "\u001b[1;31mIndexError\u001b[0m                                Traceback (most recent call last)",
      "Cell \u001b[1;32mIn[7], line 1\u001b[0m\n\u001b[1;32m----> 1\u001b[0m \u001b[43mSJF\u001b[49m\u001b[43m(\u001b[49m\u001b[43msjf\u001b[49m\u001b[43m)\u001b[49m\n",
      "Cell \u001b[1;32mIn[2], line 35\u001b[0m, in \u001b[0;36mSJF\u001b[1;34m(process_data)\u001b[0m\n\u001b[0;32m     32\u001b[0m     process_data[k]\u001b[38;5;241m.\u001b[39mappend(e_time)\n\u001b[0;32m     34\u001b[0m \u001b[38;5;28;01melif\u001b[39;00m \u001b[38;5;28mlen\u001b[39m(ready_queue) \u001b[38;5;241m==\u001b[39m \u001b[38;5;241m0\u001b[39m:\n\u001b[1;32m---> 35\u001b[0m     \u001b[38;5;28;01mif\u001b[39;00m s_time \u001b[38;5;241m<\u001b[39m \u001b[43mnormal_queue\u001b[49m\u001b[43m[\u001b[49m\u001b[38;5;241;43m0\u001b[39;49m\u001b[43m]\u001b[49m[\u001b[38;5;241m1\u001b[39m]:\n\u001b[0;32m     36\u001b[0m         s_time \u001b[38;5;241m=\u001b[39m normal_queue[\u001b[38;5;241m0\u001b[39m][\u001b[38;5;241m1\u001b[39m]\n\u001b[0;32m     37\u001b[0m     start_time\u001b[38;5;241m.\u001b[39mappend(s_time)\n",
      "\u001b[1;31mIndexError\u001b[0m: list index out of range"
     ]
    }
   ],
   "source": [
    "SJF(sjf)"
   ]
  },
  {
   "cell_type": "code",
   "execution_count": null,
   "metadata": {},
   "outputs": [],
   "source": []
  }
 ],
 "metadata": {
  "kernelspec": {
   "display_name": "Python 3 (ipykernel)",
   "language": "python",
   "name": "python3"
  },
  "language_info": {
   "codemirror_mode": {
    "name": "ipython",
    "version": 3
   },
   "file_extension": ".py",
   "mimetype": "text/x-python",
   "name": "python",
   "nbconvert_exporter": "python",
   "pygments_lexer": "ipython3",
   "version": "3.10.9"
  }
 },
 "nbformat": 4,
 "nbformat_minor": 2
}
