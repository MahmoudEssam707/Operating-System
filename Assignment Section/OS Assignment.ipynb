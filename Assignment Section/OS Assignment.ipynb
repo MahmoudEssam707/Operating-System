{
 "cells": [
  {
   "cell_type": "markdown",
   "metadata": {},
   "source": [
    "# Building Up Process Scheduling Program\n",
    "#### Queue1 = Round Robin List take values that has High Priority = 0 with quantum time = 3\n",
    "#### Queue2 = SRJ take values that has medium Priority = 1 with quantum time = 2\n",
    "#### Qeuee3 = SJF take values that has low Priority = 2 without quantum time as it's non-premptive \n",
    "# Needed Inputs\n",
    "#### 1.Process Name (Pi)\n",
    "#### 2.Process Arival Time \n",
    "#### 3.Prcoess Execution Time\n",
    "#### 4.Queue Number of Priority\n"
   ]
  },
  {
   "cell_type": "code",
   "execution_count": 1,
   "metadata": {},
   "outputs": [],
   "source": [
    "def SRT(processData):\n",
    "    n = len(processData)\n",
    "\n",
    "    arrival_time = processData[1]\n",
    "    burst_time = processData[2]\n",
    "    waiting_time = [0] * n\n",
    "\n",
    "\n",
    "    quantum_time = 2\n",
    "\n",
    "    remaining_time = [0] * n\n",
    "    for i in range(n):\n",
    "        remaining_time[i] = burst_time[i]\n",
    "\n",
    "    t = 0  # Current time\n",
    "    completed = 0  # Number of completed processes\n",
    "    while completed != n:\n",
    "        shortest = -1\n",
    "        for i in range(n):\n",
    "            if arrival_time[i] <= t and remaining_time[i] > 0:\n",
    "                if shortest == -1 or remaining_time[i] < remaining_time[shortest]:\n",
    "                    shortest = i\n",
    "\n",
    "        if shortest == -1:\n",
    "            t += 1\n",
    "            continue\n",
    "\n",
    "        if remaining_time[shortest] > quantum_time:\n",
    "            t += quantum_time\n",
    "            remaining_time[shortest] -= quantum_time\n",
    "        else:\n",
    "            t += remaining_time[shortest]\n",
    "            waiting_time[shortest] = t - burst_time[shortest] - arrival_time[shortest]\n",
    "            remaining_time[shortest] = 0\n",
    "            completed += 1\n",
    "\n",
    "    total_waiting_time = sum(waiting_time)\n",
    "    average_waiting_time = total_waiting_time / n\n",
    "\n",
    "    print(\"\\nProcess\\t\\tArrival Time\\tBurst Time\\tWaiting Time\")\n",
    "    for i in range(n):\n",
    "        print(\n",
    "            \"{}\\t\\t{}\\t\\t{}\\t\\t{}\".format(\n",
    "                i + 1, arrival_time[i], burst_time[i], waiting_time[i]\n",
    "            )\n",
    "        )\n",
    "\n",
    "    print(\"\\nAverage Waiting Time:\", average_waiting_time)\n",
    "\n",
    "\n"
   ]
  },
  {
   "cell_type": "code",
   "execution_count": null,
   "metadata": {},
   "outputs": [],
   "source": [
    "def SJF(process_data):\n",
    "    total_turnaround_time = 0\n",
    "    total_waiting_time = 0\n",
    "    start_time = []\n",
    "    exit_time = []\n",
    "    s_time = 0\n",
    "    process_data.sort(key=lambda x: x[1])\n",
    "    \"\"\"\n",
    "        Sort processes according to the Arrival Time\n",
    "        \"\"\"\n",
    "    for i in range(len(process_data)):\n",
    "        ready_queue = []\n",
    "        temp = []\n",
    "        normal_queue = []\n",
    "\n",
    "        for j in range(len(process_data)):\n",
    "            if (process_data[j][1] <= s_time) and (process_data[j][3] == 2):\n",
    "                temp.extend(\n",
    "                    [process_data[j][0], process_data[j][1], process_data[j][2]]\n",
    "                )\n",
    "                ready_queue.append(temp)\n",
    "                temp = []\n",
    "            elif process_data[j][3] == 2:\n",
    "                temp.extend(\n",
    "                    [process_data[j][0], process_data[j][1], process_data[j][2]]\n",
    "                )\n",
    "                normal_queue.append(temp)\n",
    "                temp = []\n",
    "\n",
    "        if len(ready_queue) != 0:\n",
    "            ready_queue.sort(key=lambda x: x[2])\n",
    "            \"\"\"\n",
    "                Sort the processes according to the Burst Time\n",
    "                \"\"\"\n",
    "            start_time.append(s_time)\n",
    "            s_time = s_time + ready_queue[0][2]\n",
    "            e_time = s_time\n",
    "            exit_time.append(e_time)\n",
    "            for k in range(len(process_data)):\n",
    "                if process_data[k][0] == ready_queue[0][0]:\n",
    "                    break\n",
    "            process_data[k][3] = 1\n",
    "            process_data[k].append(e_time)\n",
    "\n",
    "        elif len(ready_queue) == 0:\n",
    "            if s_time < normal_queue[0][1]:\n",
    "                s_time = normal_queue[0][1]\n",
    "            start_time.append(s_time)\n",
    "            s_time = s_time + normal_queue[0][2]\n",
    "            e_time = s_time\n",
    "            exit_time.append(e_time)\n",
    "            for k in range(len(process_data)):\n",
    "                if process_data[k][0] == normal_queue[0][0]:\n",
    "                    break\n",
    "            process_data[k][3] = 1\n",
    "            process_data[k].append(e_time)\n",
    "\n",
    "    for i in range(len(process_data)):\n",
    "        turnaround_time = process_data[i][4] - process_data[i][1]\n",
    "        \"\"\"\n",
    "            turnaround_time = completion_time - arrival_time\n",
    "            \"\"\"\n",
    "        total_turnaround_time = total_turnaround_time + turnaround_time\n",
    "        process_data[i].append(turnaround_time)\n",
    "    average_turnaround_time = total_turnaround_time / len(process_data)\n",
    "    \"\"\"\n",
    "        average_turnaround_time = total_turnaround_time / no_of_processes\n",
    "        \"\"\"\n",
    "\n",
    "    for i in range(len(process_data)):\n",
    "        waiting_time = process_data[i][5] - process_data[i][2]\n",
    "        \"\"\"\n",
    "            waiting_time = turnaround_time - burst_time\n",
    "            \"\"\"\n",
    "        total_waiting_time = total_waiting_time + waiting_time\n",
    "        process_data[i].append(waiting_time)\n",
    "    average_waiting_time = total_waiting_time / len(process_data)\n",
    "    \"\"\"\n",
    "        average_waiting_time = total_waiting_time / no_of_processes\n",
    "        \"\"\"\n",
    "    print(\"Process ID\\tArrival Time\\tBurst Time\\tTurnaround Time\\tWaiting Time\")\n",
    "    for process in process_data:\n",
    "        print(\n",
    "            f\"{process[0]}\\t\\t{process[1]}\\t\\t{process[2]}\\t\\t{process[5]}\\t\\t{process[6]}\"\n",
    "        )\n",
    "\n",
    "    print(f\"\\nAverage Turnaround Time: {round(average_turnaround_time)}\")\n",
    "    print(f\"Average Waiting Time: {round(average_waiting_time)}\")\n",
    "\n"
   ]
  },
  {
   "cell_type": "code",
   "execution_count": 2,
   "metadata": {},
   "outputs": [],
   "source": [
    "def processData(no_of_processes):\n",
    "    processSRT = []\n",
    "    processSJF = []\n",
    "    for i in range(no_of_processes):\n",
    "        temporary = []\n",
    "        process_id = int(input(\"Enter Process ID: \"))\n",
    "\n",
    "        arrival_time = int(input(f\"Enter Arrival Time for Process {process_id}: \"))\n",
    "\n",
    "        burst_time = int(input(f\"Enter Burst Time for Process {process_id}: \"))\n",
    "        \n",
    "        priority_rank=int(input(f\"Enter priority rank for Process {process_id}: \"))\n",
    "        \n",
    "        temporary.extend([process_id, arrival_time, burst_time, priority_rank])\n",
    "        if priority_rank==1:\n",
    "            processSJF.append(temporary)\n",
    "        if priority_rank==2:\n",
    "            processSRT.append(temporary)\n",
    "\n",
    "\n",
    "    return processSRT,processSJF"
   ]
  },
  {
   "cell_type": "code",
   "execution_count": 3,
   "metadata": {},
   "outputs": [
    {
     "name": "stdout",
     "output_type": "stream",
     "text": [
      "Enter Process ID: 1\n",
      "Enter Arrival Time for Process 1: 0\n",
      "Enter Burst Time for Process 1: 8\n",
      "Enter priority rank for Process 1: 1\n",
      "Enter Process ID: 2\n",
      "Enter Arrival Time for Process 2: 4\n",
      "Enter Burst Time for Process 2: 1\n",
      "Enter priority rank for Process 2: 1\n",
      "Enter Process ID: 3\n",
      "Enter Arrival Time for Process 3: 6\n",
      "Enter Burst Time for Process 3: 9\n",
      "Enter priority rank for Process 3: 2\n",
      "Enter Process ID: 4\n",
      "Enter Arrival Time for Process 4: 9\n",
      "Enter Burst Time for Process 4: 13\n",
      "Enter priority rank for Process 4: 2\n"
     ]
    }
   ],
   "source": [
    "srt,sjf=processData(4)"
   ]
  },
  {
   "cell_type": "code",
   "execution_count": 4,
   "metadata": {},
   "outputs": [
    {
     "data": {
      "text/plain": [
       "[[1, 0, 8, 1], [2, 4, 1, 1]]"
      ]
     },
     "execution_count": 4,
     "metadata": {},
     "output_type": "execute_result"
    }
   ],
   "source": [
    "sjf"
   ]
  },
  {
   "cell_type": "code",
   "execution_count": 6,
   "metadata": {},
   "outputs": [
    {
     "ename": "AttributeError",
     "evalue": "'list' object has no attribute 'to_list'",
     "output_type": "error",
     "traceback": [
      "\u001b[1;31m---------------------------------------------------------------------------\u001b[0m",
      "\u001b[1;31mAttributeError\u001b[0m                            Traceback (most recent call last)",
      "Cell \u001b[1;32mIn[6], line 1\u001b[0m\n\u001b[1;32m----> 1\u001b[0m \u001b[43msrt\u001b[49m\u001b[38;5;241;43m.\u001b[39;49m\u001b[43mto_list\u001b[49m()\n",
      "\u001b[1;31mAttributeError\u001b[0m: 'list' object has no attribute 'to_list'"
     ]
    }
   ],
   "source": []
  },
  {
   "cell_type": "code",
   "execution_count": null,
   "metadata": {},
   "outputs": [],
   "source": []
  }
 ],
 "metadata": {
  "kernelspec": {
   "display_name": "Python 3 (ipykernel)",
   "language": "python",
   "name": "python3"
  },
  "language_info": {
   "codemirror_mode": {
    "name": "ipython",
    "version": 3
   },
   "file_extension": ".py",
   "mimetype": "text/x-python",
   "name": "python",
   "nbconvert_exporter": "python",
   "pygments_lexer": "ipython3",
   "version": "3.10.9"
  }
 },
 "nbformat": 4,
 "nbformat_minor": 2
}
