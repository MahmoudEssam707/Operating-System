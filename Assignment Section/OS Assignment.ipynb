{
 "cells": [
  {
   "cell_type": "markdown",
   "metadata": {},
   "source": [
    "# Building Up Process Scheduling Program\n",
    "#### Queue1 = Round Robin List take values that has High Priority = 0 with quantum time = 3\n",
    "#### Queue2 = SRJ take values that has medium Priority = 1 with quantum time = 2\n",
    "#### Qeuee3 = SJF take values that has low Priority = 2 without quantum time as it's non-premptive \n",
    "# Needed Inputs\n",
    "#### 1.Process Name (Pi)\n",
    "#### 2.Process Arival Time \n",
    "#### 3.Prcoess Execution Time\n",
    "#### 4.Queue Number of Priority\n"
   ]
  },
  {
   "cell_type": "code",
   "execution_count": 13,
   "metadata": {},
   "outputs": [],
   "source": [
    "def SRT(processData):\n",
    "    n = len(processData)\n",
    "\n",
    "    arrival_time = [process[1] for process in processData]\n",
    "    burst_time = [process[2] for process in processData]\n",
    "    waiting_time = [0] * n\n",
    "    turnaround_time = [0] * n\n",
    "\n",
    "    quantum_time = 2\n",
    "\n",
    "    remaining_time = [0] * n\n",
    "    for i in range(n):\n",
    "        remaining_time[i] = burst_time[i]\n",
    "\n",
    "    t = 0  # Current time\n",
    "    completed = 0  # Number of completed processes\n",
    "    while completed != n:\n",
    "        shortest = -1\n",
    "        for i in range(n):\n",
    "            if arrival_time[i] <= t and remaining_time[i] > 0:\n",
    "                if shortest == -1 or remaining_time[i] < remaining_time[shortest]:\n",
    "                    shortest = i\n",
    "\n",
    "        if shortest == -1:\n",
    "            t += 1\n",
    "            continue\n",
    "\n",
    "        if remaining_time[shortest] > quantum_time:\n",
    "            t += quantum_time\n",
    "            remaining_time[shortest] -= quantum_time\n",
    "        else:\n",
    "            t += remaining_time[shortest]\n",
    "            waiting_time[shortest] = t - burst_time[shortest] - arrival_time[shortest]\n",
    "            turnaround_time[shortest] = t - arrival_time[shortest]\n",
    "            remaining_time[shortest] = 0\n",
    "            completed += 1\n",
    "\n",
    "    total_waiting_time = sum(waiting_time)\n",
    "    total_turnaround_time = sum(turnaround_time)\n",
    "    average_waiting_time = total_waiting_time / n\n",
    "    average_turnaround_time = total_turnaround_time / n\n",
    "\n",
    "    print(\"\\nProcess\\t\\tArrival Time\\tBurst Time\\tWaiting Time\\tTurnaround Time\")\n",
    "    for i in range(n):\n",
    "        print(\n",
    "            \"{}\\t\\t{}\\t\\t{}\\t\\t{}\\t\\t{}\".format(\n",
    "                processData[i][0],\n",
    "                arrival_time[i],\n",
    "                burst_time[i],\n",
    "                waiting_time[i],\n",
    "                turnaround_time[i],\n",
    "            )\n",
    "        )\n",
    "\n",
    "    print(\"\\nAverage Waiting Time:\", average_waiting_time)\n",
    "    print(\"Average Turnaround Time:\", average_turnaround_time)"
   ]
  },
  {
   "cell_type": "code",
   "execution_count": 14,
   "metadata": {},
   "outputs": [],
   "source": [
    "def SJF(processes):\n",
    "    n = len(processes)\n",
    "\n",
    "    # Sort the processes based on burst time\n",
    "    sorted_processes = sorted(processes, key=lambda x: x[2])\n",
    "\n",
    "    # Calculate waiting time for each process\n",
    "    waiting_time = [0] * n\n",
    "    for i in range(1, n):\n",
    "        waiting_time[i] = sorted_processes[i - 1][2] + waiting_time[i - 1]\n",
    "\n",
    "    # Calculate turnaround time for each process\n",
    "    turnaround_time = [0] * n\n",
    "    for i in range(n):\n",
    "        turnaround_time[i] = sorted_processes[i][2] + waiting_time[i]\n",
    "\n",
    "    # Calculate average waiting time and average turnaround time\n",
    "    total_waiting_time = sum(waiting_time)\n",
    "    total_turnaround_time = sum(turnaround_time)\n",
    "    average_waiting_time = total_waiting_time / n\n",
    "    average_turnaround_time = total_turnaround_time / n\n",
    "\n",
    "    # Print the results\n",
    "    print(\"Process\\tBurst Time\\tWaiting Time\\tTurnaround Time\")\n",
    "    for i in range(n):\n",
    "        process_id = sorted_processes[i][0]\n",
    "        burst_time = sorted_processes[i][2]\n",
    "        print(\n",
    "            f\"{process_id}\\t\\t{burst_time}\\t\\t{waiting_time[i]}\\t\\t{turnaround_time[i]}\"\n",
    "        )\n",
    "\n",
    "    print(f\"\\nAverage Waiting Time: {round(average_waiting_time)}\")\n",
    "    print(f\"Average Turnaround Time: {round(average_turnaround_time)}\")\n"
   ]
  },
  {
   "cell_type": "code",
   "execution_count": 15,
   "metadata": {},
   "outputs": [],
   "source": [
    "def process_data(number_of_processes):\n",
    "    process_SRT = []\n",
    "    process_SJF = []\n",
    "    process_RR = []\n",
    "\n",
    "    for i in range(number_of_processes):\n",
    "        process_id = int(input(\"Enter Process ID: \"))\n",
    "        arrival_time = int(input(f\"Enter Arrival Time for Process {process_id}: \"))\n",
    "        burst_time = int(input(f\"Enter Burst Time for Process {process_id}: \"))\n",
    "        priority_rank = int(input(f\"Enter priority rank for Process {process_id}: \"))\n",
    "\n",
    "        if priority_rank == 0:\n",
    "            process_RR.append([process_id, arrival_time, burst_time, priority_rank])\n",
    "        elif priority_rank == 1:\n",
    "            process_SJF.append([process_id, arrival_time, burst_time, priority_rank])\n",
    "        elif priority_rank == 2:\n",
    "            process_SRT.append([process_id, arrival_time, burst_time, priority_rank])\n",
    "\n",
    "    return process_RR,process_SRT, process_SJF\n",
    "\n",
    "\n",
    "# Get user input for the number of processes\n",
    "num_processes = int(input(\"Enter the number of processes: \"))\n",
    "\n",
    "# Call the function to get process data\n",
    "rr,srt,sjf = process_data(num_processes)"
   ]
  },
  {
   "cell_type": "code",
   "execution_count": 16,
   "metadata": {},
   "outputs": [
    {
     "data": {
      "text/plain": [
       "[[2, 1, 8, 0], [5, 16, 10, 0]]"
      ]
     },
     "execution_count": 16,
     "metadata": {},
     "output_type": "execute_result"
    }
   ],
   "source": [
    "rr"
   ]
  },
  {
   "cell_type": "code",
   "execution_count": 17,
   "metadata": {},
   "outputs": [
    {
     "data": {
      "text/plain": [
       "[[2, 3, 6, 2], [3, 5, 4, 2]]"
      ]
     },
     "execution_count": 17,
     "metadata": {},
     "output_type": "execute_result"
    }
   ],
   "source": [
    "srt"
   ]
  },
  {
   "cell_type": "code",
   "execution_count": 18,
   "metadata": {},
   "outputs": [
    {
     "data": {
      "text/plain": [
       "[[0, 0, 5, 1], [4, 8, 2, 1]]"
      ]
     },
     "execution_count": 18,
     "metadata": {},
     "output_type": "execute_result"
    }
   ],
   "source": [
    "sjf"
   ]
  },
  {
   "cell_type": "code",
   "execution_count": 19,
   "metadata": {},
   "outputs": [
    {
     "name": "stdout",
     "output_type": "stream",
     "text": [
      "\n",
      "Process\t\tArrival Time\tBurst Time\tWaiting Time\tTurnaround Time\n",
      "2\t\t3\t\t6\t\t0\t\t6\n",
      "3\t\t5\t\t4\t\t4\t\t8\n",
      "\n",
      "Average Waiting Time: 2.0\n",
      "Average Turnaround Time: 7.0\n"
     ]
    }
   ],
   "source": [
    "SRT(srt)"
   ]
  },
  {
   "cell_type": "code",
   "execution_count": 22,
   "metadata": {},
   "outputs": [
    {
     "name": "stdout",
     "output_type": "stream",
     "text": [
      "Process\tBurst Time\tWaiting Time\tTurnaround Time\n",
      "4\t\t2\t\t0\t\t2\n",
      "0\t\t5\t\t2\t\t7\n",
      "\n",
      "Average Waiting Time: 1\n",
      "Average Turnaround Time: 4\n"
     ]
    }
   ],
   "source": [
    "SJF(sjf)"
   ]
  },
  {
   "cell_type": "code",
   "execution_count": 23,
   "metadata": {},
   "outputs": [
    {
     "name": "stdout",
     "output_type": "stream",
     "text": [
      "Process ID\tArrival Time\tBurst Time\tCompletion Time\tTurnaround Time\tWaiting Time\n",
      "1\t\t0\t\t3\t\t2\t\t2\t\t-1\n",
      "2\t\t2\t\t9\t\t4\t\t2\t\t-7\n",
      "\n",
      "Average Turnaround Time: 2.0\n",
      "Average Waiting Time: -4.0\n"
     ]
    }
   ],
   "source": [
    "from collections import deque\n",
    "\n",
    "\n",
    "def round_robin(process_data, time_quantum):\n",
    "    total_turnaround_time = 0\n",
    "    total_waiting_time = 0\n",
    "    start_time = []\n",
    "    exit_time = []\n",
    "    remaining_burst_time = []\n",
    "    queue = deque()\n",
    "    s_time = 0\n",
    "\n",
    "    for process in process_data:\n",
    "        remaining_burst_time.append(process[2])\n",
    "\n",
    "    while True:\n",
    "        all_finished = True\n",
    "\n",
    "        for i in range(len(process_data)):\n",
    "            if process_data[i][1] <= s_time and remaining_burst_time[i] > 0:\n",
    "                all_finished = False\n",
    "                if remaining_burst_time[i] > time_quantum:\n",
    "                    start_time.append(s_time)\n",
    "                    s_time += time_quantum\n",
    "                    remaining_burst_time[i] -= time_quantum\n",
    "                    exit_time.append(s_time)\n",
    "                    queue.append(process_data[i])\n",
    "                else:\n",
    "                    start_time.append(s_time)\n",
    "                    s_time += remaining_burst_time[i]\n",
    "                    exit_time.append(s_time)\n",
    "                    remaining_burst_time[i] = 0\n",
    "\n",
    "        if all_finished:\n",
    "            break\n",
    "\n",
    "    for i in range(len(process_data)):\n",
    "        turnaround_time = exit_time[i] - process_data[i][1]\n",
    "        total_turnaround_time += turnaround_time\n",
    "        process_data[i].append(turnaround_time)\n",
    "\n",
    "        waiting_time = turnaround_time - process_data[i][2]\n",
    "        total_waiting_time += waiting_time\n",
    "        process_data[i].append(waiting_time)\n",
    "\n",
    "    average_turnaround_time = total_turnaround_time / len(process_data)\n",
    "    average_waiting_time = total_waiting_time / len(process_data)\n",
    "\n",
    "    print(\n",
    "        \"Process ID\\tArrival Time\\tBurst Time\\tCompletion Time\\tTurnaround Time\\tWaiting Time\"\n",
    "    )\n",
    "    for i in range(len(process_data)):\n",
    "        print(\n",
    "            f\"{process_data[i][0]}\\t\\t{process_data[i][1]}\\t\\t{process_data[i][2]}\\t\\t{exit_time[i]}\\t\\t{process_data[i][3]}\\t\\t{process_data[i][4]}\"\n",
    "        )\n",
    "\n",
    "    print(f\"\\nAverage Turnaround Time: {average_turnaround_time}\")\n",
    "    print(f\"Average Waiting Time: {average_waiting_time}\")\n",
    "\n",
    "\n",
    "x = [[1, 0, 3], [2, 2, 9]]\n",
    "time_quantum = 2\n",
    "round_robin(x, time_quantum)"
   ]
  }
 ],
 "metadata": {
  "kernelspec": {
   "display_name": "Python 3 (ipykernel)",
   "language": "python",
   "name": "python3"
  },
  "language_info": {
   "codemirror_mode": {
    "name": "ipython",
    "version": 3
   },
   "file_extension": ".py",
   "mimetype": "text/x-python",
   "name": "python",
   "nbconvert_exporter": "python",
   "pygments_lexer": "ipython3",
   "version": "3.11.4"
  }
 },
 "nbformat": 4,
 "nbformat_minor": 2
}
