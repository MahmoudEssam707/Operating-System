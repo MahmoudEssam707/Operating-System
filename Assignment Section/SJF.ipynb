{
 "cells": [
  {
   "cell_type": "code",
   "execution_count": 4,
   "id": "2ac8cd99",
   "metadata": {},
   "outputs": [],
   "source": [
    "def SJF(process_data):\n",
    "        total_turnaround_time = 0\n",
    "        total_waiting_time = 0\n",
    "        start_time = []\n",
    "        exit_time = []\n",
    "        s_time = 0\n",
    "        process_data.sort(key=lambda x: x[1])\n",
    "        '''\n",
    "        Sort processes according to the Arrival Time\n",
    "        '''\n",
    "        for i in range(len(process_data)):\n",
    "            ready_queue = []\n",
    "            temp = []\n",
    "            normal_queue = []\n",
    "\n",
    "            for j in range(len(process_data)):\n",
    "                if (process_data[j][1] <= s_time) and (process_data[j][3] == 0):\n",
    "                    temp.extend([process_data[j][0], process_data[j][1], process_data[j][2]])\n",
    "                    ready_queue.append(temp)\n",
    "                    temp = []\n",
    "                elif process_data[j][3] == 0:\n",
    "                    temp.extend([process_data[j][0], process_data[j][1], process_data[j][2]])\n",
    "                    normal_queue.append(temp)\n",
    "                    temp = []\n",
    "\n",
    "            if len(ready_queue) != 0:\n",
    "                ready_queue.sort(key=lambda x: x[2])\n",
    "                '''\n",
    "                Sort the processes according to the Burst Time\n",
    "                '''\n",
    "                start_time.append(s_time)\n",
    "                s_time = s_time + ready_queue[0][2]\n",
    "                e_time = s_time\n",
    "                exit_time.append(e_time)\n",
    "                for k in range(len(process_data)):\n",
    "                    if process_data[k][0] == ready_queue[0][0]:\n",
    "                        break\n",
    "                process_data[k][3] = 1\n",
    "                process_data[k].append(e_time)\n",
    "\n",
    "            elif len(ready_queue) == 0:\n",
    "                if s_time < normal_queue[0][1]:\n",
    "                    s_time = normal_queue[0][1]\n",
    "                start_time.append(s_time)\n",
    "                s_time = s_time + normal_queue[0][2]\n",
    "                e_time = s_time\n",
    "                exit_time.append(e_time)\n",
    "                for k in range(len(process_data)):\n",
    "                    if process_data[k][0] == normal_queue[0][0]:\n",
    "                        break\n",
    "                process_data[k][3] = 1\n",
    "                process_data[k].append(e_time)\n",
    "\n",
    "\n",
    "        for i in range(len(process_data)):\n",
    "            turnaround_time = process_data[i][4] - process_data[i][1]\n",
    "            '''\n",
    "            turnaround_time = completion_time - arrival_time\n",
    "            '''\n",
    "            total_turnaround_time = total_turnaround_time + turnaround_time\n",
    "            process_data[i].append(turnaround_time)\n",
    "        average_turnaround_time = total_turnaround_time / len(process_data)\n",
    "        '''\n",
    "        average_turnaround_time = total_turnaround_time / no_of_processes\n",
    "        '''\n",
    "\n",
    "\n",
    "        for i in range(len(process_data)):\n",
    "            waiting_time = process_data[i][5] - process_data[i][2]\n",
    "            '''\n",
    "            waiting_time = turnaround_time - burst_time\n",
    "            '''\n",
    "            total_waiting_time = total_waiting_time + waiting_time\n",
    "            process_data[i].append(waiting_time)\n",
    "        average_waiting_time = total_waiting_time / len(process_data)\n",
    "        '''\n",
    "        average_waiting_time = total_waiting_time / no_of_processes\n",
    "        '''\n",
    "        print(\"Process ID\\tArrival Time\\tBurst Time\\tCompletion Time\\tTurnaround Time\\tWaiting Time\")\n",
    "        for process in process_data:\n",
    "            print(f\"{process[0]}\\t\\t{process[1]}\\t\\t{process[2]}\\t\\t{process[4]}\\t\\t{process[5]}\\t\\t{process[6]}\")\n",
    "\n",
    "        print(f\"\\nAverage Turnaround Time: {average_turnaround_time}\")\n",
    "        print(f\"Average Waiting Time: {average_waiting_time}\")"
   ]
  },
  {
   "cell_type": "code",
   "execution_count": 5,
   "id": "5a43b119",
   "metadata": {},
   "outputs": [],
   "source": [
    "x= [[1, 0, 3, 0], [2, 2, 9, 0], [3, 4, 2, 0], [4, 5, 8, 0], [5, 7, 4, 0]]"
   ]
  },
  {
   "cell_type": "code",
   "execution_count": 6,
   "id": "31e96511",
   "metadata": {},
   "outputs": [
    {
     "name": "stdout",
     "output_type": "stream",
     "text": [
      "Process ID\tArrival Time\tBurst Time\tCompletion Time\tTurnaround Time\tWaiting Time\n",
      "1\t\t0\t\t3\t\t3\t\t3\t\t0\n",
      "2\t\t2\t\t9\t\t12\t\t10\t\t1\n",
      "3\t\t4\t\t2\t\t14\t\t10\t\t8\n",
      "4\t\t5\t\t8\t\t26\t\t21\t\t13\n",
      "5\t\t7\t\t4\t\t18\t\t11\t\t7\n",
      "\n",
      "Average Turnaround Time: 11.0\n",
      "Average Waiting Time: 5.8\n"
     ]
    }
   ],
   "source": [
    "SJF(x)"
   ]
  },
  {
   "cell_type": "code",
   "execution_count": null,
   "id": "a5ff9fa5",
   "metadata": {},
   "outputs": [],
   "source": []
  }
 ],
 "metadata": {
  "kernelspec": {
   "display_name": "Python 3 (ipykernel)",
   "language": "python",
   "name": "python3"
  },
  "language_info": {
   "codemirror_mode": {
    "name": "ipython",
    "version": 3
   },
   "file_extension": ".py",
   "mimetype": "text/x-python",
   "name": "python",
   "nbconvert_exporter": "python",
   "pygments_lexer": "ipython3",
   "version": "3.10.9"
  }
 },
 "nbformat": 4,
 "nbformat_minor": 5
}
