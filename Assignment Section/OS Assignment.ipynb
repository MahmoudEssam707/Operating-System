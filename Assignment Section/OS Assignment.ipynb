{
 "cells": [
  {
   "cell_type": "markdown",
   "metadata": {},
   "source": [
    "# Building Up Process Scheduling Program\n",
    "#### Queue1 = Round Robin List take values that has High Priority = 0 with quantum time = 3\n",
    "#### Queue2 = SRJ take values that has medium Priority = 1 with quantum time = 2\n",
    "#### Qeuee3 = SJF take values that has low Priority = 2 without quantum time as it's non-premptive \n",
    "# Needed Inputs\n",
    "#### 1.Process Name (Pi)\n",
    "#### 2.Process Arival Time \n",
    "#### 3.Prcoess Execution Time\n",
    "#### 4.Queue Number of Priority\n"
   ]
  },
  {
   "cell_type": "code",
   "execution_count": 17,
   "metadata": {},
   "outputs": [],
   "source": [
    "def SRT(processData):\n",
    "    n = len(processData)\n",
    "\n",
    "    arrival_time = [process[1] for process in processData]\n",
    "    burst_time = [process[2] for process in processData]\n",
    "    waiting_time = [0] * n\n",
    "    turnaround_time = [0] * n\n",
    "\n",
    "    quantum_time = 2\n",
    "\n",
    "    remaining_time = [0] * n\n",
    "    for i in range(n):\n",
    "        remaining_time[i] = burst_time[i]\n",
    "\n",
    "    t = 0  # Current time\n",
    "    completed = 0  # Number of completed processes\n",
    "    while completed != n:\n",
    "        shortest = -1\n",
    "        for i in range(n):\n",
    "            if arrival_time[i] <= t and remaining_time[i] > 0:\n",
    "                if shortest == -1 or remaining_time[i] < remaining_time[shortest]:\n",
    "                    shortest = i\n",
    "\n",
    "        if shortest == -1:\n",
    "            t += 1\n",
    "            continue\n",
    "\n",
    "        if remaining_time[shortest] > quantum_time:\n",
    "            t += quantum_time\n",
    "            remaining_time[shortest] -= quantum_time\n",
    "        else:\n",
    "            t += remaining_time[shortest]\n",
    "            waiting_time[shortest] = t - burst_time[shortest] - arrival_time[shortest]\n",
    "            turnaround_time[shortest] = t - arrival_time[shortest]\n",
    "            remaining_time[shortest] = 0\n",
    "            completed += 1\n",
    "\n",
    "    total_waiting_time = sum(waiting_time)\n",
    "    total_turnaround_time = sum(turnaround_time)\n",
    "    average_waiting_time = total_waiting_time / n\n",
    "    average_turnaround_time = total_turnaround_time / n\n",
    "\n",
    "    print(\"\\nProcess\\t\\tArrival Time\\tBurst Time\\tWaiting Time\\tTurnaround Time\")\n",
    "    for i in range(n):\n",
    "        print(\n",
    "            \"{}\\t\\t{}\\t\\t{}\\t\\t{}\\t\\t{}\".format(\n",
    "                processData[i][0],\n",
    "                arrival_time[i],\n",
    "                burst_time[i],\n",
    "                waiting_time[i],\n",
    "                turnaround_time[i],\n",
    "            )\n",
    "        )\n",
    "\n",
    "    print(\"\\nAverage Waiting Time:\", average_waiting_time)\n",
    "    print(\"Average Turnaround Time:\", average_turnaround_time)"
   ]
  },
  {
   "cell_type": "code",
   "execution_count": 18,
   "metadata": {},
   "outputs": [],
   "source": [
    "def SJF(processes):\n",
    "    n = len(processes)\n",
    "\n",
    "    # Sort the processes based on burst time\n",
    "    sorted_processes = sorted(processes, key=lambda x: x[2])\n",
    "\n",
    "    # Calculate waiting time for each process\n",
    "    waiting_time = [0] * n\n",
    "    for i in range(1, n):\n",
    "        waiting_time[i] = sorted_processes[i - 1][2] + waiting_time[i - 1]\n",
    "\n",
    "    # Calculate turnaround time for each process\n",
    "    turnaround_time = [0] * n\n",
    "    for i in range(n):\n",
    "        turnaround_time[i] = sorted_processes[i][2] + waiting_time[i]\n",
    "\n",
    "    # Calculate average waiting time and average turnaround time\n",
    "    total_waiting_time = sum(waiting_time)\n",
    "    total_turnaround_time = sum(turnaround_time)\n",
    "    average_waiting_time = total_waiting_time / n\n",
    "    average_turnaround_time = total_turnaround_time / n\n",
    "\n",
    "    # Print the results\n",
    "    print(\"Process\\tBurst Time\\tWaiting Time\\tTurnaround Time\")\n",
    "    for i in range(n):\n",
    "        process_id = sorted_processes[i][0]\n",
    "        burst_time = sorted_processes[i][2]\n",
    "        print(\n",
    "            f\"{process_id}\\t\\t{burst_time}\\t\\t{waiting_time[i]}\\t\\t{turnaround_time[i]}\"\n",
    "        )\n",
    "\n",
    "    print(f\"\\nAverage Waiting Time: {round(average_waiting_time)}\")\n",
    "    print(f\"Average Turnaround Time: {round(average_turnaround_time)}\")\n"
   ]
  },
  {
   "cell_type": "code",
   "execution_count": 21,
   "metadata": {},
   "outputs": [],
   "source": [
    "def process_data(number_of_processes):\n",
    "    process_SRT = []\n",
    "    process_SJF = []\n",
    "    process_RR = []\n",
    "\n",
    "    for i in range(number_of_processes):\n",
    "        process_id = int(input(\"Enter Process ID: \"))\n",
    "        arrival_time = int(input(f\"Enter Arrival Time for Process {process_id}: \"))\n",
    "        burst_time = int(input(f\"Enter Burst Time for Process {process_id}: \"))\n",
    "        priority_rank = int(input(f\"Enter priority rank for Process {process_id}: \"))\n",
    "\n",
    "        if priority_rank == 0:\n",
    "            process_RR.append([process_id, arrival_time, burst_time, priority_rank])\n",
    "        elif priority_rank == 1:\n",
    "            process_SJF.append([process_id, arrival_time, burst_time, priority_rank])\n",
    "        elif priority_rank == 2:\n",
    "            process_SRT.append([process_id, arrival_time, burst_time, priority_rank])\n",
    "\n",
    "    return process_RR,process_SRT, process_SJF\n",
    "\n",
    "\n",
    "# Get user input for the number of processes\n",
    "num_processes = int(input(\"Enter the number of processes: \"))\n",
    "\n",
    "# Call the function to get process data\n",
    "rr,srt,sjf = process_data(num_processes)"
   ]
  },
  {
   "cell_type": "code",
   "execution_count": 22,
   "metadata": {},
   "outputs": [
    {
     "data": {
      "text/plain": [
       "[[1, 1, 8, 0], [5, 16, 10, 0]]"
      ]
     },
     "execution_count": 22,
     "metadata": {},
     "output_type": "execute_result"
    }
   ],
   "source": [
    "rr"
   ]
  },
  {
   "cell_type": "code",
   "execution_count": 23,
   "metadata": {},
   "outputs": [
    {
     "data": {
      "text/plain": [
       "[[2, 3, 6, 2], [3, 5, 4, 2]]"
      ]
     },
     "execution_count": 23,
     "metadata": {},
     "output_type": "execute_result"
    }
   ],
   "source": [
    "srt"
   ]
  },
  {
   "cell_type": "code",
   "execution_count": 24,
   "metadata": {},
   "outputs": [
    {
     "data": {
      "text/plain": [
       "[[0, 0, 5, 1], [4, 8, 2, 1]]"
      ]
     },
     "execution_count": 24,
     "metadata": {},
     "output_type": "execute_result"
    }
   ],
   "source": [
    "sjf"
   ]
  },
  {
   "cell_type": "code",
   "execution_count": 25,
   "metadata": {},
   "outputs": [
    {
     "name": "stdout",
     "output_type": "stream",
     "text": [
      "\n",
      "Process\t\tArrival Time\tBurst Time\tWaiting Time\tTurnaround Time\n",
      "2\t\t3\t\t6\t\t0\t\t6\n",
      "3\t\t5\t\t4\t\t4\t\t8\n",
      "\n",
      "Average Waiting Time: 2.0\n",
      "Average Turnaround Time: 7.0\n"
     ]
    }
   ],
   "source": [
    "SRT(srt)"
   ]
  },
  {
   "cell_type": "code",
   "execution_count": 26,
   "metadata": {},
   "outputs": [
    {
     "name": "stdout",
     "output_type": "stream",
     "text": [
      "Process\tBurst Time\tWaiting Time\tTurnaround Time\n",
      "4\t\t2\t\t0\t\t2\n",
      "0\t\t5\t\t2\t\t7\n",
      "\n",
      "Average Waiting Time: 1\n",
      "Average Turnaround Time: 4\n"
     ]
    }
   ],
   "source": [
    "SJF(sjf)"
   ]
  },
  {
   "cell_type": "code",
   "execution_count": 38,
   "metadata": {},
   "outputs": [
    {
     "name": "stdout",
     "output_type": "stream",
     "text": [
      "Process 1 completed at time 14.\n",
      "Process 5 completed at time 18.\n",
      "Average Waiting Time: -1.5\n",
      "Average Turnaround Time: 7.5\n"
     ]
    }
   ],
   "source": [
    "def round_robin(processes, time_quantum):\n",
    "    n = len(processes)\n",
    "    remaining_burst_time = [\n",
    "        process[2] for process in processes\n",
    "    ]  # List to store remaining burst time\n",
    "    completed_processes = []  # List to store completed processes\n",
    "    current_time = 0  # Current time\n",
    "    waiting_time = [-1] * n  # List to store waiting time\n",
    "    turnaround_time = [0] * n  # List to store turnaround time\n",
    "\n",
    "    while True:\n",
    "        all_processes_completed = True\n",
    "\n",
    "        for i in range(n):\n",
    "            if remaining_burst_time[i] > 0:\n",
    "                all_processes_completed = False\n",
    "\n",
    "                if waiting_time[i] == -1:\n",
    "                    waiting_time[i] = current_time - processes[i][1]\n",
    "\n",
    "                if remaining_burst_time[i] <= time_quantum:\n",
    "                    # The process can complete within the time quantum\n",
    "                    current_time += remaining_burst_time[i]\n",
    "                    completed_processes.append((processes[i][0], current_time))\n",
    "                    turnaround_time[i] = current_time - processes[i][1]\n",
    "                    remaining_burst_time[i] = 0\n",
    "                else:\n",
    "                    # The process needs more time to complete\n",
    "                    current_time += time_quantum\n",
    "                    remaining_burst_time[i] -= time_quantum\n",
    "\n",
    "        if all_processes_completed:\n",
    "            break\n",
    "\n",
    "    total_waiting_time = sum(turnaround_time) - sum(\n",
    "        [process[2] for process in processes]\n",
    "    )\n",
    "    avg_waiting_time = total_waiting_time / n\n",
    "    avg_turnaround_time = sum(turnaround_time) / n\n",
    "\n",
    "    return completed_processes, avg_waiting_time, avg_turnaround_time\n",
    "\n",
    "\n",
    "# Define the list of processes (replace this with your actual list)\n",
    "rr = [(1, 1, 8, 0), (5, 16, 10, 0)]\n",
    "time_quantum = 3\n",
    "\n",
    "formatted_processes = [(process[0], process[1], process[2]) for process in rr]\n",
    "\n",
    "completed_processes, avg_waiting_time, avg_turnaround_time = round_robin(\n",
    "    formatted_processes, time_quantum\n",
    ")\n",
    "\n",
    "# Print the completed processes\n",
    "for process in completed_processes:\n",
    "    print(f\"Process {process[0]} completed at time {process[1]}.\")\n",
    "\n",
    "print(f\"Average Waiting Time: {avg_waiting_time}\")\n",
    "print(f\"Average Turnaround Time: {avg_turnaround_time}\")"
   ]
  },
  {
   "cell_type": "code",
   "execution_count": 47,
   "metadata": {},
   "outputs": [],
   "source": [
    "def round_robin(processes, burst_time, arrival_time, quantum):\n",
    "    n = len(processes)\n",
    "    wt = [0] * n\n",
    "    tat = [0] * n\n",
    "    rem_bt = list(burst_time)  # Convert to list before making a copy\n",
    "    t = 0\n",
    "    done = [False] * n\n",
    "    total_wt = 0\n",
    "    total_tat = 0\n",
    "\n",
    "    while any(not done[i] for i in range(n)):\n",
    "        for i in range(n):\n",
    "            if not done[i] and arrival_time[i] <= t:\n",
    "                if rem_bt[i] > 0:\n",
    "                    if rem_bt[i] > quantum:\n",
    "                        t += quantum\n",
    "                        rem_bt[i] -= quantum\n",
    "                    else:\n",
    "                        t += rem_bt[i]\n",
    "                        wt[i] = t - burst_time[i] - arrival_time[i]\n",
    "                        rem_bt[i] = 0\n",
    "                        done[i] = True\n",
    "\n",
    "    for i in range(n):\n",
    "        tat[i] = burst_time[i] + wt[i]\n",
    "\n",
    "    for i in range(n):\n",
    "        total_wt += wt[i]\n",
    "        total_tat += tat[i]\n",
    "\n",
    "    print(\"Processes Burst Time Arrival Time Waiting Time Turn-Around Time\")\n",
    "    for i in range(n):\n",
    "        print(\n",
    "            f\"{processes[i]}\\t\\t{burst_time[i]}\\t\\t{arrival_time[i]}\\t\\t{wt[i]}\\t\\t{tat[i]}\"\n",
    "        )\n",
    "\n",
    "    print(f\"\\nAverage Waiting Time = {total_wt / n:.5f}\")\n",
    "    print(f\"Average Turn-Around Time = {total_tat / n:.5f}\")\n",
    "\n",
    "\n",
    "if __name__ == \"__main__\":\n",
    "    quantum = 2\n",
    "    rr = [(1, 1, 8), (5, 16, 10)]\n",
    "\n",
    "    processes, arrival_times, burst_times = zip(*rr)\n",
    "    round_robin(processes, burst_times, arrival_times, quantum)"
   ]
  }
 ],
 "metadata": {
  "kernelspec": {
   "display_name": "Python 3 (ipykernel)",
   "language": "python",
   "name": "python3"
  },
  "language_info": {
   "codemirror_mode": {
    "name": "ipython",
    "version": 3
   },
   "file_extension": ".py",
   "mimetype": "text/x-python",
   "name": "python",
   "nbconvert_exporter": "python",
   "pygments_lexer": "ipython3",
   "version": "3.10.9"
  }
 },
 "nbformat": 4,
 "nbformat_minor": 2
}
