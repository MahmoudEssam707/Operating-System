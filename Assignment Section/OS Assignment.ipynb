{
 "cells": [
  {
   "cell_type": "markdown",
   "metadata": {},
   "source": [
    "# Building Up Process Scheduling Program\n",
    "#### Queue1 = Round Robin List take values that has High Priority = 0 with quantum time = 3\n",
    "#### Queue2 = SRJ take values that has medium Priority = 1 with quantum time = 2\n",
    "#### Qeuee3 = SJF take values that has low Priority = 2 without quantum time as it's non-premptive \n",
    "# Needed Inputs\n",
    "#### 1.Process Name (Pi)\n",
    "#### 2.Process Arival Time \n",
    "#### 3.Prcoess Execution Time\n",
    "#### 4.Queue Number of Priority\n"
   ]
  },
  {
   "cell_type": "code",
   "execution_count": 1,
   "metadata": {},
   "outputs": [],
   "source": [
    "RoundRobin = []\n",
    "SRT = []\n",
    "SJF = []"
   ]
  }
 ],
 "metadata": {
  "kernelspec": {
   "display_name": "Python 3",
   "language": "python",
   "name": "python3"
  },
  "language_info": {
   "codemirror_mode": {
    "name": "ipython",
    "version": 3
   },
   "file_extension": ".py",
   "mimetype": "text/x-python",
   "name": "python",
   "nbconvert_exporter": "python",
   "pygments_lexer": "ipython3",
   "version": "3.11.4"
  }
 },
 "nbformat": 4,
 "nbformat_minor": 2
}
