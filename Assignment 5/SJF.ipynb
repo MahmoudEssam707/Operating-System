{
 "cells": [
  {
   "cell_type": "code",
   "execution_count": 42,
   "id": "a2596632",
   "metadata": {},
   "outputs": [],
   "source": [
    "def processData(no_of_processes):\n",
    "    process_data = []\n",
    "    for i in range(no_of_processes):\n",
    "        temporary = []\n",
    "        process_id = int(input(\"Enter Process ID: \"))\n",
    "\n",
    "        arrival_time = int(input(f\"Enter Arrival Time for Process {process_id}: \"))\n",
    "\n",
    "        burst_time = int(input(f\"Enter Burst Time for Process {process_id}: \"))\n",
    "        #\"0 means the process hasn't been excuted yet\"\n",
    "        temporary.extend([process_id, arrival_time, burst_time, 0])\n",
    "\n",
    "        process_data.append(temporary)\n",
    "    return process_data"
   ]
  },
  {
   "cell_type": "code",
   "execution_count": 43,
   "id": "303e17ed",
   "metadata": {},
   "outputs": [
    {
     "name": "stdout",
     "output_type": "stream",
     "text": [
      "Enter Process ID: 1\n",
      "Enter Arrival Time for Process 1: 0\n",
      "Enter Burst Time for Process 1: 3\n",
      "Enter Process ID: 2\n",
      "Enter Arrival Time for Process 2: 2\n",
      "Enter Burst Time for Process 2: 9\n",
      "Enter Process ID: 3\n",
      "Enter Arrival Time for Process 3: 4\n",
      "Enter Burst Time for Process 3: 2\n",
      "Enter Process ID: 4\n",
      "Enter Arrival Time for Process 4: 5\n",
      "Enter Burst Time for Process 4: 8\n",
      "Enter Process ID: 5\n",
      "Enter Arrival Time for Process 5: 7\n",
      "Enter Burst Time for Process 5: 4\n"
     ]
    }
   ],
   "source": [
    "praw=processData(5)"
   ]
  },
  {
   "cell_type": "code",
   "execution_count": 50,
   "id": "540f5de4",
   "metadata": {},
   "outputs": [
    {
     "name": "stdout",
     "output_type": "stream",
     "text": [
      "[[1, 0, 3, 1, 3, 6, 3], [2, 2, 9, 1, 21, 30, 19], [3, 4, 2, 1, 8, 10, 12, 4], [4, 5, 8, 1, 38, 33], [5, 7, 4, 1, 42, 35]]\n"
     ]
    }
   ],
   "source": [
    "print(praw)"
   ]
  },
  {
   "cell_type": "code",
   "execution_count": 26,
   "id": "a0c94f93",
   "metadata": {},
   "outputs": [],
   "source": [
    " def schedulingProcess(process_data):\n",
    "        start_time = []\n",
    "        exit_time = []\n",
    "        s_time = 0\n",
    "        #Sort processes according to the Arrival Time\n",
    "        process_data.sort(key=lambda x: x[1])\n",
    "\n",
    "        for i in range(len(process_data)):\n",
    "            ready_queue = []\n",
    "            temp = []\n",
    "            normal_queue = []\n",
    "            for j in range(len(process_data)):\n",
    "                # process_data[j][1] is the Arrival time and process_data[j][3] is the process excution state\n",
    "                if (process_data[j][1] <= s_time) and (process_data[j][3] == 0):\n",
    "                    temp.extend([process_data[j][0], process_data[j][1], process_data[j][2]])\n",
    "                    ready_queue.append(temp)\n",
    "                    temp = [] #clean the temp from the process to check the next process\n",
    "                elif process_data[j][3] == 0:\n",
    "                    temp.extend([process_data[j][0], process_data[j][1], process_data[j][2]])\n",
    "                    normal_queue.append(temp)\n",
    "                    temp = [] #clean the temp from the process to check the next process\n",
    "                if len(ready_queue) != 0:\n",
    "                    ready_queue.sort(key=lambda x: x[2])\n",
    "                    start_time.append(s_time)\n",
    "                    s_time = s_time + ready_queue[0][2]\n",
    "                    e_time = s_time\n",
    "                    exit_time.append(e_time)\n",
    "                    for k in range(len(process_data)):\n",
    "                        if process_data[k][0] == ready_queue[0][0]:\n",
    "                            break\n",
    "                    process_data[k][3] = 1\n",
    "                    process_data[k].append(e_time)\n",
    "        return process_data"
   ]
  },
  {
   "cell_type": "code",
   "execution_count": 16,
   "id": "8fed5680",
   "metadata": {},
   "outputs": [],
   "source": [
    "def calculateTurnaroundTime(process_data):\n",
    "        total_turnaround_time = 0\n",
    "        for i in range(len(process_data)):\n",
    "            turnaround_time = process_data[i][4] - process_data[i][1]\n",
    "\n",
    "            total_turnaround_time = total_turnaround_time + turnaround_time\n",
    "            process_data[i].append(turnaround_time)\n",
    "        average_turnaround_time = total_turnaround_time / len(process_data)\n",
    "\n",
    "        return average_turnaround_time"
   ]
  },
  {
   "cell_type": "code",
   "execution_count": 17,
   "id": "2449fa85",
   "metadata": {},
   "outputs": [],
   "source": [
    "def calculateWaitingTime(process_data):\n",
    "        total_waiting_time = 0\n",
    "        for i in range(len(process_data)):\n",
    "            waiting_time = process_data[i][5] - process_data[i][2]\n",
    "\n",
    "            total_waiting_time = total_waiting_time + waiting_time\n",
    "            process_data[i].append(waiting_time)\n",
    "        average_waiting_time = total_waiting_time / len(process_data)\n",
    "\n",
    "        return average_waiting_time"
   ]
  },
  {
   "cell_type": "code",
   "execution_count": 22,
   "id": "3d1bf6c3",
   "metadata": {},
   "outputs": [],
   "source": [
    " def printData(process_data, average_turnaround_time, average_waiting_time):\n",
    "        process_data.sort(key=lambda x: x[0])\n",
    "        print(\"Process_ID  Arrival_Time  Burst_Time      Completed  Completion_Time  Turnaround_Time  Waiting_Time\")\n",
    "        for i in range(len(process_data)):\n",
    "            for j in range(len(process_data[i])):\n",
    "                print(process_data[i][j], end=\"\t\t\t\t\")\n",
    "        print()\n",
    "        print(f'Average Turnaround Time: {average_turnaround_time}')\n",
    "        print(f'Average Waiting Time: {average_waiting_time}')"
   ]
  },
  {
   "cell_type": "code",
   "execution_count": 45,
   "id": "6f36b1f9",
   "metadata": {},
   "outputs": [],
   "source": [
    "pz=schedulingProcess(praw)"
   ]
  },
  {
   "cell_type": "code",
   "execution_count": 46,
   "id": "a7394493",
   "metadata": {},
   "outputs": [],
   "source": [
    "pTA=calculateTurnaroundTime(pz)"
   ]
  },
  {
   "cell_type": "code",
   "execution_count": 51,
   "id": "466667bc",
   "metadata": {},
   "outputs": [
    {
     "ename": "TypeError",
     "evalue": "calculateWaitingTime() missing 1 required positional argument: 'process_data'",
     "output_type": "error",
     "traceback": [
      "\u001b[1;31m---------------------------------------------------------------------------\u001b[0m",
      "\u001b[1;31mTypeError\u001b[0m                                 Traceback (most recent call last)",
      "Cell \u001b[1;32mIn[51], line 1\u001b[0m\n\u001b[1;32m----> 1\u001b[0m pWT\u001b[38;5;241m=\u001b[39m\u001b[43mcalculateWaitingTime\u001b[49m\u001b[43m(\u001b[49m\u001b[43mpraw\u001b[49m\u001b[43m)\u001b[49m\n",
      "\u001b[1;31mTypeError\u001b[0m: calculateWaitingTime() missing 1 required positional argument: 'process_data'"
     ]
    }
   ],
   "source": [
    "pWT=calculateWaitingTime(praw)"
   ]
  },
  {
   "cell_type": "code",
   "execution_count": null,
   "id": "9346a30b",
   "metadata": {},
   "outputs": [],
   "source": []
  }
 ],
 "metadata": {
  "kernelspec": {
   "display_name": "Python 3 (ipykernel)",
   "language": "python",
   "name": "python3"
  },
  "language_info": {
   "codemirror_mode": {
    "name": "ipython",
    "version": 3
   },
   "file_extension": ".py",
   "mimetype": "text/x-python",
   "name": "python",
   "nbconvert_exporter": "python",
   "pygments_lexer": "ipython3",
   "version": "3.10.9"
  }
 },
 "nbformat": 4,
 "nbformat_minor": 5
}
