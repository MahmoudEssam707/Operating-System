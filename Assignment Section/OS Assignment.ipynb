{
 "cells": [
  {
   "cell_type": "markdown",
   "metadata": {},
   "source": [
    "# Building Up Process Scheduling Program\n",
    "#### Queue1 = Round Robin List take values that has High Priority = 0 with quantum time = 3\n",
    "#### Queue2 = SRJ take values that has medium Priority = 1 with quantum time = 2\n",
    "#### Qeuee3 = SJF take values that has low Priority = 2 without quantum time as it's non-premptive \n",
    "# Needed Inputs\n",
    "#### 1.Process Name (Pi)\n",
    "#### 2.Process Arival Time \n",
    "#### 3.Prcoess Execution Time\n",
    "#### 4.Queue Number of Priority\n"
   ]
  },
  {
   "cell_type": "code",
   "execution_count": 51,
   "metadata": {},
   "outputs": [],
   "source": [
    "import pandas as pd\n",
    "\n",
    "def get_user_input():\n",
    "    n = int(input(\"Enter the number of processes: \"))\n",
    "    process_list = []\n",
    "\n",
    "    for i in range(n):\n",
    "        print(f\"Enter details for process {i + 1}\")\n",
    "        process_id = i\n",
    "        arrival_time = int(input(\"Arrival time: \"))\n",
    "        burst_time = int(input(\"Burst time: \"))\n",
    "        priority = int(input(\"Priority (0 for Round Robin, 1 for SRT, 2 for SJF): \"))\n",
    "\n",
    "        process_list.append(\n",
    "            {\n",
    "                \"Process ID\": process_id,\n",
    "                \"Arrival Time\": arrival_time,\n",
    "                \"Burst Time\": burst_time,\n",
    "                \"Priority\": priority,\n",
    "            }\n",
    "        )\n",
    "\n",
    "    return pd.DataFrame(process_list)"
   ]
  },
  {
   "cell_type": "code",
   "execution_count": 52,
   "metadata": {},
   "outputs": [],
   "source": [
    "def separation_of_queues(data):\n",
    "    rr_df = data[data[\"Priority\"] == 0]\n",
    "    srt_df = data[data[\"Priority\"] == 1]\n",
    "    sjf_df = data[data[\"Priority\"] == 2]\n",
    "\n",
    "    return rr_df, srt_df, sjf_df"
   ]
  },
  {
   "cell_type": "code",
   "execution_count": 58,
   "metadata": {},
   "outputs": [
    {
     "name": "stdout",
     "output_type": "stream",
     "text": [
      "Enter details for process 1\n",
      "Enter details for process 2\n",
      "Enter details for process 3\n",
      "Enter details for process 4\n",
      "Enter details for process 5\n",
      "Enter details for process 6\n",
      "Round Robin Proccess : \n",
      "   Process ID  Arrival Time  Burst Time  Priority\n",
      "1           1             1           8         0\n",
      "5           5            16          10         0\n",
      "\n",
      "Shortest Remaining Time Proccess : \n",
      "   Process ID  Arrival Time  Burst Time  Priority\n",
      "0           0             0           5         1\n",
      "4           4             8           2         1\n",
      "\n",
      "Shortest Job First Proccess : \n",
      "   Process ID  Arrival Time  Burst Time  Priority\n",
      "2           2             3           6         2\n",
      "3           3             5           4         2\n"
     ]
    }
   ],
   "source": [
    "data = get_user_input()\n",
    "rr, srt, sjf_data = separation_of_queues(data)\n",
    "print(\n",
    "     f\"Round Robin Proccess : \\n{rr}\\n\\nShortest Remaining Time Proccess : \\n{srt}\\n\\nShortest Job First Proccess : \\n{sjf_data}\"\n",
    ")"
   ]
  },
  {
   "cell_type": "code",
   "execution_count": 69,
   "metadata": {},
   "outputs": [
    {
     "name": "stdout",
     "output_type": "stream",
     "text": [
      "[{'Process ID': 0, 'Arrival Time': 0, 'Burst Time': 5, 'Priority': 1}]\n",
      "{'Process ID': 0, 'Arrival Time': 0, 'Burst Time': 5, 'Priority': 1}\n",
      "2\n",
      "[{'Process ID': 0, 'Arrival Time': 0, 'Burst Time': 3, 'Priority': 1}]\n",
      "{'Process ID': 0, 'Arrival Time': 0, 'Burst Time': 3, 'Priority': 1}\n",
      "2\n",
      "[{'Process ID': 0, 'Arrival Time': 0, 'Burst Time': 1, 'Priority': 1}]\n",
      "{'Process ID': 0, 'Arrival Time': 0, 'Burst Time': 1, 'Priority': 1}\n",
      "1\n",
      "[]\n",
      "8\n",
      "[{'Process ID': 4, 'Arrival Time': 8, 'Burst Time': 2, 'Priority': 1}]\n",
      "{'Process ID': 4, 'Arrival Time': 8, 'Burst Time': 2, 'Priority': 1}\n",
      "2\n",
      "Completed Processes:\n",
      "Process 0 completed at time 5, Turnaround Time: 5, Waiting Time: 5\n",
      "Process 4 completed at time 10, Turnaround Time: 2, Waiting Time: 2\n",
      "Average Waiting Time: 3.5\n"
     ]
    }
   ],
   "source": [
    "def srtf_scheduler(processes_df):\n",
    "    # Convert DataFrame to a list of dictionaries for easier manipulation\n",
    "    processes = processes_df.to_dict(\"records\")\n",
    "    # Sort processes based on arrival time\n",
    "    processes.sort(key=lambda x: x[\"Arrival Time\"])\n",
    "    # Initialize variables\n",
    "    current_time = 0\n",
    "    completed_processes = []\n",
    "    quantum_time = 2\n",
    "    while processes:\n",
    "        # Filter processes that have arrived by the current time\n",
    "        available_processes = [\n",
    "            p for p in processes if p[\"Arrival Time\"] <= current_time\n",
    "        ]\n",
    "        print(available_processes)\n",
    "\n",
    "        if not available_processes:\n",
    "            # If no process is available, move time to the next arrival\n",
    "            current_time = processes[0][\"Arrival Time\"]\n",
    "            print(current_time)\n",
    "            continue\n",
    "\n",
    "        # Find the process with the shortest remaining time\n",
    "        shortest_process = min(available_processes, key=lambda x: x[\"Burst Time\"])\n",
    "        print(shortest_process)\n",
    "        # Execute the process for the quantum time or until completion\n",
    "        execution_time = min(quantum_time, shortest_process[\"Burst Time\"])\n",
    "        print(execution_time)\n",
    "        current_time += execution_time\n",
    "        shortest_process[\"Burst Time\"] -= execution_time\n",
    "\n",
    "        # Check if the process is completed\n",
    "        if shortest_process[\"Burst Time\"] == 0:\n",
    "            completed_processes.append(\n",
    "                {\n",
    "                    \"Process ID\": shortest_process[\"Process ID\"],\n",
    "                    \"Completion Time\": current_time,\n",
    "                    \"Turnaround Time\": current_time - shortest_process[\"Arrival Time\"],\n",
    "                    \"Waiting Time\": (current_time - shortest_process[\"Arrival Time\"])\n",
    "                    - shortest_process[\"Burst Time\"],\n",
    "                }\n",
    "            )\n",
    "            processes.remove(shortest_process)\n",
    "\n",
    "    return completed_processes\n",
    "\n",
    "# Example usage:\n",
    "if __name__ == \"__main__\":\n",
    "    # Run the SRT scheduler\n",
    "    result = srtf_scheduler(srt)\n",
    "    # Display the result\n",
    "    print(\"Completed Processes:\")\n",
    "    for process in result:\n",
    "        print(\n",
    "            f\"Process {process['Process ID']} completed at time {process['Completion Time']}, \"\n",
    "            f\"Turnaround Time: {process['Turnaround Time']}, Waiting Time: {process['Waiting Time']}\"\n",
    "        )\n",
    "    # Calculate average and average waiting time\n",
    "    turnaround_times = [process[\"Turnaround Time\"] for process in result]\n",
    "    waiting_times = [process[\"Waiting Time\"] for process in result]\n",
    "    avg_waiting_time = sum(waiting_times) / len(waiting_times)\n",
    "    \n",
    "    print(f\"Average Waiting Time: {avg_waiting_time}\")"
   ]
  }
 ],
 "metadata": {
  "kernelspec": {
   "display_name": "Python 3",
   "language": "python",
   "name": "python3"
  },
  "language_info": {
   "codemirror_mode": {
    "name": "ipython",
    "version": 3
   },
   "file_extension": ".py",
   "mimetype": "text/x-python",
   "name": "python",
   "nbconvert_exporter": "python",
   "pygments_lexer": "ipython3",
   "version": "3.11.4"
  }
 },
 "nbformat": 4,
 "nbformat_minor": 2
}
